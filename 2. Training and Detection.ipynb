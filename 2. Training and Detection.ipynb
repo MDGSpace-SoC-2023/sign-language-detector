{
 "cells": [
  {
   "cell_type": "markdown",
   "metadata": {
    "id": "QUANWN3rpfC9"
   },
   "source": [
    "# 0. Setup Paths"
   ]
  },
  {
   "cell_type": "code",
   "execution_count": 1,
   "metadata": {
    "id": "146BB11JpfDA"
   },
   "outputs": [],
   "source": [
    "import os"
   ]
  },
  {
   "cell_type": "code",
   "execution_count": 2,
   "metadata": {
    "id": "42hJEdo_pfDB"
   },
   "outputs": [],
   "source": [
    "CUSTOM_MODEL_NAME = 'my_ssd_mobnet' \n",
    "PRETRAINED_MODEL_NAME = 'ssd_mobilenet_v2_fpnlite_320x320_coco17_tpu-8'\n",
    "PRETRAINED_MODEL_URL = 'http://download.tensorflow.org/models/object_detection/tf2/20200711/ssd_mobilenet_v2_fpnlite_320x320_coco17_tpu-8.tar.gz'\n",
    "TF_RECORD_SCRIPT_NAME = 'generate_tfrecord.py'\n",
    "LABEL_MAP_NAME = 'label_map.pbtxt'"
   ]
  },
  {
   "cell_type": "code",
   "execution_count": 3,
   "metadata": {
    "id": "hbPhYVy_pfDB"
   },
   "outputs": [],
   "source": [
    "paths = {\n",
    "    'WORKSPACE_PATH': os.path.join('Tensorflow', 'workspace'),\n",
    "    'SCRIPTS_PATH': os.path.join('Tensorflow','scripts'),\n",
    "    'APIMODEL_PATH': os.path.join('Tensorflow','models'),\n",
    "    'ANNOTATION_PATH': os.path.join('Tensorflow', 'workspace','annotations'),\n",
    "    'IMAGE_PATH': os.path.join('Tensorflow', 'workspace','images'),\n",
    "    'MODEL_PATH': os.path.join('Tensorflow', 'workspace','models'),\n",
    "    'PRETRAINED_MODEL_PATH': os.path.join('Tensorflow', 'workspace','pre-trained-models'),\n",
    "    'CHECKPOINT_PATH': os.path.join('Tensorflow', 'workspace','models',CUSTOM_MODEL_NAME), \n",
    "    'OUTPUT_PATH': os.path.join('Tensorflow', 'workspace','models',CUSTOM_MODEL_NAME, 'export'), \n",
    "    'TFJS_PATH':os.path.join('Tensorflow', 'workspace','models',CUSTOM_MODEL_NAME, 'tfjsexport'), \n",
    "    'TFLITE_PATH':os.path.join('Tensorflow', 'workspace','models',CUSTOM_MODEL_NAME, 'tfliteexport'), \n",
    "    'PROTOC_PATH':os.path.join('Tensorflow','protoc')\n",
    " }"
   ]
  },
  {
   "cell_type": "code",
   "execution_count": 4,
   "metadata": {
    "id": "LwhWZMI0pfDC"
   },
   "outputs": [],
   "source": [
    "files = {\n",
    "    'PIPELINE_CONFIG':os.path.join('Tensorflow', 'workspace','models', CUSTOM_MODEL_NAME, 'pipeline.config'),\n",
    "    'TF_RECORD_SCRIPT': os.path.join(paths['SCRIPTS_PATH'], TF_RECORD_SCRIPT_NAME), \n",
    "    'LABELMAP': os.path.join(paths['ANNOTATION_PATH'], LABEL_MAP_NAME)\n",
    "}"
   ]
  },
  {
   "cell_type": "code",
   "execution_count": 5,
   "metadata": {
    "id": "HR-TfDGrpfDC"
   },
   "outputs": [],
   "source": [
    "for path in paths.values():\n",
    "    if not os.path.exists(path):\n",
    "        if os.name == 'posix':\n",
    "            !mkdir -p {path}\n",
    "        if os.name == 'nt':\n",
    "            !mkdir {path}"
   ]
  },
  {
   "cell_type": "markdown",
   "metadata": {
    "id": "OLU-rs_ipfDE"
   },
   "source": [
    "# 1. Download TF Models Pretrained Models from Tensorflow Model Zoo and Install TFOD"
   ]
  },
  {
   "cell_type": "code",
   "execution_count": 6,
   "metadata": {},
   "outputs": [],
   "source": [
    "# https://www.tensorflow.org/install/source_windows"
   ]
  },
  {
   "cell_type": "code",
   "execution_count": 6,
   "metadata": {
    "id": "K-Cmz2edpfDE",
    "scrolled": true
   },
   "outputs": [],
   "source": [
    "\n",
    "if os.name=='nt':\n",
    "    !pip install wget\n",
    "    import wget"
   ]
  },
  {
   "cell_type": "code",
   "execution_count": 8,
   "metadata": {
    "id": "iA1DIq5OpfDE"
   },
   "outputs": [],
   "source": [
    "if not os.path.exists(os.path.join(paths['APIMODEL_PATH'], 'research', 'object_detection')):\n",
    "    !git clone https://github.com/tensorflow/models {paths['APIMODEL_PATH']}"
   ]
  },
  {
   "cell_type": "code",
   "execution_count": 9,
   "metadata": {
    "id": "rJjMHbnDs3Tv",
    "scrolled": true
   },
   "outputs": [
    {
     "name": "stdout",
     "output_type": "stream",
     "text": [
      "E: Could not open lock file /var/lib/dpkg/lock-frontend - open (13: Permission denied)\n",
      "E: Unable to acquire the dpkg frontend lock (/var/lib/dpkg/lock-frontend), are you root?\n",
      "Processing /home/ronit/Documents/SOC/sign langauge detector/TFODCourse/Tensorflow/models/research\n",
      "  Preparing metadata (setup.py) ... \u001b[?25ldone\n",
      "\u001b[?25hRequirement already satisfied: Cython in /home/ronit/Documents/SOC/sign langauge detector/TFODCourse/tfod/lib/python3.8/site-packages (from object-detection==0.1) (3.0.7)\n",
      "Requirement already satisfied: apache-beam in /home/ronit/Documents/SOC/sign langauge detector/TFODCourse/tfod/lib/python3.8/site-packages (from object-detection==0.1) (2.52.0)\n",
      "Requirement already satisfied: avro-python3 in /home/ronit/Documents/SOC/sign langauge detector/TFODCourse/tfod/lib/python3.8/site-packages (from object-detection==0.1) (1.10.2)\n",
      "Requirement already satisfied: contextlib2 in /home/ronit/Documents/SOC/sign langauge detector/TFODCourse/tfod/lib/python3.8/site-packages (from object-detection==0.1) (21.6.0)\n",
      "Requirement already satisfied: keras in /home/ronit/Documents/SOC/sign langauge detector/TFODCourse/tfod/lib/python3.8/site-packages (from object-detection==0.1) (2.13.1)\n",
      "Requirement already satisfied: lvis in /home/ronit/Documents/SOC/sign langauge detector/TFODCourse/tfod/lib/python3.8/site-packages (from object-detection==0.1) (0.5.3)\n",
      "Requirement already satisfied: lxml in /home/ronit/Documents/SOC/sign langauge detector/TFODCourse/tfod/lib/python3.8/site-packages (from object-detection==0.1) (5.0.0)\n",
      "Requirement already satisfied: matplotlib in /home/ronit/Documents/SOC/sign langauge detector/TFODCourse/tfod/lib/python3.8/site-packages (from object-detection==0.1) (3.7.4)\n",
      "Requirement already satisfied: pandas in /home/ronit/Documents/SOC/sign langauge detector/TFODCourse/tfod/lib/python3.8/site-packages (from object-detection==0.1) (2.0.3)\n",
      "Requirement already satisfied: pillow in /home/ronit/Documents/SOC/sign langauge detector/TFODCourse/tfod/lib/python3.8/site-packages (from object-detection==0.1) (10.2.0)\n",
      "Requirement already satisfied: pycocotools in /home/ronit/Documents/SOC/sign langauge detector/TFODCourse/tfod/lib/python3.8/site-packages (from object-detection==0.1) (2.0.7)\n",
      "Requirement already satisfied: pyparsing==2.4.7 in /home/ronit/Documents/SOC/sign langauge detector/TFODCourse/tfod/lib/python3.8/site-packages (from object-detection==0.1) (2.4.7)\n",
      "Requirement already satisfied: sacrebleu<=2.2.0 in /home/ronit/Documents/SOC/sign langauge detector/TFODCourse/tfod/lib/python3.8/site-packages (from object-detection==0.1) (2.2.0)\n",
      "Requirement already satisfied: scipy in /home/ronit/Documents/SOC/sign langauge detector/TFODCourse/tfod/lib/python3.8/site-packages (from object-detection==0.1) (1.10.1)\n",
      "Requirement already satisfied: six in /home/ronit/Documents/SOC/sign langauge detector/TFODCourse/tfod/lib/python3.8/site-packages (from object-detection==0.1) (1.16.0)\n",
      "Requirement already satisfied: tensorflow_io in /home/ronit/Documents/SOC/sign langauge detector/TFODCourse/tfod/lib/python3.8/site-packages (from object-detection==0.1) (0.34.0)\n",
      "Requirement already satisfied: tf-models-official>=2.5.1 in /home/ronit/Documents/SOC/sign langauge detector/TFODCourse/tfod/lib/python3.8/site-packages (from object-detection==0.1) (2.13.2)\n",
      "Requirement already satisfied: tf-slim in /home/ronit/Documents/SOC/sign langauge detector/TFODCourse/tfod/lib/python3.8/site-packages (from object-detection==0.1) (1.1.0)\n",
      "Requirement already satisfied: portalocker in /home/ronit/Documents/SOC/sign langauge detector/TFODCourse/tfod/lib/python3.8/site-packages (from sacrebleu<=2.2.0->object-detection==0.1) (2.8.2)\n",
      "Requirement already satisfied: regex in /home/ronit/Documents/SOC/sign langauge detector/TFODCourse/tfod/lib/python3.8/site-packages (from sacrebleu<=2.2.0->object-detection==0.1) (2023.12.25)\n",
      "Requirement already satisfied: tabulate>=0.8.9 in /home/ronit/Documents/SOC/sign langauge detector/TFODCourse/tfod/lib/python3.8/site-packages (from sacrebleu<=2.2.0->object-detection==0.1) (0.9.0)\n",
      "Requirement already satisfied: numpy>=1.17 in /home/ronit/Documents/SOC/sign langauge detector/TFODCourse/tfod/lib/python3.8/site-packages (from sacrebleu<=2.2.0->object-detection==0.1) (1.24.3)\n",
      "Requirement already satisfied: colorama in /home/ronit/Documents/SOC/sign langauge detector/TFODCourse/tfod/lib/python3.8/site-packages (from sacrebleu<=2.2.0->object-detection==0.1) (0.4.6)\n",
      "Requirement already satisfied: gin-config in /home/ronit/Documents/SOC/sign langauge detector/TFODCourse/tfod/lib/python3.8/site-packages (from tf-models-official>=2.5.1->object-detection==0.1) (0.5.0)\n",
      "Requirement already satisfied: google-api-python-client>=1.6.7 in /home/ronit/Documents/SOC/sign langauge detector/TFODCourse/tfod/lib/python3.8/site-packages (from tf-models-official>=2.5.1->object-detection==0.1) (2.111.0)\n",
      "Requirement already satisfied: immutabledict in /home/ronit/Documents/SOC/sign langauge detector/TFODCourse/tfod/lib/python3.8/site-packages (from tf-models-official>=2.5.1->object-detection==0.1) (4.1.0)\n",
      "Requirement already satisfied: kaggle>=1.3.9 in /home/ronit/Documents/SOC/sign langauge detector/TFODCourse/tfod/lib/python3.8/site-packages (from tf-models-official>=2.5.1->object-detection==0.1) (1.5.16)\n",
      "Requirement already satisfied: oauth2client in /home/ronit/Documents/SOC/sign langauge detector/TFODCourse/tfod/lib/python3.8/site-packages (from tf-models-official>=2.5.1->object-detection==0.1) (4.1.3)\n",
      "Collecting opencv-python-headless (from tf-models-official>=2.5.1->object-detection==0.1)\n",
      "  Using cached opencv_python_headless-4.9.0.80-cp37-abi3-manylinux_2_17_x86_64.manylinux2014_x86_64.whl.metadata (20 kB)\n",
      "Requirement already satisfied: psutil>=5.4.3 in /home/ronit/Documents/SOC/sign langauge detector/TFODCourse/tfod/lib/python3.8/site-packages (from tf-models-official>=2.5.1->object-detection==0.1) (5.9.7)\n",
      "Requirement already satisfied: py-cpuinfo>=3.3.0 in /home/ronit/Documents/SOC/sign langauge detector/TFODCourse/tfod/lib/python3.8/site-packages (from tf-models-official>=2.5.1->object-detection==0.1) (9.0.0)\n",
      "Requirement already satisfied: pyyaml>=6.0.0 in /home/ronit/Documents/SOC/sign langauge detector/TFODCourse/tfod/lib/python3.8/site-packages (from tf-models-official>=2.5.1->object-detection==0.1) (6.0.1)\n",
      "Requirement already satisfied: sentencepiece in /home/ronit/Documents/SOC/sign langauge detector/TFODCourse/tfod/lib/python3.8/site-packages (from tf-models-official>=2.5.1->object-detection==0.1) (0.1.99)\n",
      "Requirement already satisfied: seqeval in /home/ronit/Documents/SOC/sign langauge detector/TFODCourse/tfod/lib/python3.8/site-packages (from tf-models-official>=2.5.1->object-detection==0.1) (1.2.2)\n",
      "Requirement already satisfied: tensorflow-datasets in /home/ronit/Documents/SOC/sign langauge detector/TFODCourse/tfod/lib/python3.8/site-packages (from tf-models-official>=2.5.1->object-detection==0.1) (4.9.2)\n",
      "Requirement already satisfied: tensorflow-hub>=0.6.0 in /home/ronit/Documents/SOC/sign langauge detector/TFODCourse/tfod/lib/python3.8/site-packages (from tf-models-official>=2.5.1->object-detection==0.1) (0.15.0)\n",
      "Requirement already satisfied: tensorflow-model-optimization>=0.4.1 in /home/ronit/Documents/SOC/sign langauge detector/TFODCourse/tfod/lib/python3.8/site-packages (from tf-models-official>=2.5.1->object-detection==0.1) (0.7.5)\n",
      "Requirement already satisfied: tensorflow-text~=2.13.0 in /home/ronit/Documents/SOC/sign langauge detector/TFODCourse/tfod/lib/python3.8/site-packages (from tf-models-official>=2.5.1->object-detection==0.1) (2.13.0)\n",
      "Requirement already satisfied: tensorflow~=2.13.0 in /home/ronit/Documents/SOC/sign langauge detector/TFODCourse/tfod/lib/python3.8/site-packages (from tf-models-official>=2.5.1->object-detection==0.1) (2.13.1)\n",
      "Requirement already satisfied: python-dateutil>=2.8.2 in /home/ronit/Documents/SOC/sign langauge detector/TFODCourse/tfod/lib/python3.8/site-packages (from pandas->object-detection==0.1) (2.8.2)\n",
      "Requirement already satisfied: pytz>=2020.1 in /home/ronit/Documents/SOC/sign langauge detector/TFODCourse/tfod/lib/python3.8/site-packages (from pandas->object-detection==0.1) (2023.3.post1)\n",
      "Requirement already satisfied: tzdata>=2022.1 in /home/ronit/Documents/SOC/sign langauge detector/TFODCourse/tfod/lib/python3.8/site-packages (from pandas->object-detection==0.1) (2023.4)\n",
      "Requirement already satisfied: absl-py>=0.2.2 in /home/ronit/Documents/SOC/sign langauge detector/TFODCourse/tfod/lib/python3.8/site-packages (from tf-slim->object-detection==0.1) (1.4.0)\n",
      "Requirement already satisfied: crcmod<2.0,>=1.7 in /home/ronit/Documents/SOC/sign langauge detector/TFODCourse/tfod/lib/python3.8/site-packages (from apache-beam->object-detection==0.1) (1.7)\n",
      "Requirement already satisfied: orjson<4,>=3.9.7 in /home/ronit/Documents/SOC/sign langauge detector/TFODCourse/tfod/lib/python3.8/site-packages (from apache-beam->object-detection==0.1) (3.9.10)\n",
      "Requirement already satisfied: dill<0.3.2,>=0.3.1.1 in /home/ronit/Documents/SOC/sign langauge detector/TFODCourse/tfod/lib/python3.8/site-packages (from apache-beam->object-detection==0.1) (0.3.1.1)\n",
      "Requirement already satisfied: cloudpickle~=2.2.1 in /home/ronit/Documents/SOC/sign langauge detector/TFODCourse/tfod/lib/python3.8/site-packages (from apache-beam->object-detection==0.1) (2.2.1)\n",
      "Requirement already satisfied: fastavro<2,>=0.23.6 in /home/ronit/Documents/SOC/sign langauge detector/TFODCourse/tfod/lib/python3.8/site-packages (from apache-beam->object-detection==0.1) (1.9.2)\n",
      "Requirement already satisfied: fasteners<1.0,>=0.3 in /home/ronit/Documents/SOC/sign langauge detector/TFODCourse/tfod/lib/python3.8/site-packages (from apache-beam->object-detection==0.1) (0.19)\n",
      "Requirement already satisfied: grpcio!=1.48.0,<2,>=1.33.1 in /home/ronit/Documents/SOC/sign langauge detector/TFODCourse/tfod/lib/python3.8/site-packages (from apache-beam->object-detection==0.1) (1.60.0)\n",
      "Requirement already satisfied: hdfs<3.0.0,>=2.1.0 in /home/ronit/Documents/SOC/sign langauge detector/TFODCourse/tfod/lib/python3.8/site-packages (from apache-beam->object-detection==0.1) (2.7.3)\n",
      "Requirement already satisfied: httplib2<0.23.0,>=0.8 in /home/ronit/Documents/SOC/sign langauge detector/TFODCourse/tfod/lib/python3.8/site-packages (from apache-beam->object-detection==0.1) (0.22.0)\n",
      "Requirement already satisfied: js2py<1,>=0.74 in /home/ronit/Documents/SOC/sign langauge detector/TFODCourse/tfod/lib/python3.8/site-packages (from apache-beam->object-detection==0.1) (0.74)\n",
      "Requirement already satisfied: jsonschema<5.0.0,>=4.0.0 in /home/ronit/Documents/SOC/sign langauge detector/TFODCourse/tfod/lib/python3.8/site-packages (from apache-beam->object-detection==0.1) (4.20.0)\n",
      "Requirement already satisfied: objsize<0.7.0,>=0.6.1 in /home/ronit/Documents/SOC/sign langauge detector/TFODCourse/tfod/lib/python3.8/site-packages (from apache-beam->object-detection==0.1) (0.6.1)\n",
      "Requirement already satisfied: packaging>=22.0 in /home/ronit/Documents/SOC/sign langauge detector/TFODCourse/tfod/lib/python3.8/site-packages (from apache-beam->object-detection==0.1) (23.2)\n",
      "Requirement already satisfied: pymongo<5.0.0,>=3.8.0 in /home/ronit/Documents/SOC/sign langauge detector/TFODCourse/tfod/lib/python3.8/site-packages (from apache-beam->object-detection==0.1) (4.6.1)\n",
      "Requirement already satisfied: proto-plus<2,>=1.7.1 in /home/ronit/Documents/SOC/sign langauge detector/TFODCourse/tfod/lib/python3.8/site-packages (from apache-beam->object-detection==0.1) (1.23.0)\n",
      "Requirement already satisfied: protobuf!=4.0.*,!=4.21.*,!=4.22.0,!=4.23.*,!=4.24.*,<4.26.0,>=3.20.3 in /home/ronit/Documents/SOC/sign langauge detector/TFODCourse/tfod/lib/python3.8/site-packages (from apache-beam->object-detection==0.1) (3.20.3)\n",
      "Requirement already satisfied: pydot<2,>=1.2.0 in /home/ronit/Documents/SOC/sign langauge detector/TFODCourse/tfod/lib/python3.8/site-packages (from apache-beam->object-detection==0.1) (1.4.2)\n",
      "Requirement already satisfied: requests<3.0.0,>=2.24.0 in /home/ronit/Documents/SOC/sign langauge detector/TFODCourse/tfod/lib/python3.8/site-packages (from apache-beam->object-detection==0.1) (2.31.0)\n",
      "Requirement already satisfied: typing-extensions>=3.7.0 in /home/ronit/Documents/SOC/sign langauge detector/TFODCourse/tfod/lib/python3.8/site-packages (from apache-beam->object-detection==0.1) (4.5.0)\n",
      "Requirement already satisfied: zstandard<1,>=0.18.0 in /home/ronit/Documents/SOC/sign langauge detector/TFODCourse/tfod/lib/python3.8/site-packages (from apache-beam->object-detection==0.1) (0.22.0)\n",
      "Requirement already satisfied: pyarrow<12.0.0,>=3.0.0 in /home/ronit/Documents/SOC/sign langauge detector/TFODCourse/tfod/lib/python3.8/site-packages (from apache-beam->object-detection==0.1) (11.0.0)\n",
      "Requirement already satisfied: pyarrow-hotfix<1 in /home/ronit/Documents/SOC/sign langauge detector/TFODCourse/tfod/lib/python3.8/site-packages (from apache-beam->object-detection==0.1) (0.6)\n",
      "Requirement already satisfied: cycler>=0.10.0 in /home/ronit/Documents/SOC/sign langauge detector/TFODCourse/tfod/lib/python3.8/site-packages (from lvis->object-detection==0.1) (0.12.1)\n",
      "Requirement already satisfied: kiwisolver>=1.1.0 in /home/ronit/Documents/SOC/sign langauge detector/TFODCourse/tfod/lib/python3.8/site-packages (from lvis->object-detection==0.1) (1.4.5)\n",
      "Requirement already satisfied: opencv-python>=4.1.0.25 in /home/ronit/Documents/SOC/sign langauge detector/TFODCourse/tfod/lib/python3.8/site-packages (from lvis->object-detection==0.1) (4.9.0.80)\n",
      "Requirement already satisfied: contourpy>=1.0.1 in /home/ronit/Documents/SOC/sign langauge detector/TFODCourse/tfod/lib/python3.8/site-packages (from matplotlib->object-detection==0.1) (1.1.1)\n",
      "Requirement already satisfied: fonttools>=4.22.0 in /home/ronit/Documents/SOC/sign langauge detector/TFODCourse/tfod/lib/python3.8/site-packages (from matplotlib->object-detection==0.1) (4.47.0)\n",
      "Requirement already satisfied: importlib-resources>=3.2.0 in /home/ronit/Documents/SOC/sign langauge detector/TFODCourse/tfod/lib/python3.8/site-packages (from matplotlib->object-detection==0.1) (6.1.1)\n",
      "Requirement already satisfied: tensorflow-io-gcs-filesystem==0.34.0 in /home/ronit/Documents/SOC/sign langauge detector/TFODCourse/tfod/lib/python3.8/site-packages (from tensorflow_io->object-detection==0.1) (0.34.0)\n",
      "Requirement already satisfied: google-auth<3.0.0.dev0,>=1.19.0 in /home/ronit/Documents/SOC/sign langauge detector/TFODCourse/tfod/lib/python3.8/site-packages (from google-api-python-client>=1.6.7->tf-models-official>=2.5.1->object-detection==0.1) (2.25.2)\n",
      "Requirement already satisfied: google-auth-httplib2>=0.1.0 in /home/ronit/Documents/SOC/sign langauge detector/TFODCourse/tfod/lib/python3.8/site-packages (from google-api-python-client>=1.6.7->tf-models-official>=2.5.1->object-detection==0.1) (0.2.0)\n",
      "Requirement already satisfied: google-api-core!=2.0.*,!=2.1.*,!=2.2.*,!=2.3.0,<3.0.0.dev0,>=1.31.5 in /home/ronit/Documents/SOC/sign langauge detector/TFODCourse/tfod/lib/python3.8/site-packages (from google-api-python-client>=1.6.7->tf-models-official>=2.5.1->object-detection==0.1) (2.15.0)\n",
      "Requirement already satisfied: uritemplate<5,>=3.0.1 in /home/ronit/Documents/SOC/sign langauge detector/TFODCourse/tfod/lib/python3.8/site-packages (from google-api-python-client>=1.6.7->tf-models-official>=2.5.1->object-detection==0.1) (4.1.1)\n",
      "Requirement already satisfied: docopt in /home/ronit/Documents/SOC/sign langauge detector/TFODCourse/tfod/lib/python3.8/site-packages (from hdfs<3.0.0,>=2.1.0->apache-beam->object-detection==0.1) (0.6.2)\n",
      "Requirement already satisfied: zipp>=3.1.0 in /home/ronit/Documents/SOC/sign langauge detector/TFODCourse/tfod/lib/python3.8/site-packages (from importlib-resources>=3.2.0->matplotlib->object-detection==0.1) (3.17.0)\n",
      "Requirement already satisfied: tzlocal>=1.2 in /home/ronit/Documents/SOC/sign langauge detector/TFODCourse/tfod/lib/python3.8/site-packages (from js2py<1,>=0.74->apache-beam->object-detection==0.1) (5.2)\n",
      "Requirement already satisfied: pyjsparser>=2.5.1 in /home/ronit/Documents/SOC/sign langauge detector/TFODCourse/tfod/lib/python3.8/site-packages (from js2py<1,>=0.74->apache-beam->object-detection==0.1) (2.7.1)\n",
      "Requirement already satisfied: attrs>=22.2.0 in /home/ronit/Documents/SOC/sign langauge detector/TFODCourse/tfod/lib/python3.8/site-packages (from jsonschema<5.0.0,>=4.0.0->apache-beam->object-detection==0.1) (23.2.0)\n",
      "Requirement already satisfied: jsonschema-specifications>=2023.03.6 in /home/ronit/Documents/SOC/sign langauge detector/TFODCourse/tfod/lib/python3.8/site-packages (from jsonschema<5.0.0,>=4.0.0->apache-beam->object-detection==0.1) (2023.12.1)\n",
      "Requirement already satisfied: pkgutil-resolve-name>=1.3.10 in /home/ronit/Documents/SOC/sign langauge detector/TFODCourse/tfod/lib/python3.8/site-packages (from jsonschema<5.0.0,>=4.0.0->apache-beam->object-detection==0.1) (1.3.10)\n",
      "Requirement already satisfied: referencing>=0.28.4 in /home/ronit/Documents/SOC/sign langauge detector/TFODCourse/tfod/lib/python3.8/site-packages (from jsonschema<5.0.0,>=4.0.0->apache-beam->object-detection==0.1) (0.32.0)\n",
      "Requirement already satisfied: rpds-py>=0.7.1 in /home/ronit/Documents/SOC/sign langauge detector/TFODCourse/tfod/lib/python3.8/site-packages (from jsonschema<5.0.0,>=4.0.0->apache-beam->object-detection==0.1) (0.16.2)\n",
      "Requirement already satisfied: certifi in /home/ronit/Documents/SOC/sign langauge detector/TFODCourse/tfod/lib/python3.8/site-packages (from kaggle>=1.3.9->tf-models-official>=2.5.1->object-detection==0.1) (2023.11.17)\n",
      "Requirement already satisfied: tqdm in /home/ronit/Documents/SOC/sign langauge detector/TFODCourse/tfod/lib/python3.8/site-packages (from kaggle>=1.3.9->tf-models-official>=2.5.1->object-detection==0.1) (4.66.1)\n",
      "Requirement already satisfied: python-slugify in /home/ronit/Documents/SOC/sign langauge detector/TFODCourse/tfod/lib/python3.8/site-packages (from kaggle>=1.3.9->tf-models-official>=2.5.1->object-detection==0.1) (8.0.1)\n",
      "Requirement already satisfied: urllib3 in /home/ronit/Documents/SOC/sign langauge detector/TFODCourse/tfod/lib/python3.8/site-packages (from kaggle>=1.3.9->tf-models-official>=2.5.1->object-detection==0.1) (2.1.0)\n",
      "Requirement already satisfied: bleach in /home/ronit/Documents/SOC/sign langauge detector/TFODCourse/tfod/lib/python3.8/site-packages (from kaggle>=1.3.9->tf-models-official>=2.5.1->object-detection==0.1) (6.1.0)\n",
      "Requirement already satisfied: dnspython<3.0.0,>=1.16.0 in /home/ronit/Documents/SOC/sign langauge detector/TFODCourse/tfod/lib/python3.8/site-packages (from pymongo<5.0.0,>=3.8.0->apache-beam->object-detection==0.1) (2.4.2)\n",
      "Requirement already satisfied: charset-normalizer<4,>=2 in /home/ronit/Documents/SOC/sign langauge detector/TFODCourse/tfod/lib/python3.8/site-packages (from requests<3.0.0,>=2.24.0->apache-beam->object-detection==0.1) (3.3.2)\n",
      "Requirement already satisfied: idna<4,>=2.5 in /home/ronit/Documents/SOC/sign langauge detector/TFODCourse/tfod/lib/python3.8/site-packages (from requests<3.0.0,>=2.24.0->apache-beam->object-detection==0.1) (3.6)\n",
      "Requirement already satisfied: astunparse>=1.6.0 in /home/ronit/Documents/SOC/sign langauge detector/TFODCourse/tfod/lib/python3.8/site-packages (from tensorflow~=2.13.0->tf-models-official>=2.5.1->object-detection==0.1) (1.6.3)\n",
      "Requirement already satisfied: flatbuffers>=23.1.21 in /home/ronit/Documents/SOC/sign langauge detector/TFODCourse/tfod/lib/python3.8/site-packages (from tensorflow~=2.13.0->tf-models-official>=2.5.1->object-detection==0.1) (23.5.26)\n",
      "Requirement already satisfied: gast<=0.4.0,>=0.2.1 in /home/ronit/Documents/SOC/sign langauge detector/TFODCourse/tfod/lib/python3.8/site-packages (from tensorflow~=2.13.0->tf-models-official>=2.5.1->object-detection==0.1) (0.4.0)\n",
      "Requirement already satisfied: google-pasta>=0.1.1 in /home/ronit/Documents/SOC/sign langauge detector/TFODCourse/tfod/lib/python3.8/site-packages (from tensorflow~=2.13.0->tf-models-official>=2.5.1->object-detection==0.1) (0.2.0)\n",
      "Requirement already satisfied: h5py>=2.9.0 in /home/ronit/Documents/SOC/sign langauge detector/TFODCourse/tfod/lib/python3.8/site-packages (from tensorflow~=2.13.0->tf-models-official>=2.5.1->object-detection==0.1) (3.10.0)\n",
      "Requirement already satisfied: libclang>=13.0.0 in /home/ronit/Documents/SOC/sign langauge detector/TFODCourse/tfod/lib/python3.8/site-packages (from tensorflow~=2.13.0->tf-models-official>=2.5.1->object-detection==0.1) (16.0.6)\n",
      "Requirement already satisfied: opt-einsum>=2.3.2 in /home/ronit/Documents/SOC/sign langauge detector/TFODCourse/tfod/lib/python3.8/site-packages (from tensorflow~=2.13.0->tf-models-official>=2.5.1->object-detection==0.1) (3.3.0)\n",
      "Requirement already satisfied: setuptools in /home/ronit/Documents/SOC/sign langauge detector/TFODCourse/tfod/lib/python3.8/site-packages (from tensorflow~=2.13.0->tf-models-official>=2.5.1->object-detection==0.1) (44.0.0)\n",
      "Requirement already satisfied: tensorboard<2.14,>=2.13 in /home/ronit/Documents/SOC/sign langauge detector/TFODCourse/tfod/lib/python3.8/site-packages (from tensorflow~=2.13.0->tf-models-official>=2.5.1->object-detection==0.1) (2.13.0)\n",
      "Requirement already satisfied: tensorflow-estimator<2.14,>=2.13.0 in /home/ronit/Documents/SOC/sign langauge detector/TFODCourse/tfod/lib/python3.8/site-packages (from tensorflow~=2.13.0->tf-models-official>=2.5.1->object-detection==0.1) (2.13.0)\n",
      "Requirement already satisfied: termcolor>=1.1.0 in /home/ronit/Documents/SOC/sign langauge detector/TFODCourse/tfod/lib/python3.8/site-packages (from tensorflow~=2.13.0->tf-models-official>=2.5.1->object-detection==0.1) (2.4.0)\n",
      "Requirement already satisfied: wrapt>=1.11.0 in /home/ronit/Documents/SOC/sign langauge detector/TFODCourse/tfod/lib/python3.8/site-packages (from tensorflow~=2.13.0->tf-models-official>=2.5.1->object-detection==0.1) (1.16.0)\n",
      "Requirement already satisfied: dm-tree~=0.1.1 in /home/ronit/Documents/SOC/sign langauge detector/TFODCourse/tfod/lib/python3.8/site-packages (from tensorflow-model-optimization>=0.4.1->tf-models-official>=2.5.1->object-detection==0.1) (0.1.8)\n",
      "Requirement already satisfied: pyasn1>=0.1.7 in /home/ronit/Documents/SOC/sign langauge detector/TFODCourse/tfod/lib/python3.8/site-packages (from oauth2client->tf-models-official>=2.5.1->object-detection==0.1) (0.5.1)\n",
      "Requirement already satisfied: pyasn1-modules>=0.0.5 in /home/ronit/Documents/SOC/sign langauge detector/TFODCourse/tfod/lib/python3.8/site-packages (from oauth2client->tf-models-official>=2.5.1->object-detection==0.1) (0.3.0)\n",
      "Requirement already satisfied: rsa>=3.1.4 in /home/ronit/Documents/SOC/sign langauge detector/TFODCourse/tfod/lib/python3.8/site-packages (from oauth2client->tf-models-official>=2.5.1->object-detection==0.1) (4.9)\n",
      "Requirement already satisfied: scikit-learn>=0.21.3 in /home/ronit/Documents/SOC/sign langauge detector/TFODCourse/tfod/lib/python3.8/site-packages (from seqeval->tf-models-official>=2.5.1->object-detection==0.1) (1.3.2)\n",
      "Requirement already satisfied: array-record in /home/ronit/Documents/SOC/sign langauge detector/TFODCourse/tfod/lib/python3.8/site-packages (from tensorflow-datasets->tf-models-official>=2.5.1->object-detection==0.1) (0.4.0)\n",
      "Requirement already satisfied: click in /home/ronit/Documents/SOC/sign langauge detector/TFODCourse/tfod/lib/python3.8/site-packages (from tensorflow-datasets->tf-models-official>=2.5.1->object-detection==0.1) (8.1.7)\n",
      "Requirement already satisfied: etils>=0.9.0 in /home/ronit/Documents/SOC/sign langauge detector/TFODCourse/tfod/lib/python3.8/site-packages (from etils[enp,epath]>=0.9.0->tensorflow-datasets->tf-models-official>=2.5.1->object-detection==0.1) (1.3.0)\n",
      "Requirement already satisfied: promise in /home/ronit/Documents/SOC/sign langauge detector/TFODCourse/tfod/lib/python3.8/site-packages (from tensorflow-datasets->tf-models-official>=2.5.1->object-detection==0.1) (2.3)\n",
      "Requirement already satisfied: tensorflow-metadata in /home/ronit/Documents/SOC/sign langauge detector/TFODCourse/tfod/lib/python3.8/site-packages (from tensorflow-datasets->tf-models-official>=2.5.1->object-detection==0.1) (1.14.0)\n",
      "Requirement already satisfied: toml in /home/ronit/Documents/SOC/sign langauge detector/TFODCourse/tfod/lib/python3.8/site-packages (from tensorflow-datasets->tf-models-official>=2.5.1->object-detection==0.1) (0.10.2)\n",
      "Requirement already satisfied: wheel<1.0,>=0.23.0 in /home/ronit/Documents/SOC/sign langauge detector/TFODCourse/tfod/lib/python3.8/site-packages (from astunparse>=1.6.0->tensorflow~=2.13.0->tf-models-official>=2.5.1->object-detection==0.1) (0.42.0)\n",
      "Requirement already satisfied: googleapis-common-protos<2.0.dev0,>=1.56.2 in /home/ronit/Documents/SOC/sign langauge detector/TFODCourse/tfod/lib/python3.8/site-packages (from google-api-core!=2.0.*,!=2.1.*,!=2.2.*,!=2.3.0,<3.0.0.dev0,>=1.31.5->google-api-python-client>=1.6.7->tf-models-official>=2.5.1->object-detection==0.1) (1.62.0)\n",
      "Requirement already satisfied: cachetools<6.0,>=2.0.0 in /home/ronit/Documents/SOC/sign langauge detector/TFODCourse/tfod/lib/python3.8/site-packages (from google-auth<3.0.0.dev0,>=1.19.0->google-api-python-client>=1.6.7->tf-models-official>=2.5.1->object-detection==0.1) (5.3.2)\n",
      "Requirement already satisfied: joblib>=1.1.1 in /home/ronit/Documents/SOC/sign langauge detector/TFODCourse/tfod/lib/python3.8/site-packages (from scikit-learn>=0.21.3->seqeval->tf-models-official>=2.5.1->object-detection==0.1) (1.3.2)\n",
      "Requirement already satisfied: threadpoolctl>=2.0.0 in /home/ronit/Documents/SOC/sign langauge detector/TFODCourse/tfod/lib/python3.8/site-packages (from scikit-learn>=0.21.3->seqeval->tf-models-official>=2.5.1->object-detection==0.1) (3.2.0)\n",
      "Requirement already satisfied: google-auth-oauthlib<1.1,>=0.5 in /home/ronit/Documents/SOC/sign langauge detector/TFODCourse/tfod/lib/python3.8/site-packages (from tensorboard<2.14,>=2.13->tensorflow~=2.13.0->tf-models-official>=2.5.1->object-detection==0.1) (1.0.0)\n",
      "Requirement already satisfied: markdown>=2.6.8 in /home/ronit/Documents/SOC/sign langauge detector/TFODCourse/tfod/lib/python3.8/site-packages (from tensorboard<2.14,>=2.13->tensorflow~=2.13.0->tf-models-official>=2.5.1->object-detection==0.1) (3.5.1)\n",
      "Requirement already satisfied: tensorboard-data-server<0.8.0,>=0.7.0 in /home/ronit/Documents/SOC/sign langauge detector/TFODCourse/tfod/lib/python3.8/site-packages (from tensorboard<2.14,>=2.13->tensorflow~=2.13.0->tf-models-official>=2.5.1->object-detection==0.1) (0.7.2)\n",
      "Requirement already satisfied: werkzeug>=1.0.1 in /home/ronit/Documents/SOC/sign langauge detector/TFODCourse/tfod/lib/python3.8/site-packages (from tensorboard<2.14,>=2.13->tensorflow~=2.13.0->tf-models-official>=2.5.1->object-detection==0.1) (3.0.1)\n",
      "Requirement already satisfied: backports.zoneinfo in /home/ronit/Documents/SOC/sign langauge detector/TFODCourse/tfod/lib/python3.8/site-packages (from tzlocal>=1.2->js2py<1,>=0.74->apache-beam->object-detection==0.1) (0.2.1)\n",
      "Requirement already satisfied: webencodings in /home/ronit/Documents/SOC/sign langauge detector/TFODCourse/tfod/lib/python3.8/site-packages (from bleach->kaggle>=1.3.9->tf-models-official>=2.5.1->object-detection==0.1) (0.5.1)\n",
      "Requirement already satisfied: text-unidecode>=1.3 in /home/ronit/Documents/SOC/sign langauge detector/TFODCourse/tfod/lib/python3.8/site-packages (from python-slugify->kaggle>=1.3.9->tf-models-official>=2.5.1->object-detection==0.1) (1.3)\n",
      "Requirement already satisfied: requests-oauthlib>=0.7.0 in /home/ronit/Documents/SOC/sign langauge detector/TFODCourse/tfod/lib/python3.8/site-packages (from google-auth-oauthlib<1.1,>=0.5->tensorboard<2.14,>=2.13->tensorflow~=2.13.0->tf-models-official>=2.5.1->object-detection==0.1) (1.3.1)\n",
      "Requirement already satisfied: importlib-metadata>=4.4 in /home/ronit/Documents/SOC/sign langauge detector/TFODCourse/tfod/lib/python3.8/site-packages (from markdown>=2.6.8->tensorboard<2.14,>=2.13->tensorflow~=2.13.0->tf-models-official>=2.5.1->object-detection==0.1) (7.0.1)\n",
      "Requirement already satisfied: MarkupSafe>=2.1.1 in /home/ronit/Documents/SOC/sign langauge detector/TFODCourse/tfod/lib/python3.8/site-packages (from werkzeug>=1.0.1->tensorboard<2.14,>=2.13->tensorflow~=2.13.0->tf-models-official>=2.5.1->object-detection==0.1) (2.1.3)\n",
      "Requirement already satisfied: oauthlib>=3.0.0 in /home/ronit/Documents/SOC/sign langauge detector/TFODCourse/tfod/lib/python3.8/site-packages (from requests-oauthlib>=0.7.0->google-auth-oauthlib<1.1,>=0.5->tensorboard<2.14,>=2.13->tensorflow~=2.13.0->tf-models-official>=2.5.1->object-detection==0.1) (3.2.2)\n",
      "Using cached opencv_python_headless-4.9.0.80-cp37-abi3-manylinux_2_17_x86_64.manylinux2014_x86_64.whl (49.6 MB)\n",
      "Building wheels for collected packages: object-detection\n",
      "  Building wheel for object-detection (setup.py) ... \u001b[?25ldone\n",
      "\u001b[?25h  Created wheel for object-detection: filename=object_detection-0.1-py3-none-any.whl size=1697184 sha256=3c4d5ae9dce5e50b2a279687ba3bc07518979c2bd84d47dddb6da5a2ca06688f\n",
      "  Stored in directory: /tmp/pip-ephem-wheel-cache-5zjbjwnv/wheels/2b/14/28/f11767b379a15ceab63014a410062568b91b49ce021bdd344e\n",
      "Successfully built object-detection\n",
      "Installing collected packages: opencv-python-headless, object-detection\n",
      "  Attempting uninstall: object-detection\n",
      "    Found existing installation: object_detection 0.1\n",
      "    Uninstalling object_detection-0.1:\n",
      "      Successfully uninstalled object_detection-0.1\n",
      "Successfully installed object-detection-0.1 opencv-python-headless-4.9.0.80\n"
     ]
    }
   ],
   "source": [
    "# Install Tensorflow Object Detection \n",
    "if os.name=='posix':  \n",
    "    !apt-get install protobuf-compiler\n",
    "    !cd Tensorflow/models/research && protoc object_detection/protos/*.proto --python_out=. && cp object_detection/packages/tf2/setup.py . && python -m pip install . \n",
    "    \n",
    "if os.name=='nt':\n",
    "    url=\"https://github.com/protocolbuffers/protobuf/releases/download/v3.15.6/protoc-3.15.6-win64.zip\"\n",
    "    wget.download(url)\n",
    "    !move protoc-3.15.6-win64.zip {paths['PROTOC_PATH']}\n",
    "    !cd {paths['PROTOC_PATH']} && tar -xf protoc-3.15.6-win64.zip\n",
    "    os.environ['PATH'] += os.pathsep + os.path.abspath(os.path.join(paths['PROTOC_PATH'], 'bin'))   \n",
    "    !cd Tensorflow/models/research && protoc object_detection/protos/*.proto --python_out=. && copy object_detection\\\\packages\\\\tf2\\\\setup.py setup.py && python setup.py build && python setup.py install\n",
    "    !cd Tensorflow/models/research/slim && pip install -e . "
   ]
  },
  {
   "cell_type": "code",
   "execution_count": 9,
   "metadata": {
    "scrolled": true
   },
   "outputs": [
    {
     "name": "stdout",
     "output_type": "stream",
     "text": [
      "2024-01-07 22:27:06.019780: I tensorflow/core/util/port.cc:110] oneDNN custom operations are on. You may see slightly different numerical results due to floating-point round-off errors from different computation orders. To turn them off, set the environment variable `TF_ENABLE_ONEDNN_OPTS=0`.\n",
      "2024-01-07 22:27:06.021201: I tensorflow/tsl/cuda/cudart_stub.cc:28] Could not find cuda drivers on your machine, GPU will not be used.\n",
      "2024-01-07 22:27:06.048186: I tensorflow/tsl/cuda/cudart_stub.cc:28] Could not find cuda drivers on your machine, GPU will not be used.\n",
      "2024-01-07 22:27:06.048512: I tensorflow/core/platform/cpu_feature_guard.cc:182] This TensorFlow binary is optimized to use available CPU instructions in performance-critical operations.\n",
      "To enable the following instructions: AVX2 AVX512F AVX512_VNNI FMA, in other operations, rebuild TensorFlow with the appropriate compiler flags.\n",
      "2024-01-07 22:27:06.620678: W tensorflow/compiler/tf2tensorrt/utils/py_utils.cc:38] TF-TRT Warning: Could not find TensorRT\n",
      "Running tests under Python 3.8.10: /home/ronit/Documents/SOC/sign langauge detector/TFODCourse/tfod/bin/python\n",
      "[ RUN      ] ModelBuilderTF2Test.test_create_center_net_deepmac\n",
      "WARNING:tensorflow:`tf.keras.layers.experimental.SyncBatchNormalization` endpoint is deprecated and will be removed in a future release. Please use `tf.keras.layers.BatchNormalization` with parameter `synchronized` set to True.\n",
      "W0107 22:27:07.963789 140420454266688 batch_normalization.py:1531] `tf.keras.layers.experimental.SyncBatchNormalization` endpoint is deprecated and will be removed in a future release. Please use `tf.keras.layers.BatchNormalization` with parameter `synchronized` set to True.\n",
      "/home/ronit/Documents/SOC/sign langauge detector/TFODCourse/tfod/lib/python3.8/site-packages/object_detection/builders/model_builder.py:1112: DeprecationWarning: The 'warn' function is deprecated, use 'warning' instead\n",
      "  logging.warn(('Building experimental DeepMAC meta-arch.'\n",
      "W0107 22:27:08.138093 140420454266688 model_builder.py:1112] Building experimental DeepMAC meta-arch. Some features may be omitted.\n",
      "INFO:tensorflow:time(__main__.ModelBuilderTF2Test.test_create_center_net_deepmac): 0.38s\n",
      "I0107 22:27:08.319289 140420454266688 test_util.py:2462] time(__main__.ModelBuilderTF2Test.test_create_center_net_deepmac): 0.38s\n",
      "[       OK ] ModelBuilderTF2Test.test_create_center_net_deepmac\n",
      "[ RUN      ] ModelBuilderTF2Test.test_create_center_net_model0 (customize_head_params=True)\n",
      "INFO:tensorflow:time(__main__.ModelBuilderTF2Test.test_create_center_net_model0 (customize_head_params=True)): 0.44s\n",
      "I0107 22:27:08.760316 140420454266688 test_util.py:2462] time(__main__.ModelBuilderTF2Test.test_create_center_net_model0 (customize_head_params=True)): 0.44s\n",
      "[       OK ] ModelBuilderTF2Test.test_create_center_net_model0 (customize_head_params=True)\n",
      "[ RUN      ] ModelBuilderTF2Test.test_create_center_net_model1 (customize_head_params=False)\n",
      "INFO:tensorflow:time(__main__.ModelBuilderTF2Test.test_create_center_net_model1 (customize_head_params=False)): 0.18s\n",
      "I0107 22:27:08.939024 140420454266688 test_util.py:2462] time(__main__.ModelBuilderTF2Test.test_create_center_net_model1 (customize_head_params=False)): 0.18s\n",
      "[       OK ] ModelBuilderTF2Test.test_create_center_net_model1 (customize_head_params=False)\n",
      "[ RUN      ] ModelBuilderTF2Test.test_create_center_net_model_from_keypoints\n",
      "INFO:tensorflow:time(__main__.ModelBuilderTF2Test.test_create_center_net_model_from_keypoints): 0.17s\n",
      "I0107 22:27:09.104453 140420454266688 test_util.py:2462] time(__main__.ModelBuilderTF2Test.test_create_center_net_model_from_keypoints): 0.17s\n",
      "[       OK ] ModelBuilderTF2Test.test_create_center_net_model_from_keypoints\n",
      "[ RUN      ] ModelBuilderTF2Test.test_create_center_net_model_mobilenet\n",
      "INFO:tensorflow:time(__main__.ModelBuilderTF2Test.test_create_center_net_model_mobilenet): 1.37s\n",
      "I0107 22:27:10.474030 140420454266688 test_util.py:2462] time(__main__.ModelBuilderTF2Test.test_create_center_net_model_mobilenet): 1.37s\n",
      "[       OK ] ModelBuilderTF2Test.test_create_center_net_model_mobilenet\n",
      "[ RUN      ] ModelBuilderTF2Test.test_create_experimental_model\n",
      "INFO:tensorflow:time(__main__.ModelBuilderTF2Test.test_create_experimental_model): 0.0s\n",
      "I0107 22:27:10.477194 140420454266688 test_util.py:2462] time(__main__.ModelBuilderTF2Test.test_create_experimental_model): 0.0s\n",
      "[       OK ] ModelBuilderTF2Test.test_create_experimental_model\n",
      "[ RUN      ] ModelBuilderTF2Test.test_create_faster_rcnn_from_config_with_crop_feature0 (True)\n",
      "INFO:tensorflow:time(__main__.ModelBuilderTF2Test.test_create_faster_rcnn_from_config_with_crop_feature0 (True)): 0.02s\n",
      "I0107 22:27:10.494293 140420454266688 test_util.py:2462] time(__main__.ModelBuilderTF2Test.test_create_faster_rcnn_from_config_with_crop_feature0 (True)): 0.02s\n",
      "[       OK ] ModelBuilderTF2Test.test_create_faster_rcnn_from_config_with_crop_feature0 (True)\n",
      "[ RUN      ] ModelBuilderTF2Test.test_create_faster_rcnn_from_config_with_crop_feature1 (False)\n",
      "INFO:tensorflow:time(__main__.ModelBuilderTF2Test.test_create_faster_rcnn_from_config_with_crop_feature1 (False)): 0.01s\n",
      "I0107 22:27:10.506902 140420454266688 test_util.py:2462] time(__main__.ModelBuilderTF2Test.test_create_faster_rcnn_from_config_with_crop_feature1 (False)): 0.01s\n",
      "[       OK ] ModelBuilderTF2Test.test_create_faster_rcnn_from_config_with_crop_feature1 (False)\n",
      "[ RUN      ] ModelBuilderTF2Test.test_create_faster_rcnn_model_from_config_with_example_miner\n",
      "INFO:tensorflow:time(__main__.ModelBuilderTF2Test.test_create_faster_rcnn_model_from_config_with_example_miner): 0.01s\n",
      "I0107 22:27:10.519197 140420454266688 test_util.py:2462] time(__main__.ModelBuilderTF2Test.test_create_faster_rcnn_model_from_config_with_example_miner): 0.01s\n",
      "[       OK ] ModelBuilderTF2Test.test_create_faster_rcnn_model_from_config_with_example_miner\n",
      "[ RUN      ] ModelBuilderTF2Test.test_create_faster_rcnn_models_from_config_faster_rcnn_with_matmul\n",
      "INFO:tensorflow:time(__main__.ModelBuilderTF2Test.test_create_faster_rcnn_models_from_config_faster_rcnn_with_matmul): 0.07s\n",
      "I0107 22:27:10.588173 140420454266688 test_util.py:2462] time(__main__.ModelBuilderTF2Test.test_create_faster_rcnn_models_from_config_faster_rcnn_with_matmul): 0.07s\n",
      "[       OK ] ModelBuilderTF2Test.test_create_faster_rcnn_models_from_config_faster_rcnn_with_matmul\n",
      "[ RUN      ] ModelBuilderTF2Test.test_create_faster_rcnn_models_from_config_faster_rcnn_without_matmul\n",
      "INFO:tensorflow:time(__main__.ModelBuilderTF2Test.test_create_faster_rcnn_models_from_config_faster_rcnn_without_matmul): 0.07s\n",
      "I0107 22:27:10.654481 140420454266688 test_util.py:2462] time(__main__.ModelBuilderTF2Test.test_create_faster_rcnn_models_from_config_faster_rcnn_without_matmul): 0.07s\n",
      "[       OK ] ModelBuilderTF2Test.test_create_faster_rcnn_models_from_config_faster_rcnn_without_matmul\n",
      "[ RUN      ] ModelBuilderTF2Test.test_create_faster_rcnn_models_from_config_mask_rcnn_with_matmul\n",
      "INFO:tensorflow:time(__main__.ModelBuilderTF2Test.test_create_faster_rcnn_models_from_config_mask_rcnn_with_matmul): 0.07s\n",
      "I0107 22:27:10.720750 140420454266688 test_util.py:2462] time(__main__.ModelBuilderTF2Test.test_create_faster_rcnn_models_from_config_mask_rcnn_with_matmul): 0.07s\n",
      "[       OK ] ModelBuilderTF2Test.test_create_faster_rcnn_models_from_config_mask_rcnn_with_matmul\n",
      "[ RUN      ] ModelBuilderTF2Test.test_create_faster_rcnn_models_from_config_mask_rcnn_without_matmul\n",
      "INFO:tensorflow:time(__main__.ModelBuilderTF2Test.test_create_faster_rcnn_models_from_config_mask_rcnn_without_matmul): 0.08s\n",
      "I0107 22:27:10.799704 140420454266688 test_util.py:2462] time(__main__.ModelBuilderTF2Test.test_create_faster_rcnn_models_from_config_mask_rcnn_without_matmul): 0.08s\n",
      "[       OK ] ModelBuilderTF2Test.test_create_faster_rcnn_models_from_config_mask_rcnn_without_matmul\n",
      "[ RUN      ] ModelBuilderTF2Test.test_create_rfcn_model_from_config\n",
      "INFO:tensorflow:time(__main__.ModelBuilderTF2Test.test_create_rfcn_model_from_config): 0.06s\n",
      "I0107 22:27:10.864209 140420454266688 test_util.py:2462] time(__main__.ModelBuilderTF2Test.test_create_rfcn_model_from_config): 0.06s\n",
      "[       OK ] ModelBuilderTF2Test.test_create_rfcn_model_from_config\n",
      "[ RUN      ] ModelBuilderTF2Test.test_create_ssd_fpn_model_from_config\n",
      "INFO:tensorflow:time(__main__.ModelBuilderTF2Test.test_create_ssd_fpn_model_from_config): 0.02s\n",
      "I0107 22:27:10.884649 140420454266688 test_util.py:2462] time(__main__.ModelBuilderTF2Test.test_create_ssd_fpn_model_from_config): 0.02s\n",
      "[       OK ] ModelBuilderTF2Test.test_create_ssd_fpn_model_from_config\n",
      "[ RUN      ] ModelBuilderTF2Test.test_create_ssd_models_from_config\n",
      "I0107 22:27:11.091733 140420454266688 ssd_efficientnet_bifpn_feature_extractor.py:161] EfficientDet EfficientNet backbone version: efficientnet-b0\n",
      "I0107 22:27:11.091851 140420454266688 ssd_efficientnet_bifpn_feature_extractor.py:163] EfficientDet BiFPN num filters: 64\n",
      "I0107 22:27:11.091883 140420454266688 ssd_efficientnet_bifpn_feature_extractor.py:164] EfficientDet BiFPN num iterations: 3\n",
      "I0107 22:27:11.093486 140420454266688 efficientnet_model.py:143] round_filter input=32 output=32\n",
      "I0107 22:27:11.112753 140420454266688 efficientnet_model.py:143] round_filter input=32 output=32\n",
      "I0107 22:27:11.112900 140420454266688 efficientnet_model.py:143] round_filter input=16 output=16\n",
      "I0107 22:27:11.166673 140420454266688 efficientnet_model.py:143] round_filter input=16 output=16\n",
      "I0107 22:27:11.166811 140420454266688 efficientnet_model.py:143] round_filter input=24 output=24\n",
      "I0107 22:27:11.287792 140420454266688 efficientnet_model.py:143] round_filter input=24 output=24\n",
      "I0107 22:27:11.287883 140420454266688 efficientnet_model.py:143] round_filter input=40 output=40\n",
      "I0107 22:27:11.403125 140420454266688 efficientnet_model.py:143] round_filter input=40 output=40\n",
      "I0107 22:27:11.403215 140420454266688 efficientnet_model.py:143] round_filter input=80 output=80\n",
      "I0107 22:27:11.570891 140420454266688 efficientnet_model.py:143] round_filter input=80 output=80\n",
      "I0107 22:27:11.570981 140420454266688 efficientnet_model.py:143] round_filter input=112 output=112\n",
      "I0107 22:27:11.765863 140420454266688 efficientnet_model.py:143] round_filter input=112 output=112\n",
      "I0107 22:27:11.765990 140420454266688 efficientnet_model.py:143] round_filter input=192 output=192\n",
      "I0107 22:27:12.027347 140420454266688 efficientnet_model.py:143] round_filter input=192 output=192\n",
      "I0107 22:27:12.027439 140420454266688 efficientnet_model.py:143] round_filter input=320 output=320\n",
      "I0107 22:27:12.089951 140420454266688 efficientnet_model.py:143] round_filter input=1280 output=1280\n",
      "I0107 22:27:12.135382 140420454266688 efficientnet_model.py:453] Building model efficientnet with params ModelConfig(width_coefficient=1.0, depth_coefficient=1.0, resolution=224, dropout_rate=0.2, blocks=(BlockConfig(input_filters=32, output_filters=16, kernel_size=3, num_repeat=1, expand_ratio=1, strides=(1, 1), se_ratio=0.25, id_skip=True, fused_conv=False, conv_type='depthwise'), BlockConfig(input_filters=16, output_filters=24, kernel_size=3, num_repeat=2, expand_ratio=6, strides=(2, 2), se_ratio=0.25, id_skip=True, fused_conv=False, conv_type='depthwise'), BlockConfig(input_filters=24, output_filters=40, kernel_size=5, num_repeat=2, expand_ratio=6, strides=(2, 2), se_ratio=0.25, id_skip=True, fused_conv=False, conv_type='depthwise'), BlockConfig(input_filters=40, output_filters=80, kernel_size=3, num_repeat=3, expand_ratio=6, strides=(2, 2), se_ratio=0.25, id_skip=True, fused_conv=False, conv_type='depthwise'), BlockConfig(input_filters=80, output_filters=112, kernel_size=5, num_repeat=3, expand_ratio=6, strides=(1, 1), se_ratio=0.25, id_skip=True, fused_conv=False, conv_type='depthwise'), BlockConfig(input_filters=112, output_filters=192, kernel_size=5, num_repeat=4, expand_ratio=6, strides=(2, 2), se_ratio=0.25, id_skip=True, fused_conv=False, conv_type='depthwise'), BlockConfig(input_filters=192, output_filters=320, kernel_size=3, num_repeat=1, expand_ratio=6, strides=(1, 1), se_ratio=0.25, id_skip=True, fused_conv=False, conv_type='depthwise')), stem_base_filters=32, top_base_filters=1280, activation='simple_swish', batch_norm='default', bn_momentum=0.99, bn_epsilon=0.001, weight_decay=5e-06, drop_connect_rate=0.2, depth_divisor=8, min_depth=None, use_se=True, input_channels=3, num_classes=1000, model_name='efficientnet', rescale_input=False, data_format='channels_last', dtype='float32')\n",
      "I0107 22:27:12.172008 140420454266688 ssd_efficientnet_bifpn_feature_extractor.py:161] EfficientDet EfficientNet backbone version: efficientnet-b1\n",
      "I0107 22:27:12.172108 140420454266688 ssd_efficientnet_bifpn_feature_extractor.py:163] EfficientDet BiFPN num filters: 88\n",
      "I0107 22:27:12.172141 140420454266688 ssd_efficientnet_bifpn_feature_extractor.py:164] EfficientDet BiFPN num iterations: 4\n",
      "I0107 22:27:12.173541 140420454266688 efficientnet_model.py:143] round_filter input=32 output=32\n",
      "I0107 22:27:12.186403 140420454266688 efficientnet_model.py:143] round_filter input=32 output=32\n",
      "I0107 22:27:12.186494 140420454266688 efficientnet_model.py:143] round_filter input=16 output=16\n",
      "I0107 22:27:12.284711 140420454266688 efficientnet_model.py:143] round_filter input=16 output=16\n",
      "I0107 22:27:12.284803 140420454266688 efficientnet_model.py:143] round_filter input=24 output=24\n",
      "I0107 22:27:12.438069 140420454266688 efficientnet_model.py:143] round_filter input=24 output=24\n",
      "I0107 22:27:12.438171 140420454266688 efficientnet_model.py:143] round_filter input=40 output=40\n",
      "I0107 22:27:12.622955 140420454266688 efficientnet_model.py:143] round_filter input=40 output=40\n",
      "I0107 22:27:12.623122 140420454266688 efficientnet_model.py:143] round_filter input=80 output=80\n",
      "I0107 22:27:12.857071 140420454266688 efficientnet_model.py:143] round_filter input=80 output=80\n",
      "I0107 22:27:12.857162 140420454266688 efficientnet_model.py:143] round_filter input=112 output=112\n",
      "I0107 22:27:13.076721 140420454266688 efficientnet_model.py:143] round_filter input=112 output=112\n",
      "I0107 22:27:13.076823 140420454266688 efficientnet_model.py:143] round_filter input=192 output=192\n",
      "I0107 22:27:13.384308 140420454266688 efficientnet_model.py:143] round_filter input=192 output=192\n",
      "I0107 22:27:13.384402 140420454266688 efficientnet_model.py:143] round_filter input=320 output=320\n",
      "I0107 22:27:13.509882 140420454266688 efficientnet_model.py:143] round_filter input=1280 output=1280\n",
      "I0107 22:27:13.535033 140420454266688 efficientnet_model.py:453] Building model efficientnet with params ModelConfig(width_coefficient=1.0, depth_coefficient=1.1, resolution=240, dropout_rate=0.2, blocks=(BlockConfig(input_filters=32, output_filters=16, kernel_size=3, num_repeat=1, expand_ratio=1, strides=(1, 1), se_ratio=0.25, id_skip=True, fused_conv=False, conv_type='depthwise'), BlockConfig(input_filters=16, output_filters=24, kernel_size=3, num_repeat=2, expand_ratio=6, strides=(2, 2), se_ratio=0.25, id_skip=True, fused_conv=False, conv_type='depthwise'), BlockConfig(input_filters=24, output_filters=40, kernel_size=5, num_repeat=2, expand_ratio=6, strides=(2, 2), se_ratio=0.25, id_skip=True, fused_conv=False, conv_type='depthwise'), BlockConfig(input_filters=40, output_filters=80, kernel_size=3, num_repeat=3, expand_ratio=6, strides=(2, 2), se_ratio=0.25, id_skip=True, fused_conv=False, conv_type='depthwise'), BlockConfig(input_filters=80, output_filters=112, kernel_size=5, num_repeat=3, expand_ratio=6, strides=(1, 1), se_ratio=0.25, id_skip=True, fused_conv=False, conv_type='depthwise'), BlockConfig(input_filters=112, output_filters=192, kernel_size=5, num_repeat=4, expand_ratio=6, strides=(2, 2), se_ratio=0.25, id_skip=True, fused_conv=False, conv_type='depthwise'), BlockConfig(input_filters=192, output_filters=320, kernel_size=3, num_repeat=1, expand_ratio=6, strides=(1, 1), se_ratio=0.25, id_skip=True, fused_conv=False, conv_type='depthwise')), stem_base_filters=32, top_base_filters=1280, activation='simple_swish', batch_norm='default', bn_momentum=0.99, bn_epsilon=0.001, weight_decay=5e-06, drop_connect_rate=0.2, depth_divisor=8, min_depth=None, use_se=True, input_channels=3, num_classes=1000, model_name='efficientnet', rescale_input=False, data_format='channels_last', dtype='float32')\n",
      "I0107 22:27:13.576735 140420454266688 ssd_efficientnet_bifpn_feature_extractor.py:161] EfficientDet EfficientNet backbone version: efficientnet-b2\n",
      "I0107 22:27:13.576826 140420454266688 ssd_efficientnet_bifpn_feature_extractor.py:163] EfficientDet BiFPN num filters: 112\n",
      "I0107 22:27:13.576853 140420454266688 ssd_efficientnet_bifpn_feature_extractor.py:164] EfficientDet BiFPN num iterations: 5\n",
      "I0107 22:27:13.577959 140420454266688 efficientnet_model.py:143] round_filter input=32 output=32\n",
      "I0107 22:27:13.588969 140420454266688 efficientnet_model.py:143] round_filter input=32 output=32\n",
      "I0107 22:27:13.589062 140420454266688 efficientnet_model.py:143] round_filter input=16 output=16\n",
      "I0107 22:27:13.673758 140420454266688 efficientnet_model.py:143] round_filter input=16 output=16\n",
      "I0107 22:27:13.673857 140420454266688 efficientnet_model.py:143] round_filter input=24 output=24\n",
      "I0107 22:27:13.844278 140420454266688 efficientnet_model.py:143] round_filter input=24 output=24\n",
      "I0107 22:27:13.844373 140420454266688 efficientnet_model.py:143] round_filter input=40 output=48\n",
      "I0107 22:27:14.021333 140420454266688 efficientnet_model.py:143] round_filter input=40 output=48\n",
      "I0107 22:27:14.021425 140420454266688 efficientnet_model.py:143] round_filter input=80 output=88\n",
      "I0107 22:27:14.266554 140420454266688 efficientnet_model.py:143] round_filter input=80 output=88\n",
      "I0107 22:27:14.266644 140420454266688 efficientnet_model.py:143] round_filter input=112 output=120\n",
      "I0107 22:27:14.624556 140420454266688 efficientnet_model.py:143] round_filter input=112 output=120\n",
      "I0107 22:27:14.624650 140420454266688 efficientnet_model.py:143] round_filter input=192 output=208\n",
      "I0107 22:27:14.937485 140420454266688 efficientnet_model.py:143] round_filter input=192 output=208\n",
      "I0107 22:27:14.937627 140420454266688 efficientnet_model.py:143] round_filter input=320 output=352\n",
      "I0107 22:27:15.084040 140420454266688 efficientnet_model.py:143] round_filter input=1280 output=1408\n",
      "I0107 22:27:15.115336 140420454266688 efficientnet_model.py:453] Building model efficientnet with params ModelConfig(width_coefficient=1.1, depth_coefficient=1.2, resolution=260, dropout_rate=0.3, blocks=(BlockConfig(input_filters=32, output_filters=16, kernel_size=3, num_repeat=1, expand_ratio=1, strides=(1, 1), se_ratio=0.25, id_skip=True, fused_conv=False, conv_type='depthwise'), BlockConfig(input_filters=16, output_filters=24, kernel_size=3, num_repeat=2, expand_ratio=6, strides=(2, 2), se_ratio=0.25, id_skip=True, fused_conv=False, conv_type='depthwise'), BlockConfig(input_filters=24, output_filters=40, kernel_size=5, num_repeat=2, expand_ratio=6, strides=(2, 2), se_ratio=0.25, id_skip=True, fused_conv=False, conv_type='depthwise'), BlockConfig(input_filters=40, output_filters=80, kernel_size=3, num_repeat=3, expand_ratio=6, strides=(2, 2), se_ratio=0.25, id_skip=True, fused_conv=False, conv_type='depthwise'), BlockConfig(input_filters=80, output_filters=112, kernel_size=5, num_repeat=3, expand_ratio=6, strides=(1, 1), se_ratio=0.25, id_skip=True, fused_conv=False, conv_type='depthwise'), BlockConfig(input_filters=112, output_filters=192, kernel_size=5, num_repeat=4, expand_ratio=6, strides=(2, 2), se_ratio=0.25, id_skip=True, fused_conv=False, conv_type='depthwise'), BlockConfig(input_filters=192, output_filters=320, kernel_size=3, num_repeat=1, expand_ratio=6, strides=(1, 1), se_ratio=0.25, id_skip=True, fused_conv=False, conv_type='depthwise')), stem_base_filters=32, top_base_filters=1280, activation='simple_swish', batch_norm='default', bn_momentum=0.99, bn_epsilon=0.001, weight_decay=5e-06, drop_connect_rate=0.2, depth_divisor=8, min_depth=None, use_se=True, input_channels=3, num_classes=1000, model_name='efficientnet', rescale_input=False, data_format='channels_last', dtype='float32')\n",
      "I0107 22:27:15.155264 140420454266688 ssd_efficientnet_bifpn_feature_extractor.py:161] EfficientDet EfficientNet backbone version: efficientnet-b3\n",
      "I0107 22:27:15.155358 140420454266688 ssd_efficientnet_bifpn_feature_extractor.py:163] EfficientDet BiFPN num filters: 160\n",
      "I0107 22:27:15.155407 140420454266688 ssd_efficientnet_bifpn_feature_extractor.py:164] EfficientDet BiFPN num iterations: 6\n",
      "I0107 22:27:15.156615 140420454266688 efficientnet_model.py:143] round_filter input=32 output=40\n",
      "I0107 22:27:15.169836 140420454266688 efficientnet_model.py:143] round_filter input=32 output=40\n",
      "I0107 22:27:15.169957 140420454266688 efficientnet_model.py:143] round_filter input=16 output=24\n",
      "I0107 22:27:15.264925 140420454266688 efficientnet_model.py:143] round_filter input=16 output=24\n",
      "I0107 22:27:15.265036 140420454266688 efficientnet_model.py:143] round_filter input=24 output=32\n",
      "I0107 22:27:15.427298 140420454266688 efficientnet_model.py:143] round_filter input=24 output=32\n",
      "I0107 22:27:15.427392 140420454266688 efficientnet_model.py:143] round_filter input=40 output=48\n",
      "I0107 22:27:15.595361 140420454266688 efficientnet_model.py:143] round_filter input=40 output=48\n",
      "I0107 22:27:15.595452 140420454266688 efficientnet_model.py:143] round_filter input=80 output=96\n",
      "I0107 22:27:15.889507 140420454266688 efficientnet_model.py:143] round_filter input=80 output=96\n",
      "I0107 22:27:15.889603 140420454266688 efficientnet_model.py:143] round_filter input=112 output=136\n",
      "I0107 22:27:16.212944 140420454266688 efficientnet_model.py:143] round_filter input=112 output=136\n",
      "I0107 22:27:16.213035 140420454266688 efficientnet_model.py:143] round_filter input=192 output=232\n",
      "I0107 22:27:16.583598 140420454266688 efficientnet_model.py:143] round_filter input=192 output=232\n",
      "I0107 22:27:16.583688 140420454266688 efficientnet_model.py:143] round_filter input=320 output=384\n",
      "I0107 22:27:16.718079 140420454266688 efficientnet_model.py:143] round_filter input=1280 output=1536\n",
      "I0107 22:27:16.751306 140420454266688 efficientnet_model.py:453] Building model efficientnet with params ModelConfig(width_coefficient=1.2, depth_coefficient=1.4, resolution=300, dropout_rate=0.3, blocks=(BlockConfig(input_filters=32, output_filters=16, kernel_size=3, num_repeat=1, expand_ratio=1, strides=(1, 1), se_ratio=0.25, id_skip=True, fused_conv=False, conv_type='depthwise'), BlockConfig(input_filters=16, output_filters=24, kernel_size=3, num_repeat=2, expand_ratio=6, strides=(2, 2), se_ratio=0.25, id_skip=True, fused_conv=False, conv_type='depthwise'), BlockConfig(input_filters=24, output_filters=40, kernel_size=5, num_repeat=2, expand_ratio=6, strides=(2, 2), se_ratio=0.25, id_skip=True, fused_conv=False, conv_type='depthwise'), BlockConfig(input_filters=40, output_filters=80, kernel_size=3, num_repeat=3, expand_ratio=6, strides=(2, 2), se_ratio=0.25, id_skip=True, fused_conv=False, conv_type='depthwise'), BlockConfig(input_filters=80, output_filters=112, kernel_size=5, num_repeat=3, expand_ratio=6, strides=(1, 1), se_ratio=0.25, id_skip=True, fused_conv=False, conv_type='depthwise'), BlockConfig(input_filters=112, output_filters=192, kernel_size=5, num_repeat=4, expand_ratio=6, strides=(2, 2), se_ratio=0.25, id_skip=True, fused_conv=False, conv_type='depthwise'), BlockConfig(input_filters=192, output_filters=320, kernel_size=3, num_repeat=1, expand_ratio=6, strides=(1, 1), se_ratio=0.25, id_skip=True, fused_conv=False, conv_type='depthwise')), stem_base_filters=32, top_base_filters=1280, activation='simple_swish', batch_norm='default', bn_momentum=0.99, bn_epsilon=0.001, weight_decay=5e-06, drop_connect_rate=0.2, depth_divisor=8, min_depth=None, use_se=True, input_channels=3, num_classes=1000, model_name='efficientnet', rescale_input=False, data_format='channels_last', dtype='float32')\n",
      "I0107 22:27:16.792801 140420454266688 ssd_efficientnet_bifpn_feature_extractor.py:161] EfficientDet EfficientNet backbone version: efficientnet-b4\n",
      "I0107 22:27:16.792892 140420454266688 ssd_efficientnet_bifpn_feature_extractor.py:163] EfficientDet BiFPN num filters: 224\n",
      "I0107 22:27:16.792919 140420454266688 ssd_efficientnet_bifpn_feature_extractor.py:164] EfficientDet BiFPN num iterations: 7\n",
      "I0107 22:27:16.794117 140420454266688 efficientnet_model.py:143] round_filter input=32 output=48\n",
      "I0107 22:27:16.806422 140420454266688 efficientnet_model.py:143] round_filter input=32 output=48\n",
      "I0107 22:27:16.806508 140420454266688 efficientnet_model.py:143] round_filter input=16 output=24\n",
      "I0107 22:27:16.895399 140420454266688 efficientnet_model.py:143] round_filter input=16 output=24\n",
      "I0107 22:27:16.895520 140420454266688 efficientnet_model.py:143] round_filter input=24 output=32\n",
      "I0107 22:27:17.128314 140420454266688 efficientnet_model.py:143] round_filter input=24 output=32\n",
      "I0107 22:27:17.128414 140420454266688 efficientnet_model.py:143] round_filter input=40 output=56\n",
      "I0107 22:27:17.352740 140420454266688 efficientnet_model.py:143] round_filter input=40 output=56\n",
      "I0107 22:27:17.352833 140420454266688 efficientnet_model.py:143] round_filter input=80 output=112\n",
      "I0107 22:27:17.693933 140420454266688 efficientnet_model.py:143] round_filter input=80 output=112\n",
      "I0107 22:27:17.694029 140420454266688 efficientnet_model.py:143] round_filter input=112 output=160\n",
      "I0107 22:27:18.041228 140420454266688 efficientnet_model.py:143] round_filter input=112 output=160\n",
      "I0107 22:27:18.041321 140420454266688 efficientnet_model.py:143] round_filter input=192 output=272\n",
      "I0107 22:27:18.523552 140420454266688 efficientnet_model.py:143] round_filter input=192 output=272\n",
      "I0107 22:27:18.523651 140420454266688 efficientnet_model.py:143] round_filter input=320 output=448\n",
      "I0107 22:27:18.677509 140420454266688 efficientnet_model.py:143] round_filter input=1280 output=1792\n",
      "I0107 22:27:18.712749 140420454266688 efficientnet_model.py:453] Building model efficientnet with params ModelConfig(width_coefficient=1.4, depth_coefficient=1.8, resolution=380, dropout_rate=0.4, blocks=(BlockConfig(input_filters=32, output_filters=16, kernel_size=3, num_repeat=1, expand_ratio=1, strides=(1, 1), se_ratio=0.25, id_skip=True, fused_conv=False, conv_type='depthwise'), BlockConfig(input_filters=16, output_filters=24, kernel_size=3, num_repeat=2, expand_ratio=6, strides=(2, 2), se_ratio=0.25, id_skip=True, fused_conv=False, conv_type='depthwise'), BlockConfig(input_filters=24, output_filters=40, kernel_size=5, num_repeat=2, expand_ratio=6, strides=(2, 2), se_ratio=0.25, id_skip=True, fused_conv=False, conv_type='depthwise'), BlockConfig(input_filters=40, output_filters=80, kernel_size=3, num_repeat=3, expand_ratio=6, strides=(2, 2), se_ratio=0.25, id_skip=True, fused_conv=False, conv_type='depthwise'), BlockConfig(input_filters=80, output_filters=112, kernel_size=5, num_repeat=3, expand_ratio=6, strides=(1, 1), se_ratio=0.25, id_skip=True, fused_conv=False, conv_type='depthwise'), BlockConfig(input_filters=112, output_filters=192, kernel_size=5, num_repeat=4, expand_ratio=6, strides=(2, 2), se_ratio=0.25, id_skip=True, fused_conv=False, conv_type='depthwise'), BlockConfig(input_filters=192, output_filters=320, kernel_size=3, num_repeat=1, expand_ratio=6, strides=(1, 1), se_ratio=0.25, id_skip=True, fused_conv=False, conv_type='depthwise')), stem_base_filters=32, top_base_filters=1280, activation='simple_swish', batch_norm='default', bn_momentum=0.99, bn_epsilon=0.001, weight_decay=5e-06, drop_connect_rate=0.2, depth_divisor=8, min_depth=None, use_se=True, input_channels=3, num_classes=1000, model_name='efficientnet', rescale_input=False, data_format='channels_last', dtype='float32')\n",
      "I0107 22:27:18.763122 140420454266688 ssd_efficientnet_bifpn_feature_extractor.py:161] EfficientDet EfficientNet backbone version: efficientnet-b5\n",
      "I0107 22:27:18.763273 140420454266688 ssd_efficientnet_bifpn_feature_extractor.py:163] EfficientDet BiFPN num filters: 288\n",
      "I0107 22:27:18.763325 140420454266688 ssd_efficientnet_bifpn_feature_extractor.py:164] EfficientDet BiFPN num iterations: 7\n",
      "I0107 22:27:18.764909 140420454266688 efficientnet_model.py:143] round_filter input=32 output=48\n",
      "I0107 22:27:18.776693 140420454266688 efficientnet_model.py:143] round_filter input=32 output=48\n",
      "I0107 22:27:18.776800 140420454266688 efficientnet_model.py:143] round_filter input=16 output=24\n",
      "I0107 22:27:19.049000 140420454266688 efficientnet_model.py:143] round_filter input=16 output=24\n",
      "I0107 22:27:19.049090 140420454266688 efficientnet_model.py:143] round_filter input=24 output=40\n",
      "I0107 22:27:19.316342 140420454266688 efficientnet_model.py:143] round_filter input=24 output=40\n",
      "I0107 22:27:19.316438 140420454266688 efficientnet_model.py:143] round_filter input=40 output=64\n",
      "I0107 22:27:19.612002 140420454266688 efficientnet_model.py:143] round_filter input=40 output=64\n",
      "I0107 22:27:19.612094 140420454266688 efficientnet_model.py:143] round_filter input=80 output=128\n",
      "I0107 22:27:19.996865 140420454266688 efficientnet_model.py:143] round_filter input=80 output=128\n",
      "I0107 22:27:19.996957 140420454266688 efficientnet_model.py:143] round_filter input=112 output=176\n",
      "I0107 22:27:20.395176 140420454266688 efficientnet_model.py:143] round_filter input=112 output=176\n",
      "I0107 22:27:20.395269 140420454266688 efficientnet_model.py:143] round_filter input=192 output=304\n",
      "I0107 22:27:20.976758 140420454266688 efficientnet_model.py:143] round_filter input=192 output=304\n",
      "I0107 22:27:20.976851 140420454266688 efficientnet_model.py:143] round_filter input=320 output=512\n",
      "I0107 22:27:21.194573 140420454266688 efficientnet_model.py:143] round_filter input=1280 output=2048\n",
      "I0107 22:27:21.227234 140420454266688 efficientnet_model.py:453] Building model efficientnet with params ModelConfig(width_coefficient=1.6, depth_coefficient=2.2, resolution=456, dropout_rate=0.4, blocks=(BlockConfig(input_filters=32, output_filters=16, kernel_size=3, num_repeat=1, expand_ratio=1, strides=(1, 1), se_ratio=0.25, id_skip=True, fused_conv=False, conv_type='depthwise'), BlockConfig(input_filters=16, output_filters=24, kernel_size=3, num_repeat=2, expand_ratio=6, strides=(2, 2), se_ratio=0.25, id_skip=True, fused_conv=False, conv_type='depthwise'), BlockConfig(input_filters=24, output_filters=40, kernel_size=5, num_repeat=2, expand_ratio=6, strides=(2, 2), se_ratio=0.25, id_skip=True, fused_conv=False, conv_type='depthwise'), BlockConfig(input_filters=40, output_filters=80, kernel_size=3, num_repeat=3, expand_ratio=6, strides=(2, 2), se_ratio=0.25, id_skip=True, fused_conv=False, conv_type='depthwise'), BlockConfig(input_filters=80, output_filters=112, kernel_size=5, num_repeat=3, expand_ratio=6, strides=(1, 1), se_ratio=0.25, id_skip=True, fused_conv=False, conv_type='depthwise'), BlockConfig(input_filters=112, output_filters=192, kernel_size=5, num_repeat=4, expand_ratio=6, strides=(2, 2), se_ratio=0.25, id_skip=True, fused_conv=False, conv_type='depthwise'), BlockConfig(input_filters=192, output_filters=320, kernel_size=3, num_repeat=1, expand_ratio=6, strides=(1, 1), se_ratio=0.25, id_skip=True, fused_conv=False, conv_type='depthwise')), stem_base_filters=32, top_base_filters=1280, activation='simple_swish', batch_norm='default', bn_momentum=0.99, bn_epsilon=0.001, weight_decay=5e-06, drop_connect_rate=0.2, depth_divisor=8, min_depth=None, use_se=True, input_channels=3, num_classes=1000, model_name='efficientnet', rescale_input=False, data_format='channels_last', dtype='float32')\n",
      "I0107 22:27:21.284172 140420454266688 ssd_efficientnet_bifpn_feature_extractor.py:161] EfficientDet EfficientNet backbone version: efficientnet-b6\n",
      "I0107 22:27:21.284271 140420454266688 ssd_efficientnet_bifpn_feature_extractor.py:163] EfficientDet BiFPN num filters: 384\n",
      "I0107 22:27:21.284315 140420454266688 ssd_efficientnet_bifpn_feature_extractor.py:164] EfficientDet BiFPN num iterations: 8\n",
      "I0107 22:27:21.285566 140420454266688 efficientnet_model.py:143] round_filter input=32 output=56\n",
      "I0107 22:27:21.299526 140420454266688 efficientnet_model.py:143] round_filter input=32 output=56\n",
      "I0107 22:27:21.299617 140420454266688 efficientnet_model.py:143] round_filter input=16 output=32\n",
      "I0107 22:27:21.429684 140420454266688 efficientnet_model.py:143] round_filter input=16 output=32\n",
      "I0107 22:27:21.429807 140420454266688 efficientnet_model.py:143] round_filter input=24 output=40\n",
      "I0107 22:27:21.781582 140420454266688 efficientnet_model.py:143] round_filter input=24 output=40\n",
      "I0107 22:27:21.781672 140420454266688 efficientnet_model.py:143] round_filter input=40 output=72\n",
      "I0107 22:27:22.109243 140420454266688 efficientnet_model.py:143] round_filter input=40 output=72\n",
      "I0107 22:27:22.109340 140420454266688 efficientnet_model.py:143] round_filter input=80 output=144\n",
      "I0107 22:27:22.576984 140420454266688 efficientnet_model.py:143] round_filter input=80 output=144\n",
      "I0107 22:27:22.577076 140420454266688 efficientnet_model.py:143] round_filter input=112 output=200\n",
      "I0107 22:27:23.062585 140420454266688 efficientnet_model.py:143] round_filter input=112 output=200\n",
      "I0107 22:27:23.062694 140420454266688 efficientnet_model.py:143] round_filter input=192 output=344\n",
      "I0107 22:27:23.899247 140420454266688 efficientnet_model.py:143] round_filter input=192 output=344\n",
      "I0107 22:27:23.899343 140420454266688 efficientnet_model.py:143] round_filter input=320 output=576\n",
      "I0107 22:27:24.126827 140420454266688 efficientnet_model.py:143] round_filter input=1280 output=2304\n",
      "I0107 22:27:24.159932 140420454266688 efficientnet_model.py:453] Building model efficientnet with params ModelConfig(width_coefficient=1.8, depth_coefficient=2.6, resolution=528, dropout_rate=0.5, blocks=(BlockConfig(input_filters=32, output_filters=16, kernel_size=3, num_repeat=1, expand_ratio=1, strides=(1, 1), se_ratio=0.25, id_skip=True, fused_conv=False, conv_type='depthwise'), BlockConfig(input_filters=16, output_filters=24, kernel_size=3, num_repeat=2, expand_ratio=6, strides=(2, 2), se_ratio=0.25, id_skip=True, fused_conv=False, conv_type='depthwise'), BlockConfig(input_filters=24, output_filters=40, kernel_size=5, num_repeat=2, expand_ratio=6, strides=(2, 2), se_ratio=0.25, id_skip=True, fused_conv=False, conv_type='depthwise'), BlockConfig(input_filters=40, output_filters=80, kernel_size=3, num_repeat=3, expand_ratio=6, strides=(2, 2), se_ratio=0.25, id_skip=True, fused_conv=False, conv_type='depthwise'), BlockConfig(input_filters=80, output_filters=112, kernel_size=5, num_repeat=3, expand_ratio=6, strides=(1, 1), se_ratio=0.25, id_skip=True, fused_conv=False, conv_type='depthwise'), BlockConfig(input_filters=112, output_filters=192, kernel_size=5, num_repeat=4, expand_ratio=6, strides=(2, 2), se_ratio=0.25, id_skip=True, fused_conv=False, conv_type='depthwise'), BlockConfig(input_filters=192, output_filters=320, kernel_size=3, num_repeat=1, expand_ratio=6, strides=(1, 1), se_ratio=0.25, id_skip=True, fused_conv=False, conv_type='depthwise')), stem_base_filters=32, top_base_filters=1280, activation='simple_swish', batch_norm='default', bn_momentum=0.99, bn_epsilon=0.001, weight_decay=5e-06, drop_connect_rate=0.2, depth_divisor=8, min_depth=None, use_se=True, input_channels=3, num_classes=1000, model_name='efficientnet', rescale_input=False, data_format='channels_last', dtype='float32')\n",
      "I0107 22:27:24.225048 140420454266688 ssd_efficientnet_bifpn_feature_extractor.py:161] EfficientDet EfficientNet backbone version: efficientnet-b7\n",
      "I0107 22:27:24.225156 140420454266688 ssd_efficientnet_bifpn_feature_extractor.py:163] EfficientDet BiFPN num filters: 384\n",
      "I0107 22:27:24.225188 140420454266688 ssd_efficientnet_bifpn_feature_extractor.py:164] EfficientDet BiFPN num iterations: 8\n",
      "I0107 22:27:24.226520 140420454266688 efficientnet_model.py:143] round_filter input=32 output=64\n",
      "I0107 22:27:24.239565 140420454266688 efficientnet_model.py:143] round_filter input=32 output=64\n",
      "I0107 22:27:24.239653 140420454266688 efficientnet_model.py:143] round_filter input=16 output=32\n",
      "I0107 22:27:24.410909 140420454266688 efficientnet_model.py:143] round_filter input=16 output=32\n",
      "I0107 22:27:24.411000 140420454266688 efficientnet_model.py:143] round_filter input=24 output=48\n",
      "I0107 22:27:24.786324 140420454266688 efficientnet_model.py:143] round_filter input=24 output=48\n",
      "I0107 22:27:24.786417 140420454266688 efficientnet_model.py:143] round_filter input=40 output=80\n",
      "I0107 22:27:25.161066 140420454266688 efficientnet_model.py:143] round_filter input=40 output=80\n",
      "I0107 22:27:25.161202 140420454266688 efficientnet_model.py:143] round_filter input=80 output=160\n",
      "I0107 22:27:25.715655 140420454266688 efficientnet_model.py:143] round_filter input=80 output=160\n",
      "I0107 22:27:25.715752 140420454266688 efficientnet_model.py:143] round_filter input=112 output=224\n",
      "I0107 22:27:26.297208 140420454266688 efficientnet_model.py:143] round_filter input=112 output=224\n",
      "I0107 22:27:26.297299 140420454266688 efficientnet_model.py:143] round_filter input=192 output=384\n",
      "I0107 22:27:27.132697 140420454266688 efficientnet_model.py:143] round_filter input=192 output=384\n",
      "I0107 22:27:27.132789 140420454266688 efficientnet_model.py:143] round_filter input=320 output=640\n",
      "I0107 22:27:27.457931 140420454266688 efficientnet_model.py:143] round_filter input=1280 output=2560\n",
      "I0107 22:27:27.493284 140420454266688 efficientnet_model.py:453] Building model efficientnet with params ModelConfig(width_coefficient=2.0, depth_coefficient=3.1, resolution=600, dropout_rate=0.5, blocks=(BlockConfig(input_filters=32, output_filters=16, kernel_size=3, num_repeat=1, expand_ratio=1, strides=(1, 1), se_ratio=0.25, id_skip=True, fused_conv=False, conv_type='depthwise'), BlockConfig(input_filters=16, output_filters=24, kernel_size=3, num_repeat=2, expand_ratio=6, strides=(2, 2), se_ratio=0.25, id_skip=True, fused_conv=False, conv_type='depthwise'), BlockConfig(input_filters=24, output_filters=40, kernel_size=5, num_repeat=2, expand_ratio=6, strides=(2, 2), se_ratio=0.25, id_skip=True, fused_conv=False, conv_type='depthwise'), BlockConfig(input_filters=40, output_filters=80, kernel_size=3, num_repeat=3, expand_ratio=6, strides=(2, 2), se_ratio=0.25, id_skip=True, fused_conv=False, conv_type='depthwise'), BlockConfig(input_filters=80, output_filters=112, kernel_size=5, num_repeat=3, expand_ratio=6, strides=(1, 1), se_ratio=0.25, id_skip=True, fused_conv=False, conv_type='depthwise'), BlockConfig(input_filters=112, output_filters=192, kernel_size=5, num_repeat=4, expand_ratio=6, strides=(2, 2), se_ratio=0.25, id_skip=True, fused_conv=False, conv_type='depthwise'), BlockConfig(input_filters=192, output_filters=320, kernel_size=3, num_repeat=1, expand_ratio=6, strides=(1, 1), se_ratio=0.25, id_skip=True, fused_conv=False, conv_type='depthwise')), stem_base_filters=32, top_base_filters=1280, activation='simple_swish', batch_norm='default', bn_momentum=0.99, bn_epsilon=0.001, weight_decay=5e-06, drop_connect_rate=0.2, depth_divisor=8, min_depth=None, use_se=True, input_channels=3, num_classes=1000, model_name='efficientnet', rescale_input=False, data_format='channels_last', dtype='float32')\n",
      "INFO:tensorflow:time(__main__.ModelBuilderTF2Test.test_create_ssd_models_from_config): 16.69s\n",
      "I0107 22:27:27.575716 140420454266688 test_util.py:2462] time(__main__.ModelBuilderTF2Test.test_create_ssd_models_from_config): 16.69s\n",
      "[       OK ] ModelBuilderTF2Test.test_create_ssd_models_from_config\n",
      "[ RUN      ] ModelBuilderTF2Test.test_invalid_faster_rcnn_batchnorm_update\n",
      "INFO:tensorflow:time(__main__.ModelBuilderTF2Test.test_invalid_faster_rcnn_batchnorm_update): 0.01s\n",
      "I0107 22:27:27.597995 140420454266688 test_util.py:2462] time(__main__.ModelBuilderTF2Test.test_invalid_faster_rcnn_batchnorm_update): 0.01s\n",
      "[       OK ] ModelBuilderTF2Test.test_invalid_faster_rcnn_batchnorm_update\n",
      "[ RUN      ] ModelBuilderTF2Test.test_invalid_first_stage_nms_iou_threshold\n",
      "INFO:tensorflow:time(__main__.ModelBuilderTF2Test.test_invalid_first_stage_nms_iou_threshold): 0.0s\n",
      "I0107 22:27:27.599507 140420454266688 test_util.py:2462] time(__main__.ModelBuilderTF2Test.test_invalid_first_stage_nms_iou_threshold): 0.0s\n",
      "[       OK ] ModelBuilderTF2Test.test_invalid_first_stage_nms_iou_threshold\n",
      "[ RUN      ] ModelBuilderTF2Test.test_invalid_model_config_proto\n",
      "INFO:tensorflow:time(__main__.ModelBuilderTF2Test.test_invalid_model_config_proto): 0.0s\n",
      "I0107 22:27:27.599817 140420454266688 test_util.py:2462] time(__main__.ModelBuilderTF2Test.test_invalid_model_config_proto): 0.0s\n",
      "[       OK ] ModelBuilderTF2Test.test_invalid_model_config_proto\n",
      "[ RUN      ] ModelBuilderTF2Test.test_invalid_second_stage_batch_size\n",
      "INFO:tensorflow:time(__main__.ModelBuilderTF2Test.test_invalid_second_stage_batch_size): 0.0s\n",
      "I0107 22:27:27.600802 140420454266688 test_util.py:2462] time(__main__.ModelBuilderTF2Test.test_invalid_second_stage_batch_size): 0.0s\n",
      "[       OK ] ModelBuilderTF2Test.test_invalid_second_stage_batch_size\n",
      "[ RUN      ] ModelBuilderTF2Test.test_session\n",
      "[  SKIPPED ] ModelBuilderTF2Test.test_session\n",
      "[ RUN      ] ModelBuilderTF2Test.test_unknown_faster_rcnn_feature_extractor\n",
      "INFO:tensorflow:time(__main__.ModelBuilderTF2Test.test_unknown_faster_rcnn_feature_extractor): 0.0s\n",
      "I0107 22:27:27.601915 140420454266688 test_util.py:2462] time(__main__.ModelBuilderTF2Test.test_unknown_faster_rcnn_feature_extractor): 0.0s\n",
      "[       OK ] ModelBuilderTF2Test.test_unknown_faster_rcnn_feature_extractor\n",
      "[ RUN      ] ModelBuilderTF2Test.test_unknown_meta_architecture\n",
      "INFO:tensorflow:time(__main__.ModelBuilderTF2Test.test_unknown_meta_architecture): 0.0s\n",
      "I0107 22:27:27.602309 140420454266688 test_util.py:2462] time(__main__.ModelBuilderTF2Test.test_unknown_meta_architecture): 0.0s\n",
      "[       OK ] ModelBuilderTF2Test.test_unknown_meta_architecture\n",
      "[ RUN      ] ModelBuilderTF2Test.test_unknown_ssd_feature_extractor\n",
      "INFO:tensorflow:time(__main__.ModelBuilderTF2Test.test_unknown_ssd_feature_extractor): 0.0s\n",
      "I0107 22:27:27.603134 140420454266688 test_util.py:2462] time(__main__.ModelBuilderTF2Test.test_unknown_ssd_feature_extractor): 0.0s\n",
      "[       OK ] ModelBuilderTF2Test.test_unknown_ssd_feature_extractor\n",
      "----------------------------------------------------------------------\n",
      "Ran 24 tests in 19.668s\n",
      "\n",
      "OK (skipped=1)\n"
     ]
    }
   ],
   "source": [
    "VERIFICATION_SCRIPT = os.path.join(paths['APIMODEL_PATH'], 'research', 'object_detection', 'builders', 'model_builder_tf2_test.py')\n",
    "# Verify Installation\n",
    "!python {VERIFICATION_SCRIPT}"
   ]
  },
  {
   "cell_type": "code",
   "execution_count": 7,
   "metadata": {},
   "outputs": [],
   "source": [
    "import object_detection"
   ]
  },
  {
   "cell_type": "code",
   "execution_count": 12,
   "metadata": {
    "scrolled": true
   },
   "outputs": [
    {
     "name": "stdout",
     "output_type": "stream",
     "text": [
      "Package                       Version\n",
      "----------------------------- ------------\n",
      "absl-py                       1.4.0\n",
      "apache-beam                   2.52.0\n",
      "array-record                  0.4.0\n",
      "asttokens                     2.4.1\n",
      "astunparse                    1.6.3\n",
      "attrs                         23.2.0\n",
      "avro-python3                  1.10.2\n",
      "backcall                      0.2.0\n",
      "backports.zoneinfo            0.2.1\n",
      "bleach                        6.1.0\n",
      "cachetools                    5.3.2\n",
      "certifi                       2023.11.17\n",
      "charset-normalizer            3.3.2\n",
      "click                         8.1.7\n",
      "cloudpickle                   2.2.1\n",
      "colorama                      0.4.6\n",
      "comm                          0.2.0\n",
      "contextlib2                   21.6.0\n",
      "contourpy                     1.1.1\n",
      "crcmod                        1.7\n",
      "cycler                        0.12.1\n",
      "Cython                        3.0.7\n",
      "debugpy                       1.8.0\n",
      "decorator                     5.1.1\n",
      "dill                          0.3.1.1\n",
      "dm-tree                       0.1.8\n",
      "dnspython                     2.4.2\n",
      "docopt                        0.6.2\n",
      "etils                         1.3.0\n",
      "executing                     2.0.1\n",
      "fastavro                      1.9.2\n",
      "fasteners                     0.19\n",
      "flatbuffers                   23.5.26\n",
      "fonttools                     4.47.0\n",
      "gast                          0.4.0\n",
      "gin-config                    0.5.0\n",
      "google-api-core               2.15.0\n",
      "google-api-python-client      2.111.0\n",
      "google-auth                   2.25.2\n",
      "google-auth-httplib2          0.2.0\n",
      "google-auth-oauthlib          1.0.0\n",
      "google-pasta                  0.2.0\n",
      "googleapis-common-protos      1.62.0\n",
      "grpcio                        1.60.0\n",
      "h5py                          3.10.0\n",
      "hdfs                          2.7.3\n",
      "httplib2                      0.22.0\n",
      "idna                          3.6\n",
      "immutabledict                 4.1.0\n",
      "importlib-metadata            7.0.1\n",
      "importlib-resources           6.1.1\n",
      "ipykernel                     6.28.0\n",
      "ipython                       8.12.3\n",
      "jedi                          0.19.1\n",
      "joblib                        1.3.2\n",
      "Js2Py                         0.74\n",
      "jsonschema                    4.20.0\n",
      "jsonschema-specifications     2023.12.1\n",
      "jupyter_client                8.6.0\n",
      "jupyter_core                  5.6.1\n",
      "kaggle                        1.5.16\n",
      "keras                         2.13.1\n",
      "kiwisolver                    1.4.5\n",
      "libclang                      16.0.6\n",
      "lvis                          0.5.3\n",
      "lxml                          5.0.0\n",
      "Markdown                      3.5.1\n",
      "MarkupSafe                    2.1.3\n",
      "matplotlib                    3.7.4\n",
      "matplotlib-inline             0.1.6\n",
      "nest-asyncio                  1.5.8\n",
      "numpy                         1.24.3\n",
      "nvidia-cublas-cu12            12.3.4.1\n",
      "nvidia-cuda-nvrtc-cu12        12.3.107\n",
      "nvidia-cuda-runtime-cu12      12.3.101\n",
      "nvidia-cudnn-cu12             8.9.7.29\n",
      "oauth2client                  4.1.3\n",
      "oauthlib                      3.2.2\n",
      "object-detection              0.1\n",
      "objsize                       0.6.1\n",
      "opencv-python                 4.9.0.80\n",
      "opencv-python-headless        4.9.0.80\n",
      "opt-einsum                    3.3.0\n",
      "orjson                        3.9.10\n",
      "packaging                     23.2\n",
      "pandas                        2.0.3\n",
      "parso                         0.8.3\n",
      "pexpect                       4.9.0\n",
      "pickleshare                   0.7.5\n",
      "pillow                        10.2.0\n",
      "pip                           23.3.2\n",
      "pkg_resources                 0.0.0\n",
      "pkgutil_resolve_name          1.3.10\n",
      "platformdirs                  4.1.0\n",
      "portalocker                   2.8.2\n",
      "promise                       2.3\n",
      "prompt-toolkit                3.0.43\n",
      "proto-plus                    1.23.0\n",
      "protobuf                      3.20.3\n",
      "psutil                        5.9.7\n",
      "ptyprocess                    0.7.0\n",
      "pure-eval                     0.2.2\n",
      "py-cpuinfo                    9.0.0\n",
      "pyarrow                       11.0.0\n",
      "pyarrow-hotfix                0.6\n",
      "pyasn1                        0.5.1\n",
      "pyasn1-modules                0.3.0\n",
      "pycocotools                   2.0.7\n",
      "pydot                         1.4.2\n",
      "Pygments                      2.17.2\n",
      "pyjsparser                    2.7.1\n",
      "pymongo                       4.6.1\n",
      "pyparsing                     2.4.7\n",
      "PyQt5                         5.15.10\n",
      "PyQt5-Qt5                     5.15.2\n",
      "PyQt5-sip                     12.13.0\n",
      "python-dateutil               2.8.2\n",
      "python-slugify                8.0.1\n",
      "pytz                          2023.3.post1\n",
      "PyYAML                        6.0.1\n",
      "pyzmq                         25.1.2\n",
      "referencing                   0.32.0\n",
      "regex                         2023.12.25\n",
      "requests                      2.31.0\n",
      "requests-oauthlib             1.3.1\n",
      "rpds-py                       0.16.2\n",
      "rsa                           4.9\n",
      "sacrebleu                     2.2.0\n",
      "scikit-learn                  1.3.2\n",
      "scipy                         1.10.1\n",
      "sentencepiece                 0.1.99\n",
      "seqeval                       1.2.2\n",
      "setuptools                    44.0.0\n",
      "six                           1.16.0\n",
      "stack-data                    0.6.3\n",
      "tabulate                      0.9.0\n",
      "tensorboard                   2.13.0\n",
      "tensorboard-data-server       0.7.2\n",
      "tensorflow                    2.13.1\n",
      "tensorflow-datasets           4.9.2\n",
      "tensorflow-estimator          2.13.0\n",
      "tensorflow-hub                0.15.0\n",
      "tensorflow-io                 0.34.0\n",
      "tensorflow-io-gcs-filesystem  0.34.0\n",
      "tensorflow-metadata           1.14.0\n",
      "tensorflow-model-optimization 0.7.5\n",
      "tensorflow-text               2.13.0\n",
      "tensorrt                      8.6.1.post1\n",
      "tensorrt-bindings             8.6.1\n",
      "tensorrt-libs                 8.6.1\n",
      "termcolor                     2.4.0\n",
      "text-unidecode                1.3\n",
      "tf-models-official            2.13.2\n",
      "tf-slim                       1.1.0\n",
      "threadpoolctl                 3.2.0\n",
      "toml                          0.10.2\n",
      "tornado                       6.4\n",
      "tqdm                          4.66.1\n",
      "traitlets                     5.14.0\n",
      "typing_extensions             4.5.0\n",
      "tzdata                        2023.4\n",
      "tzlocal                       5.2\n",
      "uritemplate                   4.1.1\n",
      "urllib3                       2.1.0\n",
      "wcwidth                       0.2.12\n",
      "webencodings                  0.5.1\n",
      "Werkzeug                      3.0.1\n",
      "wheel                         0.42.0\n",
      "wrapt                         1.16.0\n",
      "zipp                          3.17.0\n",
      "zstandard                     0.22.0\n"
     ]
    }
   ],
   "source": [
    "!pip list"
   ]
  },
  {
   "cell_type": "code",
   "execution_count": 11,
   "metadata": {
    "colab": {
     "base_uri": "https://localhost:8080/"
    },
    "id": "csofht2npfDE",
    "outputId": "ff5471b2-bed2-43f2-959c-327a706527b6"
   },
   "outputs": [
    {
     "name": "stdout",
     "output_type": "stream",
     "text": [
      "--2024-01-07 22:32:04--  http://download.tensorflow.org/models/object_detection/tf2/20200711/ssd_mobilenet_v2_fpnlite_320x320_coco17_tpu-8.tar.gz\n",
      "Resolving download.tensorflow.org (download.tensorflow.org)... 142.250.207.219, 142.250.195.27, 142.250.194.251, ...\n",
      "Connecting to download.tensorflow.org (download.tensorflow.org)|142.250.207.219|:80... connected.\n",
      "HTTP request sent, awaiting response... 200 OK\n",
      "Length: 20515344 (20M) [application/x-tar]\n",
      "Saving to: ‘ssd_mobilenet_v2_fpnlite_320x320_coco17_tpu-8.tar.gz’\n",
      "\n",
      "ssd_mobilenet_v2_fp 100%[===================>]  19.56M  6.78MB/s    in 2.9s    \n",
      "\n",
      "2024-01-07 22:32:12 (6.78 MB/s) - ‘ssd_mobilenet_v2_fpnlite_320x320_coco17_tpu-8.tar.gz’ saved [20515344/20515344]\n",
      "\n",
      "ssd_mobilenet_v2_fpnlite_320x320_coco17_tpu-8/\n",
      "ssd_mobilenet_v2_fpnlite_320x320_coco17_tpu-8/checkpoint/\n",
      "ssd_mobilenet_v2_fpnlite_320x320_coco17_tpu-8/checkpoint/ckpt-0.data-00000-of-00001\n",
      "ssd_mobilenet_v2_fpnlite_320x320_coco17_tpu-8/checkpoint/checkpoint\n",
      "ssd_mobilenet_v2_fpnlite_320x320_coco17_tpu-8/checkpoint/ckpt-0.index\n",
      "ssd_mobilenet_v2_fpnlite_320x320_coco17_tpu-8/pipeline.config\n",
      "ssd_mobilenet_v2_fpnlite_320x320_coco17_tpu-8/saved_model/\n",
      "ssd_mobilenet_v2_fpnlite_320x320_coco17_tpu-8/saved_model/saved_model.pb\n",
      "ssd_mobilenet_v2_fpnlite_320x320_coco17_tpu-8/saved_model/variables/\n",
      "ssd_mobilenet_v2_fpnlite_320x320_coco17_tpu-8/saved_model/variables/variables.data-00000-of-00001\n",
      "ssd_mobilenet_v2_fpnlite_320x320_coco17_tpu-8/saved_model/variables/variables.index\n"
     ]
    }
   ],
   "source": [
    "if os.name =='posix':\n",
    "    !wget {PRETRAINED_MODEL_URL}\n",
    "    !mv {PRETRAINED_MODEL_NAME+'.tar.gz'} {paths['PRETRAINED_MODEL_PATH']}\n",
    "    !cd {paths['PRETRAINED_MODEL_PATH']} && tar -zxvf {PRETRAINED_MODEL_NAME+'.tar.gz'}\n",
    "if os.name == 'nt':\n",
    "    wget.download(PRETRAINED_MODEL_URL)\n",
    "    !move {PRETRAINED_MODEL_NAME+'.tar.gz'} {paths['PRETRAINED_MODEL_PATH']}\n",
    "    !cd {paths['PRETRAINED_MODEL_PATH']} && tar -zxvf {PRETRAINED_MODEL_NAME+'.tar.gz'}"
   ]
  },
  {
   "cell_type": "markdown",
   "metadata": {
    "id": "M5KJTnkfpfDC"
   },
   "source": [
    "# 2. Create Label Map"
   ]
  },
  {
   "cell_type": "code",
   "execution_count": 8,
   "metadata": {
    "id": "p1BVDWo7pfDC"
   },
   "outputs": [],
   "source": [
    "labels = [{'name': 'A', 'id': 1},\n",
    "{'name': 'B', 'id': 2},\n",
    "{'name': 'C', 'id': 3},\n",
    "{'name': 'D', 'id': 4},\n",
    "{'name': 'E', 'id': 5},\n",
    "{'name': 'F', 'id': 6},]\n",
    "\n",
    "with open(files['LABELMAP'], 'w') as f:\n",
    "    for label in labels:\n",
    "        f.write('item { \\n')\n",
    "        f.write('\\tname:\\'{}\\'\\n'.format(label['name']))\n",
    "        f.write('\\tid:{}\\n'.format(label['id']))\n",
    "        f.write('}\\n')"
   ]
  },
  {
   "cell_type": "markdown",
   "metadata": {
    "id": "C88zyVELpfDC"
   },
   "source": [
    "# 3. Create TF records"
   ]
  },
  {
   "cell_type": "code",
   "execution_count": 9,
   "metadata": {
    "colab": {
     "base_uri": "https://localhost:8080/"
    },
    "id": "kvf5WccwrFGq",
    "outputId": "49902aeb-0bd7-4298-e1a0-5b4a64eb2064"
   },
   "outputs": [],
   "source": [
    "# OPTIONAL IF RUNNING ON COLAB\n",
    "ARCHIVE_FILES = os.path.join(paths['IMAGE_PATH'], 'archive.tar.gz')\n",
    "if os.path.exists(ARCHIVE_FILES):\n",
    "  !tar -zxvf {ARCHIVE_FILES}"
   ]
  },
  {
   "cell_type": "code",
   "execution_count": 10,
   "metadata": {
    "colab": {
     "base_uri": "https://localhost:8080/"
    },
    "id": "KWpb_BVUpfDD",
    "outputId": "56ce2a3f-3933-4ee6-8a9d-d5ec65f7d73c"
   },
   "outputs": [],
   "source": [
    "if not os.path.exists(files['TF_RECORD_SCRIPT']):\n",
    "    !git clone https://github.com/nicknochnack/GenerateTFRecord {paths['SCRIPTS_PATH']}"
   ]
  },
  {
   "cell_type": "code",
   "execution_count": 15,
   "metadata": {
    "colab": {
     "base_uri": "https://localhost:8080/"
    },
    "id": "UPFToGZqpfDD",
    "outputId": "0ebb456f-aadc-4a1f-96e6-fbfec1923e1c"
   },
   "outputs": [
    {
     "name": "stdout",
     "output_type": "stream",
     "text": [
      "Successfully created the TFRecord file: Tensorflow/workspace/annotations/train.record\n",
      "Successfully created the TFRecord file: Tensorflow/workspace/annotations/test.record\n"
     ]
    }
   ],
   "source": [
    "!python {files['TF_RECORD_SCRIPT']} -x {os.path.join(paths['IMAGE_PATH'], 'train')} -l {files['LABELMAP']} -o {os.path.join(paths['ANNOTATION_PATH'], 'train.record')} \n",
    "!python {files['TF_RECORD_SCRIPT']} -x {os.path.join(paths['IMAGE_PATH'], 'test')} -l {files['LABELMAP']} -o {os.path.join(paths['ANNOTATION_PATH'], 'test.record')} "
   ]
  },
  {
   "cell_type": "markdown",
   "metadata": {
    "id": "qT4QU7pLpfDE"
   },
   "source": [
    "# 4. Copy Model Config to Training Folder"
   ]
  },
  {
   "cell_type": "code",
   "execution_count": 16,
   "metadata": {
    "id": "cOjuTFbwpfDF"
   },
   "outputs": [],
   "source": [
    "if os.name =='posix':\n",
    "    !cp {os.path.join(paths['PRETRAINED_MODEL_PATH'], PRETRAINED_MODEL_NAME, 'pipeline.config')} {os.path.join(paths['CHECKPOINT_PATH'])}\n",
    "if os.name == 'nt':\n",
    "    !copy {os.path.join(paths['PRETRAINED_MODEL_PATH'], PRETRAINED_MODEL_NAME, 'pipeline.config')} {os.path.join(paths['CHECKPOINT_PATH'])}"
   ]
  },
  {
   "cell_type": "markdown",
   "metadata": {
    "id": "Ga8gpNslpfDF"
   },
   "source": [
    "# 5. Update Config For Transfer Learning"
   ]
  },
  {
   "cell_type": "code",
   "execution_count": 9,
   "metadata": {},
   "outputs": [
    {
     "name": "stdout",
     "output_type": "stream",
     "text": [
      "Requirement already satisfied: tensorrt in ./tfod/lib/python3.8/site-packages (8.6.1.post1)\n",
      "Note: you may need to restart the kernel to use updated packages.\n"
     ]
    }
   ],
   "source": [
    "pip install tensorrt"
   ]
  },
  {
   "cell_type": "code",
   "execution_count": 10,
   "metadata": {
    "id": "Z9hRrO_ppfDF"
   },
   "outputs": [
    {
     "name": "stderr",
     "output_type": "stream",
     "text": [
      "2024-01-11 22:04:39.514864: I tensorflow/core/util/port.cc:110] oneDNN custom operations are on. You may see slightly different numerical results due to floating-point round-off errors from different computation orders. To turn them off, set the environment variable `TF_ENABLE_ONEDNN_OPTS=0`.\n",
      "2024-01-11 22:04:39.516381: I tensorflow/tsl/cuda/cudart_stub.cc:28] Could not find cuda drivers on your machine, GPU will not be used.\n",
      "2024-01-11 22:04:39.547351: I tensorflow/tsl/cuda/cudart_stub.cc:28] Could not find cuda drivers on your machine, GPU will not be used.\n",
      "2024-01-11 22:04:39.548486: I tensorflow/core/platform/cpu_feature_guard.cc:182] This TensorFlow binary is optimized to use available CPU instructions in performance-critical operations.\n",
      "To enable the following instructions: AVX2 AVX512F AVX512_VNNI FMA, in other operations, rebuild TensorFlow with the appropriate compiler flags.\n",
      "2024-01-11 22:04:40.229749: W tensorflow/compiler/tf2tensorrt/utils/py_utils.cc:38] TF-TRT Warning: Could not find TensorRT\n"
     ]
    }
   ],
   "source": [
    "import tensorflow as tf\n",
    "from object_detection.utils import config_util\n",
    "from object_detection.protos import pipeline_pb2\n",
    "from google.protobuf import text_format"
   ]
  },
  {
   "cell_type": "code",
   "execution_count": 11,
   "metadata": {
    "id": "c2A0mn4ipfDF"
   },
   "outputs": [],
   "source": [
    "\n",
    "config = config_util.get_configs_from_pipeline_file(files['PIPELINE_CONFIG'])"
   ]
  },
  {
   "cell_type": "code",
   "execution_count": 12,
   "metadata": {
    "colab": {
     "base_uri": "https://localhost:8080/"
    },
    "id": "uQA13-afpfDF",
    "outputId": "907496a4-a39d-4b13-8c2c-e5978ecb1f10"
   },
   "outputs": [
    {
     "data": {
      "text/plain": [
       "{'model': ssd {\n",
       "   num_classes: 6\n",
       "   image_resizer {\n",
       "     fixed_shape_resizer {\n",
       "       height: 320\n",
       "       width: 320\n",
       "     }\n",
       "   }\n",
       "   feature_extractor {\n",
       "     type: \"ssd_mobilenet_v2_fpn_keras\"\n",
       "     depth_multiplier: 1.0\n",
       "     min_depth: 16\n",
       "     conv_hyperparams {\n",
       "       regularizer {\n",
       "         l2_regularizer {\n",
       "           weight: 3.9999998989515007e-05\n",
       "         }\n",
       "       }\n",
       "       initializer {\n",
       "         random_normal_initializer {\n",
       "           mean: 0.0\n",
       "           stddev: 0.009999999776482582\n",
       "         }\n",
       "       }\n",
       "       activation: RELU_6\n",
       "       batch_norm {\n",
       "         decay: 0.996999979019165\n",
       "         scale: true\n",
       "         epsilon: 0.0010000000474974513\n",
       "       }\n",
       "     }\n",
       "     use_depthwise: true\n",
       "     override_base_feature_extractor_hyperparams: true\n",
       "     fpn {\n",
       "       min_level: 3\n",
       "       max_level: 7\n",
       "       additional_layer_depth: 128\n",
       "     }\n",
       "   }\n",
       "   box_coder {\n",
       "     faster_rcnn_box_coder {\n",
       "       y_scale: 10.0\n",
       "       x_scale: 10.0\n",
       "       height_scale: 5.0\n",
       "       width_scale: 5.0\n",
       "     }\n",
       "   }\n",
       "   matcher {\n",
       "     argmax_matcher {\n",
       "       matched_threshold: 0.5\n",
       "       unmatched_threshold: 0.5\n",
       "       ignore_thresholds: false\n",
       "       negatives_lower_than_unmatched: true\n",
       "       force_match_for_each_row: true\n",
       "       use_matmul_gather: true\n",
       "     }\n",
       "   }\n",
       "   similarity_calculator {\n",
       "     iou_similarity {\n",
       "     }\n",
       "   }\n",
       "   box_predictor {\n",
       "     weight_shared_convolutional_box_predictor {\n",
       "       conv_hyperparams {\n",
       "         regularizer {\n",
       "           l2_regularizer {\n",
       "             weight: 3.9999998989515007e-05\n",
       "           }\n",
       "         }\n",
       "         initializer {\n",
       "           random_normal_initializer {\n",
       "             mean: 0.0\n",
       "             stddev: 0.009999999776482582\n",
       "           }\n",
       "         }\n",
       "         activation: RELU_6\n",
       "         batch_norm {\n",
       "           decay: 0.996999979019165\n",
       "           scale: true\n",
       "           epsilon: 0.0010000000474974513\n",
       "         }\n",
       "       }\n",
       "       depth: 128\n",
       "       num_layers_before_predictor: 4\n",
       "       kernel_size: 3\n",
       "       class_prediction_bias_init: -4.599999904632568\n",
       "       share_prediction_tower: true\n",
       "       use_depthwise: true\n",
       "     }\n",
       "   }\n",
       "   anchor_generator {\n",
       "     multiscale_anchor_generator {\n",
       "       min_level: 3\n",
       "       max_level: 7\n",
       "       anchor_scale: 4.0\n",
       "       aspect_ratios: 1.0\n",
       "       aspect_ratios: 2.0\n",
       "       aspect_ratios: 0.5\n",
       "       scales_per_octave: 2\n",
       "     }\n",
       "   }\n",
       "   post_processing {\n",
       "     batch_non_max_suppression {\n",
       "       score_threshold: 9.99999993922529e-09\n",
       "       iou_threshold: 0.6000000238418579\n",
       "       max_detections_per_class: 100\n",
       "       max_total_detections: 100\n",
       "       use_static_shapes: false\n",
       "     }\n",
       "     score_converter: SIGMOID\n",
       "   }\n",
       "   normalize_loss_by_num_matches: true\n",
       "   loss {\n",
       "     localization_loss {\n",
       "       weighted_smooth_l1 {\n",
       "       }\n",
       "     }\n",
       "     classification_loss {\n",
       "       weighted_sigmoid_focal {\n",
       "         gamma: 2.0\n",
       "         alpha: 0.25\n",
       "       }\n",
       "     }\n",
       "     classification_weight: 1.0\n",
       "     localization_weight: 1.0\n",
       "   }\n",
       "   encode_background_as_zeros: true\n",
       "   normalize_loc_loss_by_codesize: true\n",
       "   inplace_batchnorm_update: true\n",
       "   freeze_batchnorm: false\n",
       " },\n",
       " 'train_config': batch_size: 4\n",
       " data_augmentation_options {\n",
       "   random_horizontal_flip {\n",
       "   }\n",
       " }\n",
       " data_augmentation_options {\n",
       "   random_crop_image {\n",
       "     min_object_covered: 0.0\n",
       "     min_aspect_ratio: 0.75\n",
       "     max_aspect_ratio: 3.0\n",
       "     min_area: 0.75\n",
       "     max_area: 1.0\n",
       "     overlap_thresh: 0.0\n",
       "   }\n",
       " }\n",
       " sync_replicas: true\n",
       " optimizer {\n",
       "   momentum_optimizer {\n",
       "     learning_rate {\n",
       "       cosine_decay_learning_rate {\n",
       "         learning_rate_base: 0.07999999821186066\n",
       "         total_steps: 50000\n",
       "         warmup_learning_rate: 0.026666000485420227\n",
       "         warmup_steps: 1000\n",
       "       }\n",
       "     }\n",
       "     momentum_optimizer_value: 0.8999999761581421\n",
       "   }\n",
       "   use_moving_average: false\n",
       " }\n",
       " fine_tune_checkpoint: \"Tensorflow/workspace/pre-trained-models/ssd_mobilenet_v2_fpnlite_320x320_coco17_tpu-8/checkpoint/ckpt-0\"\n",
       " num_steps: 50000\n",
       " startup_delay_steps: 0.0\n",
       " replicas_to_aggregate: 8\n",
       " max_number_of_boxes: 100\n",
       " unpad_groundtruth_tensors: false\n",
       " fine_tune_checkpoint_type: \"detection\"\n",
       " fine_tune_checkpoint_version: V2,\n",
       " 'train_input_config': label_map_path: \"Tensorflow/workspace/annotations/label_map.pbtxt\"\n",
       " tf_record_input_reader {\n",
       "   input_path: \"Tensorflow/workspace/annotations/train.record\"\n",
       " },\n",
       " 'eval_config': metrics_set: \"coco_detection_metrics\"\n",
       " use_moving_averages: false,\n",
       " 'eval_input_configs': [label_map_path: \"Tensorflow/workspace/annotations/label_map.pbtxt\"\n",
       " shuffle: false\n",
       " num_epochs: 1\n",
       " tf_record_input_reader {\n",
       "   input_path: \"Tensorflow/workspace/annotations/test.record\"\n",
       " }\n",
       " ],\n",
       " 'eval_input_config': label_map_path: \"Tensorflow/workspace/annotations/label_map.pbtxt\"\n",
       " shuffle: false\n",
       " num_epochs: 1\n",
       " tf_record_input_reader {\n",
       "   input_path: \"Tensorflow/workspace/annotations/test.record\"\n",
       " }}"
      ]
     },
     "execution_count": 12,
     "metadata": {},
     "output_type": "execute_result"
    }
   ],
   "source": [
    "config"
   ]
  },
  {
   "cell_type": "code",
   "execution_count": 13,
   "metadata": {
    "id": "9vK5lotDpfDF"
   },
   "outputs": [],
   "source": [
    "pipeline_config = pipeline_pb2.TrainEvalPipelineConfig()\n",
    "with tf.io.gfile.GFile(files['PIPELINE_CONFIG'], \"r\") as f:                                                                                                                                                                                                                     \n",
    "    proto_str = f.read()                                                                                                                                                                                                                                          \n",
    "    text_format.Merge(proto_str, pipeline_config)  "
   ]
  },
  {
   "cell_type": "code",
   "execution_count": 14,
   "metadata": {
    "id": "rP43Ph0JpfDG"
   },
   "outputs": [],
   "source": [
    "pipeline_config.model.ssd.num_classes = len(labels)\n",
    "pipeline_config.train_config.batch_size = 4\n",
    "pipeline_config.train_config.fine_tune_checkpoint = os.path.join(paths['PRETRAINED_MODEL_PATH'], PRETRAINED_MODEL_NAME, 'checkpoint', 'ckpt-0')\n",
    "pipeline_config.train_config.fine_tune_checkpoint_type = \"detection\"\n",
    "pipeline_config.train_input_reader.label_map_path= files['LABELMAP']\n",
    "pipeline_config.train_input_reader.tf_record_input_reader.input_path[:] = [os.path.join(paths['ANNOTATION_PATH'], 'train.record')]\n",
    "pipeline_config.eval_input_reader[0].label_map_path = files['LABELMAP']\n",
    "pipeline_config.eval_input_reader[0].tf_record_input_reader.input_path[:] = [os.path.join(paths['ANNOTATION_PATH'], 'test.record')]"
   ]
  },
  {
   "cell_type": "code",
   "execution_count": 19,
   "metadata": {
    "id": "oJvfgwWqpfDG"
   },
   "outputs": [],
   "source": [
    "config_text = text_format.MessageToString(pipeline_config)                                                                                                                                                                                                        \n",
    "with tf.io.gfile.GFile(files['PIPELINE_CONFIG'], \"wb\") as f:                                                                                                                                                                                                                     \n",
    "    f.write(config_text)   "
   ]
  },
  {
   "cell_type": "markdown",
   "metadata": {
    "id": "Zr3ON7xMpfDG"
   },
   "source": [
    "# 6. Train the model"
   ]
  },
  {
   "cell_type": "code",
   "execution_count": 28,
   "metadata": {
    "id": "B-Y2UQmQpfDG"
   },
   "outputs": [],
   "source": [
    "TRAINING_SCRIPT = os.path.join(paths['APIMODEL_PATH'], 'research', 'object_detection', 'model_main_tf2.py')"
   ]
  },
  {
   "cell_type": "code",
   "execution_count": 30,
   "metadata": {
    "id": "jMP2XDfQpfDH"
   },
   "outputs": [],
   "source": [
    "command = \"python {} --model_dir={} --pipeline_config_path={} --num_train_steps=10000\".format(TRAINING_SCRIPT, paths['CHECKPOINT_PATH'],files['PIPELINE_CONFIG'])"
   ]
  },
  {
   "cell_type": "code",
   "execution_count": 31,
   "metadata": {
    "colab": {
     "base_uri": "https://localhost:8080/"
    },
    "id": "A4OXXi-ApfDH",
    "outputId": "117a0e83-012b-466e-b7a6-ccaa349ac5ab"
   },
   "outputs": [
    {
     "name": "stdout",
     "output_type": "stream",
     "text": [
      "python Tensorflow/models/research/object_detection/model_main_tf2.py --model_dir=Tensorflow/workspace/models/my_ssd_mobnet --pipeline_config_path=Tensorflow/workspace/models/my_ssd_mobnet/pipeline.config --num_train_steps=10000\n"
     ]
    }
   ],
   "source": [
    "print(command)"
   ]
  },
  {
   "cell_type": "code",
   "execution_count": 29,
   "metadata": {
    "colab": {
     "base_uri": "https://localhost:8080/"
    },
    "id": "i3ZsJR-qpfDH",
    "outputId": "cabec5e1-45e6-4f2f-d9cf-297d9c1d0225",
    "scrolled": true
   },
   "outputs": [
    {
     "name": "stdout",
     "output_type": "stream",
     "text": [
      "2024-01-05 01:07:52.525508: I tensorflow/core/util/port.cc:110] oneDNN custom operations are on. You may see slightly different numerical results due to floating-point round-off errors from different computation orders. To turn them off, set the environment variable `TF_ENABLE_ONEDNN_OPTS=0`.\n",
      "2024-01-05 01:07:52.526881: I tensorflow/tsl/cuda/cudart_stub.cc:28] Could not find cuda drivers on your machine, GPU will not be used.\n",
      "2024-01-05 01:07:52.554927: I tensorflow/tsl/cuda/cudart_stub.cc:28] Could not find cuda drivers on your machine, GPU will not be used.\n",
      "2024-01-05 01:07:52.555228: I tensorflow/core/platform/cpu_feature_guard.cc:182] This TensorFlow binary is optimized to use available CPU instructions in performance-critical operations.\n",
      "To enable the following instructions: AVX2 AVX512F AVX512_VNNI FMA, in other operations, rebuild TensorFlow with the appropriate compiler flags.\n",
      "2024-01-05 01:07:53.153367: W tensorflow/compiler/tf2tensorrt/utils/py_utils.cc:38] TF-TRT Warning: Could not find TensorRT\n",
      "INFO:tensorflow:Using MirroredStrategy with devices ('/job:localhost/replica:0/task:0/device:CPU:0',)\n",
      "I0105 01:07:54.351542 139690883233600 mirrored_strategy.py:419] Using MirroredStrategy with devices ('/job:localhost/replica:0/task:0/device:CPU:0',)\n",
      "INFO:tensorflow:Maybe overwriting train_steps: 1000\n",
      "I0105 01:07:54.371186 139690883233600 config_util.py:552] Maybe overwriting train_steps: 1000\n",
      "INFO:tensorflow:Maybe overwriting use_bfloat16: False\n",
      "I0105 01:07:54.371308 139690883233600 config_util.py:552] Maybe overwriting use_bfloat16: False\n",
      "WARNING:tensorflow:From /home/ronit/Documents/SOC/sign langauge detector/TFODCourse/tfod/lib/python3.8/site-packages/object_detection/model_lib_v2.py:563: StrategyBase.experimental_distribute_datasets_from_function (from tensorflow.python.distribute.distribute_lib) is deprecated and will be removed in a future version.\n",
      "Instructions for updating:\n",
      "rename to distribute_datasets_from_function\n",
      "W0105 01:07:54.394467 139690883233600 deprecation.py:364] From /home/ronit/Documents/SOC/sign langauge detector/TFODCourse/tfod/lib/python3.8/site-packages/object_detection/model_lib_v2.py:563: StrategyBase.experimental_distribute_datasets_from_function (from tensorflow.python.distribute.distribute_lib) is deprecated and will be removed in a future version.\n",
      "Instructions for updating:\n",
      "rename to distribute_datasets_from_function\n",
      "INFO:tensorflow:Reading unweighted datasets: ['Tensorflow/workspace/annotations/train.record']\n",
      "I0105 01:07:54.402363 139690883233600 dataset_builder.py:162] Reading unweighted datasets: ['Tensorflow/workspace/annotations/train.record']\n",
      "INFO:tensorflow:Reading record datasets for input file: ['Tensorflow/workspace/annotations/train.record']\n",
      "I0105 01:07:54.402526 139690883233600 dataset_builder.py:79] Reading record datasets for input file: ['Tensorflow/workspace/annotations/train.record']\n",
      "INFO:tensorflow:Number of filenames to read: 1\n",
      "I0105 01:07:54.402566 139690883233600 dataset_builder.py:80] Number of filenames to read: 1\n",
      "WARNING:tensorflow:num_readers has been reduced to 1 to match input file shards.\n",
      "W0105 01:07:54.402595 139690883233600 dataset_builder.py:86] num_readers has been reduced to 1 to match input file shards.\n",
      "WARNING:tensorflow:From /home/ronit/Documents/SOC/sign langauge detector/TFODCourse/tfod/lib/python3.8/site-packages/object_detection/builders/dataset_builder.py:100: parallel_interleave (from tensorflow.python.data.experimental.ops.interleave_ops) is deprecated and will be removed in a future version.\n",
      "Instructions for updating:\n",
      "Use `tf.data.Dataset.interleave(map_func, cycle_length, block_length, num_parallel_calls=tf.data.AUTOTUNE)` instead. If sloppy execution is desired, use `tf.data.Options.deterministic`.\n",
      "W0105 01:07:54.413328 139690883233600 deprecation.py:364] From /home/ronit/Documents/SOC/sign langauge detector/TFODCourse/tfod/lib/python3.8/site-packages/object_detection/builders/dataset_builder.py:100: parallel_interleave (from tensorflow.python.data.experimental.ops.interleave_ops) is deprecated and will be removed in a future version.\n",
      "Instructions for updating:\n",
      "Use `tf.data.Dataset.interleave(map_func, cycle_length, block_length, num_parallel_calls=tf.data.AUTOTUNE)` instead. If sloppy execution is desired, use `tf.data.Options.deterministic`.\n",
      "WARNING:tensorflow:From /home/ronit/Documents/SOC/sign langauge detector/TFODCourse/tfod/lib/python3.8/site-packages/object_detection/builders/dataset_builder.py:235: DatasetV1.map_with_legacy_function (from tensorflow.python.data.ops.dataset_ops) is deprecated and will be removed in a future version.\n",
      "Instructions for updating:\n",
      "Use `tf.data.Dataset.map()\n",
      "W0105 01:07:54.425553 139690883233600 deprecation.py:364] From /home/ronit/Documents/SOC/sign langauge detector/TFODCourse/tfod/lib/python3.8/site-packages/object_detection/builders/dataset_builder.py:235: DatasetV1.map_with_legacy_function (from tensorflow.python.data.ops.dataset_ops) is deprecated and will be removed in a future version.\n",
      "Instructions for updating:\n",
      "Use `tf.data.Dataset.map()\n",
      "WARNING:tensorflow:From /home/ronit/Documents/SOC/sign langauge detector/TFODCourse/tfod/lib/python3.8/site-packages/tensorflow/python/util/dispatch.py:1176: sparse_to_dense (from tensorflow.python.ops.sparse_ops) is deprecated and will be removed in a future version.\n",
      "Instructions for updating:\n",
      "Create a `tf.sparse.SparseTensor` and use `tf.sparse.to_dense` instead.\n",
      "W0105 01:07:58.299557 139690883233600 deprecation.py:364] From /home/ronit/Documents/SOC/sign langauge detector/TFODCourse/tfod/lib/python3.8/site-packages/tensorflow/python/util/dispatch.py:1176: sparse_to_dense (from tensorflow.python.ops.sparse_ops) is deprecated and will be removed in a future version.\n",
      "Instructions for updating:\n",
      "Create a `tf.sparse.SparseTensor` and use `tf.sparse.to_dense` instead.\n",
      "WARNING:tensorflow:From /home/ronit/Documents/SOC/sign langauge detector/TFODCourse/tfod/lib/python3.8/site-packages/tensorflow/python/util/dispatch.py:1176: sample_distorted_bounding_box (from tensorflow.python.ops.image_ops_impl) is deprecated and will be removed in a future version.\n",
      "Instructions for updating:\n",
      "`seed2` arg is deprecated.Use sample_distorted_bounding_box_v2 instead.\n",
      "W0105 01:07:59.877454 139690883233600 deprecation.py:364] From /home/ronit/Documents/SOC/sign langauge detector/TFODCourse/tfod/lib/python3.8/site-packages/tensorflow/python/util/dispatch.py:1176: sample_distorted_bounding_box (from tensorflow.python.ops.image_ops_impl) is deprecated and will be removed in a future version.\n",
      "Instructions for updating:\n",
      "`seed2` arg is deprecated.Use sample_distorted_bounding_box_v2 instead.\n",
      "WARNING:tensorflow:From /home/ronit/Documents/SOC/sign langauge detector/TFODCourse/tfod/lib/python3.8/site-packages/tensorflow/python/util/dispatch.py:1176: to_float (from tensorflow.python.ops.math_ops) is deprecated and will be removed in a future version.\n",
      "Instructions for updating:\n",
      "Use `tf.cast` instead.\n",
      "W0105 01:08:00.692078 139690883233600 deprecation.py:364] From /home/ronit/Documents/SOC/sign langauge detector/TFODCourse/tfod/lib/python3.8/site-packages/tensorflow/python/util/dispatch.py:1176: to_float (from tensorflow.python.ops.math_ops) is deprecated and will be removed in a future version.\n",
      "Instructions for updating:\n",
      "Use `tf.cast` instead.\n",
      "2024-01-05 01:08:02.300399: W tensorflow/core/framework/dataset.cc:956] Input of GeneratorDatasetOp::Dataset will not be optimized because the dataset does not implement the AsGraphDefInternal() method needed to apply optimizations.\n",
      "/home/ronit/Documents/SOC/sign langauge detector/TFODCourse/tfod/lib/python3.8/site-packages/keras/src/backend.py:452: UserWarning: `tf.keras.backend.set_learning_phase` is deprecated and will be removed after 2020-10-11. To update it, simply pass a True/False value to the `training` argument of the `__call__` method of your layer or model.\n",
      "  warnings.warn(\n",
      "I0105 01:08:05.093632 139686999734016 api.py:460] feature_map_spatial_dims: [(40, 40), (20, 20), (10, 10), (5, 5), (3, 3)]\n",
      "I0105 01:08:09.688410 139686999734016 api.py:460] feature_map_spatial_dims: [(40, 40), (20, 20), (10, 10), (5, 5), (3, 3)]\n",
      "WARNING:tensorflow:Detecting that an object or model or tf.train.Checkpoint is being deleted with unrestored values. See the following logs for the specific values in question. To silence these warnings, use `status.expect_partial()`. See https://www.tensorflow.org/api_docs/python/tf/train/Checkpoint#restorefor details about the status object returned by the restore function.\n",
      "W0105 01:08:12.754744 139690883233600 checkpoint.py:208] Detecting that an object or model or tf.train.Checkpoint is being deleted with unrestored values. See the following logs for the specific values in question. To silence these warnings, use `status.expect_partial()`. See https://www.tensorflow.org/api_docs/python/tf/train/Checkpoint#restorefor details about the status object returned by the restore function.\n",
      "WARNING:tensorflow:Value in checkpoint could not be found in the restored object: (root).optimizer.iter\n",
      "W0105 01:08:12.754873 139690883233600 checkpoint.py:217] Value in checkpoint could not be found in the restored object: (root).optimizer.iter\n",
      "WARNING:tensorflow:Value in checkpoint could not be found in the restored object: (root).optimizer.decay\n",
      "W0105 01:08:12.754909 139690883233600 checkpoint.py:217] Value in checkpoint could not be found in the restored object: (root).optimizer.decay\n",
      "WARNING:tensorflow:Value in checkpoint could not be found in the restored object: (root).optimizer.momentum\n",
      "W0105 01:08:12.754936 139690883233600 checkpoint.py:217] Value in checkpoint could not be found in the restored object: (root).optimizer.momentum\n"
     ]
    }
   ],
   "source": [
    "!{command}"
   ]
  },
  {
   "cell_type": "markdown",
   "metadata": {
    "id": "4_YRZu7npfDH"
   },
   "source": [
    "# 7. Evaluate the Model"
   ]
  },
  {
   "cell_type": "code",
   "execution_count": 30,
   "metadata": {
    "id": "80L7-fdPpfDH"
   },
   "outputs": [],
   "source": [
    "command = \"python {} --model_dir={} --pipeline_config_path={} --checkpoint_dir={}\".format(TRAINING_SCRIPT, paths['CHECKPOINT_PATH'],files['PIPELINE_CONFIG'], paths['CHECKPOINT_PATH'])"
   ]
  },
  {
   "cell_type": "code",
   "execution_count": 31,
   "metadata": {
    "colab": {
     "base_uri": "https://localhost:8080/"
    },
    "id": "lYsgEPx9pfDH",
    "outputId": "8632d48b-91d2-45d9-bcb8-c1b172bf6eed"
   },
   "outputs": [
    {
     "name": "stdout",
     "output_type": "stream",
     "text": [
      "python Tensorflow/models/research/object_detection/model_main_tf2.py --model_dir=Tensorflow/workspace/models/my_ssd_mobnet --pipeline_config_path=Tensorflow/workspace/models/my_ssd_mobnet/pipeline.config --checkpoint_dir=Tensorflow/workspace/models/my_ssd_mobnet\n"
     ]
    }
   ],
   "source": [
    "print(command)"
   ]
  },
  {
   "cell_type": "code",
   "execution_count": 32,
   "metadata": {
    "id": "lqTV2jGBpfDH",
    "scrolled": true
   },
   "outputs": [
    {
     "name": "stdout",
     "output_type": "stream",
     "text": [
      "2024-01-05 01:08:13.683241: I tensorflow/core/util/port.cc:110] oneDNN custom operations are on. You may see slightly different numerical results due to floating-point round-off errors from different computation orders. To turn them off, set the environment variable `TF_ENABLE_ONEDNN_OPTS=0`.\n",
      "2024-01-05 01:08:13.684493: I tensorflow/tsl/cuda/cudart_stub.cc:28] Could not find cuda drivers on your machine, GPU will not be used.\n",
      "2024-01-05 01:08:13.712599: I tensorflow/tsl/cuda/cudart_stub.cc:28] Could not find cuda drivers on your machine, GPU will not be used.\n",
      "2024-01-05 01:08:13.712914: I tensorflow/core/platform/cpu_feature_guard.cc:182] This TensorFlow binary is optimized to use available CPU instructions in performance-critical operations.\n",
      "To enable the following instructions: AVX2 AVX512F AVX512_VNNI FMA, in other operations, rebuild TensorFlow with the appropriate compiler flags.\n",
      "2024-01-05 01:08:14.335798: W tensorflow/compiler/tf2tensorrt/utils/py_utils.cc:38] TF-TRT Warning: Could not find TensorRT\n",
      "WARNING:tensorflow:Forced number of epochs for all eval validations to be 1.\n",
      "W0105 01:08:15.526570 140023430821696 model_lib_v2.py:1089] Forced number of epochs for all eval validations to be 1.\n",
      "INFO:tensorflow:Maybe overwriting sample_1_of_n_eval_examples: None\n",
      "I0105 01:08:15.526679 140023430821696 config_util.py:552] Maybe overwriting sample_1_of_n_eval_examples: None\n",
      "INFO:tensorflow:Maybe overwriting use_bfloat16: False\n",
      "I0105 01:08:15.526713 140023430821696 config_util.py:552] Maybe overwriting use_bfloat16: False\n",
      "INFO:tensorflow:Maybe overwriting eval_num_epochs: 1\n",
      "I0105 01:08:15.526746 140023430821696 config_util.py:552] Maybe overwriting eval_num_epochs: 1\n",
      "WARNING:tensorflow:Expected number of evaluation epochs is 1, but instead encountered `eval_on_train_input_config.num_epochs` = 0. Overwriting `num_epochs` to 1.\n",
      "W0105 01:08:15.526810 140023430821696 model_lib_v2.py:1106] Expected number of evaluation epochs is 1, but instead encountered `eval_on_train_input_config.num_epochs` = 0. Overwriting `num_epochs` to 1.\n",
      "INFO:tensorflow:Reading unweighted datasets: ['Tensorflow/workspace/annotations/test.record']\n",
      "I0105 01:08:15.577780 140023430821696 dataset_builder.py:162] Reading unweighted datasets: ['Tensorflow/workspace/annotations/test.record']\n",
      "INFO:tensorflow:Reading record datasets for input file: ['Tensorflow/workspace/annotations/test.record']\n",
      "I0105 01:08:15.577928 140023430821696 dataset_builder.py:79] Reading record datasets for input file: ['Tensorflow/workspace/annotations/test.record']\n",
      "INFO:tensorflow:Number of filenames to read: 1\n",
      "I0105 01:08:15.577968 140023430821696 dataset_builder.py:80] Number of filenames to read: 1\n",
      "WARNING:tensorflow:num_readers has been reduced to 1 to match input file shards.\n",
      "W0105 01:08:15.577997 140023430821696 dataset_builder.py:86] num_readers has been reduced to 1 to match input file shards.\n",
      "WARNING:tensorflow:From /home/ronit/Documents/SOC/sign langauge detector/TFODCourse/tfod/lib/python3.8/site-packages/object_detection/builders/dataset_builder.py:100: parallel_interleave (from tensorflow.python.data.experimental.ops.interleave_ops) is deprecated and will be removed in a future version.\n",
      "Instructions for updating:\n",
      "Use `tf.data.Dataset.interleave(map_func, cycle_length, block_length, num_parallel_calls=tf.data.AUTOTUNE)` instead. If sloppy execution is desired, use `tf.data.Options.deterministic`.\n",
      "W0105 01:08:15.584759 140023430821696 deprecation.py:364] From /home/ronit/Documents/SOC/sign langauge detector/TFODCourse/tfod/lib/python3.8/site-packages/object_detection/builders/dataset_builder.py:100: parallel_interleave (from tensorflow.python.data.experimental.ops.interleave_ops) is deprecated and will be removed in a future version.\n",
      "Instructions for updating:\n",
      "Use `tf.data.Dataset.interleave(map_func, cycle_length, block_length, num_parallel_calls=tf.data.AUTOTUNE)` instead. If sloppy execution is desired, use `tf.data.Options.deterministic`.\n",
      "WARNING:tensorflow:From /home/ronit/Documents/SOC/sign langauge detector/TFODCourse/tfod/lib/python3.8/site-packages/object_detection/builders/dataset_builder.py:235: DatasetV1.map_with_legacy_function (from tensorflow.python.data.ops.dataset_ops) is deprecated and will be removed in a future version.\n",
      "Instructions for updating:\n",
      "Use `tf.data.Dataset.map()\n",
      "W0105 01:08:15.596837 140023430821696 deprecation.py:364] From /home/ronit/Documents/SOC/sign langauge detector/TFODCourse/tfod/lib/python3.8/site-packages/object_detection/builders/dataset_builder.py:235: DatasetV1.map_with_legacy_function (from tensorflow.python.data.ops.dataset_ops) is deprecated and will be removed in a future version.\n",
      "Instructions for updating:\n",
      "Use `tf.data.Dataset.map()\n",
      "WARNING:tensorflow:From /home/ronit/Documents/SOC/sign langauge detector/TFODCourse/tfod/lib/python3.8/site-packages/tensorflow/python/util/dispatch.py:1176: sparse_to_dense (from tensorflow.python.ops.sparse_ops) is deprecated and will be removed in a future version.\n",
      "Instructions for updating:\n",
      "Create a `tf.sparse.SparseTensor` and use `tf.sparse.to_dense` instead.\n",
      "W0105 01:08:17.910610 140023430821696 deprecation.py:364] From /home/ronit/Documents/SOC/sign langauge detector/TFODCourse/tfod/lib/python3.8/site-packages/tensorflow/python/util/dispatch.py:1176: sparse_to_dense (from tensorflow.python.ops.sparse_ops) is deprecated and will be removed in a future version.\n",
      "Instructions for updating:\n",
      "Create a `tf.sparse.SparseTensor` and use `tf.sparse.to_dense` instead.\n",
      "WARNING:tensorflow:From /home/ronit/Documents/SOC/sign langauge detector/TFODCourse/tfod/lib/python3.8/site-packages/tensorflow/python/util/dispatch.py:1176: to_float (from tensorflow.python.ops.math_ops) is deprecated and will be removed in a future version.\n",
      "Instructions for updating:\n",
      "Use `tf.cast` instead.\n",
      "W0105 01:08:18.571742 140023430821696 deprecation.py:364] From /home/ronit/Documents/SOC/sign langauge detector/TFODCourse/tfod/lib/python3.8/site-packages/tensorflow/python/util/dispatch.py:1176: to_float (from tensorflow.python.ops.math_ops) is deprecated and will be removed in a future version.\n",
      "Instructions for updating:\n",
      "Use `tf.cast` instead.\n",
      "INFO:tensorflow:Waiting for new checkpoint at Tensorflow/workspace/models/my_ssd_mobnet\n",
      "I0105 01:08:20.030691 140023430821696 checkpoint_utils.py:168] Waiting for new checkpoint at Tensorflow/workspace/models/my_ssd_mobnet\n",
      "INFO:tensorflow:Found new checkpoint at Tensorflow/workspace/models/my_ssd_mobnet/ckpt-4\n",
      "I0105 01:08:20.031190 140023430821696 checkpoint_utils.py:177] Found new checkpoint at Tensorflow/workspace/models/my_ssd_mobnet/ckpt-4\n",
      "/home/ronit/Documents/SOC/sign langauge detector/TFODCourse/tfod/lib/python3.8/site-packages/keras/src/backend.py:452: UserWarning: `tf.keras.backend.set_learning_phase` is deprecated and will be removed after 2020-10-11. To update it, simply pass a True/False value to the `training` argument of the `__call__` method of your layer or model.\n",
      "  warnings.warn(\n",
      "I0105 01:08:23.451330 140023430821696 api.py:460] feature_map_spatial_dims: [(40, 40), (20, 20), (10, 10), (5, 5), (3, 3)]\n",
      "I0105 01:08:30.855658 140023430821696 api.py:460] feature_map_spatial_dims: [(40, 40), (20, 20), (10, 10), (5, 5), (3, 3)]\n",
      "WARNING:tensorflow:From /home/ronit/Documents/SOC/sign langauge detector/TFODCourse/tfod/lib/python3.8/site-packages/tensorflow/python/util/dispatch.py:1176: to_int64 (from tensorflow.python.ops.math_ops) is deprecated and will be removed in a future version.\n",
      "Instructions for updating:\n",
      "Use `tf.cast` instead.\n",
      "W0105 01:08:33.242160 140023430821696 deprecation.py:364] From /home/ronit/Documents/SOC/sign langauge detector/TFODCourse/tfod/lib/python3.8/site-packages/tensorflow/python/util/dispatch.py:1176: to_int64 (from tensorflow.python.ops.math_ops) is deprecated and will be removed in a future version.\n",
      "Instructions for updating:\n",
      "Use `tf.cast` instead.\n",
      "INFO:tensorflow:Finished eval step 0\n",
      "I0105 01:08:33.256021 140023430821696 model_lib_v2.py:966] Finished eval step 0\n",
      "WARNING:tensorflow:From /home/ronit/Documents/SOC/sign langauge detector/TFODCourse/tfod/lib/python3.8/site-packages/tensorflow/python/autograph/impl/api.py:460: py_func (from tensorflow.python.ops.script_ops) is deprecated and will be removed in a future version.\n",
      "Instructions for updating:\n",
      "tf.py_func is deprecated in TF V2. Instead, there are two\n",
      "    options available in V2.\n",
      "    - tf.py_function takes a python function which manipulates tf eager\n",
      "    tensors instead of numpy arrays. It's easy to convert a tf eager tensor to\n",
      "    an ndarray (just call tensor.numpy()) but having access to eager tensors\n",
      "    means `tf.py_function`s can use accelerators such as GPUs as well as\n",
      "    being differentiable using a gradient tape.\n",
      "    - tf.numpy_function maintains the semantics of the deprecated tf.py_func\n",
      "    (it is not differentiable, and manipulates numpy arrays). It drops the\n",
      "    stateful argument making all functions stateful.\n",
      "    \n",
      "W0105 01:08:33.369523 140023430821696 deprecation.py:364] From /home/ronit/Documents/SOC/sign langauge detector/TFODCourse/tfod/lib/python3.8/site-packages/tensorflow/python/autograph/impl/api.py:460: py_func (from tensorflow.python.ops.script_ops) is deprecated and will be removed in a future version.\n",
      "Instructions for updating:\n",
      "tf.py_func is deprecated in TF V2. Instead, there are two\n",
      "    options available in V2.\n",
      "    - tf.py_function takes a python function which manipulates tf eager\n",
      "    tensors instead of numpy arrays. It's easy to convert a tf eager tensor to\n",
      "    an ndarray (just call tensor.numpy()) but having access to eager tensors\n",
      "    means `tf.py_function`s can use accelerators such as GPUs as well as\n",
      "    being differentiable using a gradient tape.\n",
      "    - tf.numpy_function maintains the semantics of the deprecated tf.py_func\n",
      "    (it is not differentiable, and manipulates numpy arrays). It drops the\n",
      "    stateful argument making all functions stateful.\n",
      "    \n",
      "INFO:tensorflow:Performing evaluation on 4 images.\n",
      "I0105 01:08:33.754756 140023430821696 coco_evaluation.py:293] Performing evaluation on 4 images.\n",
      "creating index...\n",
      "index created!\n",
      "INFO:tensorflow:Loading and preparing annotation results...\n",
      "I0105 01:08:33.754910 140023430821696 coco_tools.py:116] Loading and preparing annotation results...\n",
      "INFO:tensorflow:DONE (t=0.00s)\n",
      "I0105 01:08:33.755980 140023430821696 coco_tools.py:138] DONE (t=0.00s)\n",
      "creating index...\n",
      "index created!\n",
      "Running per image evaluation...\n",
      "Evaluate annotation type *bbox*\n",
      "DONE (t=0.02s).\n",
      "Accumulating evaluation results...\n",
      "DONE (t=0.01s).\n",
      " Average Precision  (AP) @[ IoU=0.50:0.95 | area=   all | maxDets=100 ] = 0.733\n",
      " Average Precision  (AP) @[ IoU=0.50      | area=   all | maxDets=100 ] = 1.000\n",
      " Average Precision  (AP) @[ IoU=0.75      | area=   all | maxDets=100 ] = 0.832\n",
      " Average Precision  (AP) @[ IoU=0.50:0.95 | area= small | maxDets=100 ] = -1.000\n",
      " Average Precision  (AP) @[ IoU=0.50:0.95 | area=medium | maxDets=100 ] = -1.000\n",
      " Average Precision  (AP) @[ IoU=0.50:0.95 | area= large | maxDets=100 ] = 0.733\n",
      " Average Recall     (AR) @[ IoU=0.50:0.95 | area=   all | maxDets=  1 ] = 0.733\n",
      " Average Recall     (AR) @[ IoU=0.50:0.95 | area=   all | maxDets= 10 ] = 0.733\n",
      " Average Recall     (AR) @[ IoU=0.50:0.95 | area=   all | maxDets=100 ] = 0.733\n",
      " Average Recall     (AR) @[ IoU=0.50:0.95 | area= small | maxDets=100 ] = -1.000\n",
      " Average Recall     (AR) @[ IoU=0.50:0.95 | area=medium | maxDets=100 ] = -1.000\n",
      " Average Recall     (AR) @[ IoU=0.50:0.95 | area= large | maxDets=100 ] = 0.733\n",
      "INFO:tensorflow:Eval metrics at step 1000\n",
      "I0105 01:08:33.785522 140023430821696 model_lib_v2.py:1015] Eval metrics at step 1000\n",
      "INFO:tensorflow:\t+ DetectionBoxes_Precision/mAP: 0.733168\n",
      "I0105 01:08:33.794647 140023430821696 model_lib_v2.py:1018] \t+ DetectionBoxes_Precision/mAP: 0.733168\n",
      "INFO:tensorflow:\t+ DetectionBoxes_Precision/mAP@.50IOU: 1.000000\n",
      "I0105 01:08:33.795477 140023430821696 model_lib_v2.py:1018] \t+ DetectionBoxes_Precision/mAP@.50IOU: 1.000000\n",
      "INFO:tensorflow:\t+ DetectionBoxes_Precision/mAP@.75IOU: 0.831683\n",
      "I0105 01:08:33.796059 140023430821696 model_lib_v2.py:1018] \t+ DetectionBoxes_Precision/mAP@.75IOU: 0.831683\n",
      "INFO:tensorflow:\t+ DetectionBoxes_Precision/mAP (small): -1.000000\n",
      "I0105 01:08:33.796409 140023430821696 model_lib_v2.py:1018] \t+ DetectionBoxes_Precision/mAP (small): -1.000000\n",
      "INFO:tensorflow:\t+ DetectionBoxes_Precision/mAP (medium): -1.000000\n",
      "I0105 01:08:33.796716 140023430821696 model_lib_v2.py:1018] \t+ DetectionBoxes_Precision/mAP (medium): -1.000000\n",
      "INFO:tensorflow:\t+ DetectionBoxes_Precision/mAP (large): 0.733168\n",
      "I0105 01:08:33.797037 140023430821696 model_lib_v2.py:1018] \t+ DetectionBoxes_Precision/mAP (large): 0.733168\n",
      "INFO:tensorflow:\t+ DetectionBoxes_Recall/AR@1: 0.733333\n",
      "I0105 01:08:33.797660 140023430821696 model_lib_v2.py:1018] \t+ DetectionBoxes_Recall/AR@1: 0.733333\n",
      "INFO:tensorflow:\t+ DetectionBoxes_Recall/AR@10: 0.733333\n",
      "I0105 01:08:33.798034 140023430821696 model_lib_v2.py:1018] \t+ DetectionBoxes_Recall/AR@10: 0.733333\n",
      "INFO:tensorflow:\t+ DetectionBoxes_Recall/AR@100: 0.733333\n",
      "I0105 01:08:33.798371 140023430821696 model_lib_v2.py:1018] \t+ DetectionBoxes_Recall/AR@100: 0.733333\n",
      "INFO:tensorflow:\t+ DetectionBoxes_Recall/AR@100 (small): -1.000000\n",
      "I0105 01:08:33.798728 140023430821696 model_lib_v2.py:1018] \t+ DetectionBoxes_Recall/AR@100 (small): -1.000000\n",
      "INFO:tensorflow:\t+ DetectionBoxes_Recall/AR@100 (medium): -1.000000\n",
      "I0105 01:08:33.799043 140023430821696 model_lib_v2.py:1018] \t+ DetectionBoxes_Recall/AR@100 (medium): -1.000000\n",
      "INFO:tensorflow:\t+ DetectionBoxes_Recall/AR@100 (large): 0.733333\n",
      "I0105 01:08:33.799355 140023430821696 model_lib_v2.py:1018] \t+ DetectionBoxes_Recall/AR@100 (large): 0.733333\n",
      "INFO:tensorflow:\t+ Loss/localization_loss: 0.120867\n",
      "I0105 01:08:33.799628 140023430821696 model_lib_v2.py:1018] \t+ Loss/localization_loss: 0.120867\n",
      "INFO:tensorflow:\t+ Loss/classification_loss: 0.087717\n",
      "I0105 01:08:33.799915 140023430821696 model_lib_v2.py:1018] \t+ Loss/classification_loss: 0.087717\n",
      "INFO:tensorflow:\t+ Loss/regularization_loss: 0.150865\n",
      "I0105 01:08:33.800202 140023430821696 model_lib_v2.py:1018] \t+ Loss/regularization_loss: 0.150865\n",
      "INFO:tensorflow:\t+ Loss/total_loss: 0.359449\n",
      "I0105 01:08:33.800484 140023430821696 model_lib_v2.py:1018] \t+ Loss/total_loss: 0.359449\n",
      "^C\n",
      "Traceback (most recent call last):\n",
      "  File \"Tensorflow/models/research/object_detection/model_main_tf2.py\", line 114, in <module>\n",
      "    tf.compat.v1.app.run()\n",
      "  File \"/home/ronit/Documents/SOC/sign langauge detector/TFODCourse/tfod/lib/python3.8/site-packages/tensorflow/python/platform/app.py\", line 36, in run\n",
      "    _run(main=main, argv=argv, flags_parser=_parse_flags_tolerate_undef)\n",
      "  File \"/home/ronit/Documents/SOC/sign langauge detector/TFODCourse/tfod/lib/python3.8/site-packages/absl/app.py\", line 308, in run\n",
      "    _run_main(main, args)\n",
      "  File \"/home/ronit/Documents/SOC/sign langauge detector/TFODCourse/tfod/lib/python3.8/site-packages/absl/app.py\", line 254, in _run_main\n",
      "    sys.exit(main(argv))\n",
      "  File \"Tensorflow/models/research/object_detection/model_main_tf2.py\", line 81, in main\n",
      "    model_lib_v2.eval_continuously(\n",
      "  File \"/home/ronit/Documents/SOC/sign langauge detector/TFODCourse/tfod/lib/python3.8/site-packages/object_detection/model_lib_v2.py\", line 1135, in eval_continuously\n",
      "    for latest_checkpoint in tf.train.checkpoints_iterator(\n",
      "  File \"/home/ronit/Documents/SOC/sign langauge detector/TFODCourse/tfod/lib/python3.8/site-packages/tensorflow/python/training/checkpoint_utils.py\", line 244, in checkpoints_iterator\n",
      "    time.sleep(time_to_next_eval)\n",
      "KeyboardInterrupt\n"
     ]
    }
   ],
   "source": [
    "!{command}"
   ]
  },
  {
   "cell_type": "markdown",
   "metadata": {
    "id": "orvRk02UpfDI"
   },
   "source": [
    "# 8. Load Train Model From Checkpoint"
   ]
  },
  {
   "cell_type": "code",
   "execution_count": 15,
   "metadata": {
    "id": "8TYk4_oIpfDI"
   },
   "outputs": [],
   "source": [
    "import os\n",
    "import tensorflow as tf\n",
    "from object_detection.utils import label_map_util\n",
    "from object_detection.utils import visualization_utils as viz_utils\n",
    "from object_detection.builders import model_builder\n",
    "from object_detection.utils import config_util"
   ]
  },
  {
   "cell_type": "code",
   "execution_count": 16,
   "metadata": {
    "id": "tDnQg-cYpfDI"
   },
   "outputs": [],
   "source": [
    "# Load pipeline config and build a detection model\n",
    "configs = config_util.get_configs_from_pipeline_file(files['PIPELINE_CONFIG'])\n",
    "detection_model = model_builder.build(model_config=configs['model'], is_training=False)\n",
    "\n",
    "# Restore checkpoint\n",
    "ckpt = tf.compat.v2.train.Checkpoint(model=detection_model)\n",
    "ckpt.restore(os.path.join(paths['CHECKPOINT_PATH'], 'ckpt-21')).expect_partial()\n",
    "\n",
    "@tf.function\n",
    "def detect_fn(image):\n",
    "    image, shapes = detection_model.preprocess(image)\n",
    "    prediction_dict = detection_model.predict(image, shapes)\n",
    "    detections = detection_model.postprocess(prediction_dict, shapes)\n",
    "    return detections"
   ]
  },
  {
   "cell_type": "markdown",
   "metadata": {
    "id": "0EmsmbBZpfDI"
   },
   "source": [
    "# 9. Detect from an Image"
   ]
  },
  {
   "cell_type": "code",
   "execution_count": 17,
   "metadata": {},
   "outputs": [
    {
     "name": "stdout",
     "output_type": "stream",
     "text": [
      "Requirement already satisfied: opencv-python in ./tfod/lib/python3.8/site-packages (4.9.0.80)\n",
      "Requirement already satisfied: numpy>=1.17.0 in ./tfod/lib/python3.8/site-packages (from opencv-python) (1.24.3)\n",
      "Note: you may need to restart the kernel to use updated packages.\n"
     ]
    }
   ],
   "source": [
    "pip install opencv-python"
   ]
  },
  {
   "cell_type": "code",
   "execution_count": 18,
   "metadata": {
    "id": "Y_MKiuZ4pfDI"
   },
   "outputs": [],
   "source": [
    "import cv2\n",
    "import numpy as np\n",
    "from matplotlib import pyplot as plt\n",
    "%matplotlib inline\n",
    "\n"
   ]
  },
  {
   "cell_type": "code",
   "execution_count": 19,
   "metadata": {
    "id": "cBDbIhNapfDI"
   },
   "outputs": [],
   "source": [
    "category_index = label_map_util.create_category_index_from_labelmap(files['LABELMAP'])"
   ]
  },
  {
   "cell_type": "code",
   "execution_count": 25,
   "metadata": {
    "id": "Lx3crOhOzITB"
   },
   "outputs": [],
   "source": [
    "\n",
    "IMAGE_PATH = os.path.join(paths['IMAGE_PATH'], 'test', 'Photo-3.jpeg')"
   ]
  },
  {
   "cell_type": "code",
   "execution_count": 26,
   "metadata": {
    "colab": {
     "base_uri": "https://localhost:8080/",
     "height": 269
    },
    "id": "Tpzn1SMry1yK",
    "outputId": "c392a2c5-10fe-4fc4-9998-a1d4c7db2bd3"
   },
   "outputs": [
    {
     "data": {
      "image/png": "[encoded data removed]",
      "text/plain": [
       "<Figure size 640x480 with 1 Axes>"
      ]
     },
     "metadata": {},
     "output_type": "display_data"
    }
   ],
   "source": [
    "\n",
    "img = cv2.imread(IMAGE_PATH)\n",
    "image_np = np.array(img)\n",
    "\n",
    "input_tensor = tf.convert_to_tensor(np.expand_dims(image_np, 0), dtype=tf.float32)\n",
    "detections = detect_fn(input_tensor)\n",
    "\n",
    "num_detections = int(detections.pop('num_detections'))\n",
    "detections = {key: value[0, :num_detections].numpy()\n",
    "              for key, value in detections.items()}\n",
    "detections['num_detections'] = num_detections\n",
    "\n",
    "# detection_classes should be ints.\n",
    "detections['detection_classes'] = detections['detection_classes'].astype(np.int64)\n",
    "\n",
    "label_id_offset = 1\n",
    "image_np_with_detections = image_np.copy()\n",
    "\n",
    "# Adjust the threshold\n",
    "min_score_thresh = 0.7\n",
    "\n",
    "viz_utils.visualize_boxes_and_labels_on_image_array(\n",
    "    image_np_with_detections,\n",
    "    detections['detection_boxes'],\n",
    "    detections['detection_classes'] + label_id_offset,\n",
    "    detections['detection_scores'],\n",
    "    category_index,\n",
    "    use_normalized_coordinates=True,\n",
    "    max_boxes_to_draw=3,\n",
    "    min_score_thresh=min_score_thresh,\n",
    "    agnostic_mode=False\n",
    ")\n",
    "\n",
    "\n",
    "\n",
    "plt.imshow(cv2.cvtColor(image_np_with_detections, cv2.COLOR_BGR2RGB))\n",
    "plt.show()\n"
   ]
  },
  {
   "cell_type": "markdown",
   "metadata": {
    "id": "IsNAaYAo0WVL"
   },
   "source": [
    "### 10. Real Time Detections from your Webcam"
   ]
  },
  {
   "cell_type": "code",
   "execution_count": 38,
   "metadata": {},
   "outputs": [
    {
     "name": "stdout",
     "output_type": "stream",
     "text": [
      "\u001b[33mWARNING: Skipping opencv-python-headless as it is not installed.\u001b[0m\u001b[33m\n",
      "\u001b[0m"
     ]
    }
   ],
   "source": [
    "!pip uninstall opencv-python-headless -y"
   ]
  },
  {
   "cell_type": "code",
   "execution_count": 39,
   "metadata": {},
   "outputs": [
    {
     "name": "stdout",
     "output_type": "stream",
     "text": [
      "Requirement already satisfied: opencv-python in ./tfod/lib/python3.8/site-packages (4.9.0.80)\n",
      "Requirement already satisfied: numpy>=1.17.0 in ./tfod/lib/python3.8/site-packages (from opencv-python) (1.24.3)\n",
      "Note: you may need to restart the kernel to use updated packages.\n"
     ]
    }
   ],
   "source": [
    "pip install opencv-python --upgrade"
   ]
  },
  {
   "cell_type": "code",
   "execution_count": 40,
   "metadata": {
    "id": "o_grs6OGpfDJ"
   },
   "outputs": [
    {
     "ename": "KeyboardInterrupt",
     "evalue": "",
     "output_type": "error",
     "traceback": [
      "\u001b[0;31m---------------------------------------------------------------------------\u001b[0m",
      "\u001b[0;31mKeyboardInterrupt\u001b[0m                         Traceback (most recent call last)",
      "Cell \u001b[0;32mIn[40], line 36\u001b[0m\n\u001b[1;32m     23\u001b[0m viz_utils\u001b[38;5;241m.\u001b[39mvisualize_boxes_and_labels_on_image_array(\n\u001b[1;32m     24\u001b[0m             image_np_with_detections,\n\u001b[1;32m     25\u001b[0m             detections[\u001b[38;5;124m'\u001b[39m\u001b[38;5;124mdetection_boxes\u001b[39m\u001b[38;5;124m'\u001b[39m],\n\u001b[0;32m   (...)\u001b[0m\n\u001b[1;32m     31\u001b[0m             min_score_thresh\u001b[38;5;241m=\u001b[39m\u001b[38;5;241m.8\u001b[39m,\n\u001b[1;32m     32\u001b[0m             agnostic_mode\u001b[38;5;241m=\u001b[39m\u001b[38;5;28;01mFalse\u001b[39;00m)\n\u001b[1;32m     34\u001b[0m cv2\u001b[38;5;241m.\u001b[39mimshow(\u001b[38;5;124m'\u001b[39m\u001b[38;5;124mobject detection\u001b[39m\u001b[38;5;124m'\u001b[39m,  cv2\u001b[38;5;241m.\u001b[39mresize(image_np_with_detections, (\u001b[38;5;241m800\u001b[39m, \u001b[38;5;241m600\u001b[39m)))\n\u001b[0;32m---> 36\u001b[0m \u001b[38;5;28;01mif\u001b[39;00m \u001b[43mcv2\u001b[49m\u001b[38;5;241;43m.\u001b[39;49m\u001b[43mwaitKey\u001b[49m\u001b[43m(\u001b[49m\u001b[38;5;241;43m10\u001b[39;49m\u001b[43m)\u001b[49m \u001b[38;5;241m&\u001b[39m \u001b[38;5;241m0xFF\u001b[39m \u001b[38;5;241m==\u001b[39m \u001b[38;5;28mord\u001b[39m(\u001b[38;5;124m'\u001b[39m\u001b[38;5;124mq\u001b[39m\u001b[38;5;124m'\u001b[39m):\n\u001b[1;32m     37\u001b[0m     cap\u001b[38;5;241m.\u001b[39mrelease()\n\u001b[1;32m     38\u001b[0m     cv2\u001b[38;5;241m.\u001b[39mdestroyAllWindows()\n",
      "\u001b[0;31mKeyboardInterrupt\u001b[0m: "
     ]
    }
   ],
   "source": [
    "cap = cv2.VideoCapture(0)\n",
    "width = int(cap.get(cv2.CAP_PROP_FRAME_WIDTH))\n",
    "height = int(cap.get(cv2.CAP_PROP_FRAME_HEIGHT))\n",
    "\n",
    "while cap.isOpened(): \n",
    "    ret, frame = cap.read()\n",
    "    image_np = np.array(frame)\n",
    "    \n",
    "    input_tensor = tf.convert_to_tensor(np.expand_dims(image_np, 0), dtype=tf.float32)\n",
    "    detections = detect_fn(input_tensor)\n",
    "    \n",
    "    num_detections = int(detections.pop('num_detections'))\n",
    "    detections = {key: value[0, :num_detections].numpy()\n",
    "                  for key, value in detections.items()}\n",
    "    detections['num_detections'] = num_detections\n",
    "\n",
    "    # detection_classes should be ints.\n",
    "    detections['detection_classes'] = detections['detection_classes'].astype(np.int64)\n",
    "\n",
    "    label_id_offset = 1\n",
    "    image_np_with_detections = image_np.copy()\n",
    "\n",
    "    viz_utils.visualize_boxes_and_labels_on_image_array(\n",
    "                image_np_with_detections,\n",
    "                detections['detection_boxes'],\n",
    "                detections['detection_classes']+label_id_offset,\n",
    "                detections['detection_scores'],\n",
    "                category_index,\n",
    "                use_normalized_coordinates=True,\n",
    "                max_boxes_to_draw=5,\n",
    "                min_score_thresh=.8,\n",
    "                agnostic_mode=False)\n",
    "\n",
    "    cv2.imshow('object detection',  cv2.resize(image_np_with_detections, (800, 600)))\n",
    "    \n",
    "    if cv2.waitKey(10) & 0xFF == ord('q'):\n",
    "        cap.release()\n",
    "        cv2.destroyAllWindows()\n",
    "        break"
   ]
  },
  {
   "cell_type": "markdown",
   "metadata": {
    "id": "rzlM4jt0pfDJ"
   },
   "source": [
    "# 10. Freezing the Graph"
   ]
  },
  {
   "cell_type": "code",
   "execution_count": 18,
   "metadata": {
    "id": "n4olHB2npfDJ"
   },
   "outputs": [],
   "source": [
    "FREEZE_SCRIPT = os.path.join(paths['APIMODEL_PATH'], 'research', 'object_detection', 'exporter_main_v2.py ')"
   ]
  },
  {
   "cell_type": "code",
   "execution_count": 19,
   "metadata": {
    "id": "0AjO93QDpfDJ"
   },
   "outputs": [],
   "source": [
    "command = \"python {} --input_type=image_tensor --pipeline_config_path={} --trained_checkpoint_dir={} --output_directory={}\".format(FREEZE_SCRIPT ,files['PIPELINE_CONFIG'], paths['CHECKPOINT_PATH'], paths['OUTPUT_PATH'])"
   ]
  },
  {
   "cell_type": "code",
   "execution_count": 20,
   "metadata": {
    "colab": {
     "base_uri": "https://localhost:8080/"
    },
    "id": "F6Lsp3tCpfDJ",
    "outputId": "c3828529-bf06-4df5-d7f3-145890ec3edd"
   },
   "outputs": [
    {
     "name": "stdout",
     "output_type": "stream",
     "text": [
      "python Tensorflow/models/research/object_detection/exporter_main_v2.py  --input_type=image_tensor --pipeline_config_path=Tensorflow/workspace/models/my_ssd_mobnet/pipeline.config --trained_checkpoint_dir=Tensorflow/workspace/models/my_ssd_mobnet --output_directory=Tensorflow/workspace/models/my_ssd_mobnet/export\n"
     ]
    }
   ],
   "source": [
    "print(command)"
   ]
  },
  {
   "cell_type": "code",
   "execution_count": 21,
   "metadata": {
    "colab": {
     "base_uri": "https://localhost:8080/"
    },
    "id": "1Sw1ULgHpfDJ",
    "outputId": "6fd441e1-9fc9-4889-d072-3395c21e40b6",
    "scrolled": true
   },
   "outputs": [
    {
     "name": "stdout",
     "output_type": "stream",
     "text": [
      "2024-01-07 23:49:48.550148: I tensorflow/core/util/port.cc:110] oneDNN custom operations are on. You may see slightly different numerical results due to floating-point round-off errors from different computation orders. To turn them off, set the environment variable `TF_ENABLE_ONEDNN_OPTS=0`.\n",
      "2024-01-07 23:49:48.551652: I tensorflow/tsl/cuda/cudart_stub.cc:28] Could not find cuda drivers on your machine, GPU will not be used.\n",
      "2024-01-07 23:49:48.578513: I tensorflow/tsl/cuda/cudart_stub.cc:28] Could not find cuda drivers on your machine, GPU will not be used.\n",
      "2024-01-07 23:49:48.578834: I tensorflow/core/platform/cpu_feature_guard.cc:182] This TensorFlow binary is optimized to use available CPU instructions in performance-critical operations.\n",
      "To enable the following instructions: AVX2 AVX512F AVX512_VNNI FMA, in other operations, rebuild TensorFlow with the appropriate compiler flags.\n",
      "2024-01-07 23:49:49.170312: W tensorflow/compiler/tf2tensorrt/utils/py_utils.cc:38] TF-TRT Warning: Could not find TensorRT\n",
      "WARNING:tensorflow:From /home/ronit/Documents/SOC/sign langauge detector/TFODCourse/tfod/lib/python3.8/site-packages/tensorflow/python/autograph/impl/api.py:459: calling map_fn_v2 (from tensorflow.python.ops.map_fn) with back_prop=False is deprecated and will be removed in a future version.\n",
      "Instructions for updating:\n",
      "back_prop=False is deprecated. Consider using tf.stop_gradient instead.\n",
      "Instead of:\n",
      "results = tf.map_fn(fn, elems, back_prop=False)\n",
      "Use:\n",
      "results = tf.nest.map_structure(tf.stop_gradient, tf.map_fn(fn, elems))\n",
      "W0107 23:49:50.399722 140443736708928 deprecation.py:641] From /home/ronit/Documents/SOC/sign langauge detector/TFODCourse/tfod/lib/python3.8/site-packages/tensorflow/python/autograph/impl/api.py:459: calling map_fn_v2 (from tensorflow.python.ops.map_fn) with back_prop=False is deprecated and will be removed in a future version.\n",
      "Instructions for updating:\n",
      "back_prop=False is deprecated. Consider using tf.stop_gradient instead.\n",
      "Instead of:\n",
      "results = tf.map_fn(fn, elems, back_prop=False)\n",
      "Use:\n",
      "results = tf.nest.map_structure(tf.stop_gradient, tf.map_fn(fn, elems))\n",
      "I0107 23:49:52.739007 140443736708928 api.py:460] feature_map_spatial_dims: [(40, 40), (20, 20), (10, 10), (5, 5), (3, 3)]\n",
      "I0107 23:49:58.110455 140443736708928 api.py:460] feature_map_spatial_dims: [(40, 40), (20, 20), (10, 10), (5, 5), (3, 3)]\n",
      "I0107 23:49:59.796046 140443736708928 signature_serialization.py:148] Function `call_func` contains input name(s) resource with unsupported characters which will be renamed to weightsharedconvolutionalboxpredictor_predictiontower_conv2d_3_batchnorm_feature_4_fusedbatchnormv3_readvariableop_1_resource in the SavedModel.\n",
      "I0107 23:50:00.460055 140443736708928 api.py:460] feature_map_spatial_dims: [(40, 40), (20, 20), (10, 10), (5, 5), (3, 3)]\n",
      "WARNING:tensorflow:Skipping full serialization of Keras layer <object_detection.meta_architectures.ssd_meta_arch.SSDMetaArch object at 0x7fbb293d4880>, because it is not built.\n",
      "W0107 23:50:01.860977 140443736708928 save_impl.py:66] Skipping full serialization of Keras layer <object_detection.meta_architectures.ssd_meta_arch.SSDMetaArch object at 0x7fbb293d4880>, because it is not built.\n",
      "WARNING:tensorflow:Skipping full serialization of Keras layer <keras.src.layers.convolutional.separable_conv2d.SeparableConv2D object at 0x7fbb007257c0>, because it is not built.\n",
      "W0107 23:50:02.158634 140443736708928 save_impl.py:66] Skipping full serialization of Keras layer <keras.src.layers.convolutional.separable_conv2d.SeparableConv2D object at 0x7fbb007257c0>, because it is not built.\n",
      "WARNING:tensorflow:Skipping full serialization of Keras layer <object_detection.core.freezable_batch_norm.FreezableBatchNorm object at 0x7fbb200ceeb0>, because it is not built.\n",
      "W0107 23:50:02.158831 140443736708928 save_impl.py:66] Skipping full serialization of Keras layer <object_detection.core.freezable_batch_norm.FreezableBatchNorm object at 0x7fbb200ceeb0>, because it is not built.\n",
      "WARNING:tensorflow:Skipping full serialization of Keras layer <keras.src.layers.core.lambda_layer.Lambda object at 0x7fbb200cef10>, because it is not built.\n",
      "W0107 23:50:02.158903 140443736708928 save_impl.py:66] Skipping full serialization of Keras layer <keras.src.layers.core.lambda_layer.Lambda object at 0x7fbb200cef10>, because it is not built.\n",
      "WARNING:tensorflow:Skipping full serialization of Keras layer <keras.src.layers.convolutional.separable_conv2d.SeparableConv2D object at 0x7fbb205a5490>, because it is not built.\n",
      "W0107 23:50:02.158953 140443736708928 save_impl.py:66] Skipping full serialization of Keras layer <keras.src.layers.convolutional.separable_conv2d.SeparableConv2D object at 0x7fbb205a5490>, because it is not built.\n",
      "WARNING:tensorflow:Skipping full serialization of Keras layer <object_detection.core.freezable_batch_norm.FreezableBatchNorm object at 0x7fbb00593be0>, because it is not built.\n",
      "W0107 23:50:02.159023 140443736708928 save_impl.py:66] Skipping full serialization of Keras layer <object_detection.core.freezable_batch_norm.FreezableBatchNorm object at 0x7fbb00593be0>, because it is not built.\n",
      "WARNING:tensorflow:Skipping full serialization of Keras layer <keras.src.layers.core.lambda_layer.Lambda object at 0x7fbb00593cd0>, because it is not built.\n",
      "W0107 23:50:02.159090 140443736708928 save_impl.py:66] Skipping full serialization of Keras layer <keras.src.layers.core.lambda_layer.Lambda object at 0x7fbb00593cd0>, because it is not built.\n",
      "WARNING:tensorflow:Skipping full serialization of Keras layer <keras.src.layers.convolutional.separable_conv2d.SeparableConv2D object at 0x7fbb005937f0>, because it is not built.\n",
      "W0107 23:50:02.159135 140443736708928 save_impl.py:66] Skipping full serialization of Keras layer <keras.src.layers.convolutional.separable_conv2d.SeparableConv2D object at 0x7fbb005937f0>, because it is not built.\n",
      "WARNING:tensorflow:Skipping full serialization of Keras layer <object_detection.core.freezable_batch_norm.FreezableBatchNorm object at 0x7fbb005966a0>, because it is not built.\n",
      "W0107 23:50:02.159205 140443736708928 save_impl.py:66] Skipping full serialization of Keras layer <object_detection.core.freezable_batch_norm.FreezableBatchNorm object at 0x7fbb005966a0>, because it is not built.\n",
      "WARNING:tensorflow:Skipping full serialization of Keras layer <keras.src.layers.core.lambda_layer.Lambda object at 0x7fbb00596df0>, because it is not built.\n",
      "W0107 23:50:02.159252 140443736708928 save_impl.py:66] Skipping full serialization of Keras layer <keras.src.layers.core.lambda_layer.Lambda object at 0x7fbb00596df0>, because it is not built.\n",
      "WARNING:tensorflow:Skipping full serialization of Keras layer <keras.src.layers.convolutional.separable_conv2d.SeparableConv2D object at 0x7fbb005967f0>, because it is not built.\n",
      "W0107 23:50:02.159310 140443736708928 save_impl.py:66] Skipping full serialization of Keras layer <keras.src.layers.convolutional.separable_conv2d.SeparableConv2D object at 0x7fbb005967f0>, because it is not built.\n",
      "WARNING:tensorflow:Skipping full serialization of Keras layer <object_detection.core.freezable_batch_norm.FreezableBatchNorm object at 0x7fbb005965e0>, because it is not built.\n",
      "W0107 23:50:02.159356 140443736708928 save_impl.py:66] Skipping full serialization of Keras layer <object_detection.core.freezable_batch_norm.FreezableBatchNorm object at 0x7fbb005965e0>, because it is not built.\n",
      "WARNING:tensorflow:Skipping full serialization of Keras layer <keras.src.layers.core.lambda_layer.Lambda object at 0x7fbb0059d610>, because it is not built.\n",
      "W0107 23:50:02.159403 140443736708928 save_impl.py:66] Skipping full serialization of Keras layer <keras.src.layers.core.lambda_layer.Lambda object at 0x7fbb0059d610>, because it is not built.\n",
      "WARNING:tensorflow:Skipping full serialization of Keras layer <object_detection.core.freezable_batch_norm.FreezableBatchNorm object at 0x7fbb0059d0d0>, because it is not built.\n",
      "W0107 23:50:02.159449 140443736708928 save_impl.py:66] Skipping full serialization of Keras layer <object_detection.core.freezable_batch_norm.FreezableBatchNorm object at 0x7fbb0059d0d0>, because it is not built.\n",
      "WARNING:tensorflow:Skipping full serialization of Keras layer <keras.src.layers.core.lambda_layer.Lambda object at 0x7fbb200ae9d0>, because it is not built.\n",
      "W0107 23:50:02.159495 140443736708928 save_impl.py:66] Skipping full serialization of Keras layer <keras.src.layers.core.lambda_layer.Lambda object at 0x7fbb200ae9d0>, because it is not built.\n",
      "WARNING:tensorflow:Skipping full serialization of Keras layer <object_detection.core.freezable_batch_norm.FreezableBatchNorm object at 0x7fbb006cebe0>, because it is not built.\n",
      "W0107 23:50:02.159540 140443736708928 save_impl.py:66] Skipping full serialization of Keras layer <object_detection.core.freezable_batch_norm.FreezableBatchNorm object at 0x7fbb006cebe0>, because it is not built.\n",
      "WARNING:tensorflow:Skipping full serialization of Keras layer <keras.src.layers.core.lambda_layer.Lambda object at 0x7fbb006ce400>, because it is not built.\n",
      "W0107 23:50:02.159588 140443736708928 save_impl.py:66] Skipping full serialization of Keras layer <keras.src.layers.core.lambda_layer.Lambda object at 0x7fbb006ce400>, because it is not built.\n",
      "WARNING:tensorflow:Skipping full serialization of Keras layer <object_detection.core.freezable_batch_norm.FreezableBatchNorm object at 0x7fbb006ce640>, because it is not built.\n",
      "W0107 23:50:02.159637 140443736708928 save_impl.py:66] Skipping full serialization of Keras layer <object_detection.core.freezable_batch_norm.FreezableBatchNorm object at 0x7fbb006ce640>, because it is not built.\n",
      "WARNING:tensorflow:Skipping full serialization of Keras layer <keras.src.layers.core.lambda_layer.Lambda object at 0x7fbb006ce5b0>, because it is not built.\n",
      "W0107 23:50:02.159686 140443736708928 save_impl.py:66] Skipping full serialization of Keras layer <keras.src.layers.core.lambda_layer.Lambda object at 0x7fbb006ce5b0>, because it is not built.\n",
      "WARNING:tensorflow:Skipping full serialization of Keras layer <object_detection.core.freezable_batch_norm.FreezableBatchNorm object at 0x7fbb006cee50>, because it is not built.\n",
      "W0107 23:50:02.159735 140443736708928 save_impl.py:66] Skipping full serialization of Keras layer <object_detection.core.freezable_batch_norm.FreezableBatchNorm object at 0x7fbb006cee50>, because it is not built.\n",
      "WARNING:tensorflow:Skipping full serialization of Keras layer <keras.src.layers.core.lambda_layer.Lambda object at 0x7fbb005a4820>, because it is not built.\n",
      "W0107 23:50:02.159783 140443736708928 save_impl.py:66] Skipping full serialization of Keras layer <keras.src.layers.core.lambda_layer.Lambda object at 0x7fbb005a4820>, because it is not built.\n",
      "WARNING:tensorflow:Skipping full serialization of Keras layer <object_detection.core.freezable_batch_norm.FreezableBatchNorm object at 0x7fbb005a4430>, because it is not built.\n",
      "W0107 23:50:02.159831 140443736708928 save_impl.py:66] Skipping full serialization of Keras layer <object_detection.core.freezable_batch_norm.FreezableBatchNorm object at 0x7fbb005a4430>, because it is not built.\n",
      "WARNING:tensorflow:Skipping full serialization of Keras layer <keras.src.layers.core.lambda_layer.Lambda object at 0x7fbb0039ec40>, because it is not built.\n",
      "W0107 23:50:02.159880 140443736708928 save_impl.py:66] Skipping full serialization of Keras layer <keras.src.layers.core.lambda_layer.Lambda object at 0x7fbb0039ec40>, because it is not built.\n",
      "WARNING:tensorflow:Skipping full serialization of Keras layer <object_detection.core.freezable_batch_norm.FreezableBatchNorm object at 0x7fbb0060a2b0>, because it is not built.\n",
      "W0107 23:50:02.159929 140443736708928 save_impl.py:66] Skipping full serialization of Keras layer <object_detection.core.freezable_batch_norm.FreezableBatchNorm object at 0x7fbb0060a2b0>, because it is not built.\n",
      "WARNING:tensorflow:Skipping full serialization of Keras layer <keras.src.layers.core.lambda_layer.Lambda object at 0x7fbb00734c70>, because it is not built.\n",
      "W0107 23:50:02.159976 140443736708928 save_impl.py:66] Skipping full serialization of Keras layer <keras.src.layers.core.lambda_layer.Lambda object at 0x7fbb00734c70>, because it is not built.\n",
      "WARNING:tensorflow:Skipping full serialization of Keras layer <object_detection.core.freezable_batch_norm.FreezableBatchNorm object at 0x7fbb00384a00>, because it is not built.\n",
      "W0107 23:50:02.160026 140443736708928 save_impl.py:66] Skipping full serialization of Keras layer <object_detection.core.freezable_batch_norm.FreezableBatchNorm object at 0x7fbb00384a00>, because it is not built.\n",
      "WARNING:tensorflow:Skipping full serialization of Keras layer <keras.src.layers.core.lambda_layer.Lambda object at 0x7fbb003842b0>, because it is not built.\n",
      "W0107 23:50:02.160084 140443736708928 save_impl.py:66] Skipping full serialization of Keras layer <keras.src.layers.core.lambda_layer.Lambda object at 0x7fbb003842b0>, because it is not built.\n",
      "WARNING:tensorflow:Skipping full serialization of Keras layer <object_detection.core.freezable_batch_norm.FreezableBatchNorm object at 0x7fbb00384c70>, because it is not built.\n",
      "W0107 23:50:02.160132 140443736708928 save_impl.py:66] Skipping full serialization of Keras layer <object_detection.core.freezable_batch_norm.FreezableBatchNorm object at 0x7fbb00384c70>, because it is not built.\n",
      "WARNING:tensorflow:Skipping full serialization of Keras layer <keras.src.layers.core.lambda_layer.Lambda object at 0x7fbb00384ca0>, because it is not built.\n",
      "W0107 23:50:02.160178 140443736708928 save_impl.py:66] Skipping full serialization of Keras layer <keras.src.layers.core.lambda_layer.Lambda object at 0x7fbb00384ca0>, because it is not built.\n",
      "WARNING:tensorflow:Skipping full serialization of Keras layer <object_detection.core.freezable_batch_norm.FreezableBatchNorm object at 0x7fbb2810b8e0>, because it is not built.\n",
      "W0107 23:50:02.160228 140443736708928 save_impl.py:66] Skipping full serialization of Keras layer <object_detection.core.freezable_batch_norm.FreezableBatchNorm object at 0x7fbb2810b8e0>, because it is not built.\n",
      "WARNING:tensorflow:Skipping full serialization of Keras layer <keras.src.layers.core.lambda_layer.Lambda object at 0x7fbb2057ab80>, because it is not built.\n",
      "W0107 23:50:02.160275 140443736708928 save_impl.py:66] Skipping full serialization of Keras layer <keras.src.layers.core.lambda_layer.Lambda object at 0x7fbb2057ab80>, because it is not built.\n",
      "WARNING:tensorflow:Skipping full serialization of Keras layer <object_detection.core.freezable_batch_norm.FreezableBatchNorm object at 0x7fbb003995b0>, because it is not built.\n",
      "W0107 23:50:02.160321 140443736708928 save_impl.py:66] Skipping full serialization of Keras layer <object_detection.core.freezable_batch_norm.FreezableBatchNorm object at 0x7fbb003995b0>, because it is not built.\n",
      "WARNING:tensorflow:Skipping full serialization of Keras layer <keras.src.layers.core.lambda_layer.Lambda object at 0x7fbb003992e0>, because it is not built.\n",
      "W0107 23:50:02.160368 140443736708928 save_impl.py:66] Skipping full serialization of Keras layer <keras.src.layers.core.lambda_layer.Lambda object at 0x7fbb003992e0>, because it is not built.\n",
      "WARNING:tensorflow:Skipping full serialization of Keras layer <object_detection.core.freezable_batch_norm.FreezableBatchNorm object at 0x7fbb00399640>, because it is not built.\n",
      "W0107 23:50:02.160414 140443736708928 save_impl.py:66] Skipping full serialization of Keras layer <object_detection.core.freezable_batch_norm.FreezableBatchNorm object at 0x7fbb00399640>, because it is not built.\n",
      "WARNING:tensorflow:Skipping full serialization of Keras layer <keras.src.layers.core.lambda_layer.Lambda object at 0x7fbb00399d90>, because it is not built.\n",
      "W0107 23:50:02.160460 140443736708928 save_impl.py:66] Skipping full serialization of Keras layer <keras.src.layers.core.lambda_layer.Lambda object at 0x7fbb00399d90>, because it is not built.\n",
      "WARNING:tensorflow:Skipping full serialization of Keras layer <object_detection.core.freezable_batch_norm.FreezableBatchNorm object at 0x7fbb28114ca0>, because it is not built.\n",
      "W0107 23:50:02.160506 140443736708928 save_impl.py:66] Skipping full serialization of Keras layer <object_detection.core.freezable_batch_norm.FreezableBatchNorm object at 0x7fbb28114ca0>, because it is not built.\n",
      "WARNING:tensorflow:Skipping full serialization of Keras layer <keras.src.layers.core.lambda_layer.Lambda object at 0x7fbb28114b50>, because it is not built.\n",
      "W0107 23:50:02.160556 140443736708928 save_impl.py:66] Skipping full serialization of Keras layer <keras.src.layers.core.lambda_layer.Lambda object at 0x7fbb28114b50>, because it is not built.\n",
      "WARNING:tensorflow:Skipping full serialization of Keras layer <object_detection.core.freezable_batch_norm.FreezableBatchNorm object at 0x7fbb0075d610>, because it is not built.\n",
      "W0107 23:50:02.160604 140443736708928 save_impl.py:66] Skipping full serialization of Keras layer <object_detection.core.freezable_batch_norm.FreezableBatchNorm object at 0x7fbb0075d610>, because it is not built.\n",
      "WARNING:tensorflow:Skipping full serialization of Keras layer <keras.src.layers.core.lambda_layer.Lambda object at 0x7fbb003a46a0>, because it is not built.\n",
      "W0107 23:50:02.160650 140443736708928 save_impl.py:66] Skipping full serialization of Keras layer <keras.src.layers.core.lambda_layer.Lambda object at 0x7fbb003a46a0>, because it is not built.\n",
      "WARNING:tensorflow:Skipping full serialization of Keras layer <object_detection.core.freezable_batch_norm.FreezableBatchNorm object at 0x7fbb0042b3d0>, because it is not built.\n",
      "W0107 23:50:02.160697 140443736708928 save_impl.py:66] Skipping full serialization of Keras layer <object_detection.core.freezable_batch_norm.FreezableBatchNorm object at 0x7fbb0042b3d0>, because it is not built.\n",
      "WARNING:tensorflow:Skipping full serialization of Keras layer <keras.src.layers.core.lambda_layer.Lambda object at 0x7fbb0042b490>, because it is not built.\n",
      "W0107 23:50:02.160746 140443736708928 save_impl.py:66] Skipping full serialization of Keras layer <keras.src.layers.core.lambda_layer.Lambda object at 0x7fbb0042b490>, because it is not built.\n",
      "WARNING:tensorflow:Skipping full serialization of Keras layer <object_detection.core.freezable_batch_norm.FreezableBatchNorm object at 0x7fbb0042b9a0>, because it is not built.\n",
      "W0107 23:50:02.160796 140443736708928 save_impl.py:66] Skipping full serialization of Keras layer <object_detection.core.freezable_batch_norm.FreezableBatchNorm object at 0x7fbb0042b9a0>, because it is not built.\n",
      "WARNING:tensorflow:Skipping full serialization of Keras layer <keras.src.layers.core.lambda_layer.Lambda object at 0x7fbb0042ba60>, because it is not built.\n",
      "W0107 23:50:02.160845 140443736708928 save_impl.py:66] Skipping full serialization of Keras layer <keras.src.layers.core.lambda_layer.Lambda object at 0x7fbb0042ba60>, because it is not built.\n",
      "WARNING:tensorflow:Skipping full serialization of Keras layer <object_detection.core.freezable_batch_norm.FreezableBatchNorm object at 0x7fbb0042bf70>, because it is not built.\n",
      "W0107 23:50:02.160893 140443736708928 save_impl.py:66] Skipping full serialization of Keras layer <object_detection.core.freezable_batch_norm.FreezableBatchNorm object at 0x7fbb0042bf70>, because it is not built.\n",
      "WARNING:tensorflow:Skipping full serialization of Keras layer <keras.src.layers.core.lambda_layer.Lambda object at 0x7fbb00431070>, because it is not built.\n",
      "W0107 23:50:02.160941 140443736708928 save_impl.py:66] Skipping full serialization of Keras layer <keras.src.layers.core.lambda_layer.Lambda object at 0x7fbb00431070>, because it is not built.\n",
      "I0107 23:50:08.715152 140443736708928 save.py:274] Found untraced functions such as WeightSharedConvolutionalBoxPredictor_layer_call_fn, WeightSharedConvolutionalBoxPredictor_layer_call_and_return_conditional_losses, WeightSharedConvolutionalBoxHead_layer_call_fn, WeightSharedConvolutionalBoxHead_layer_call_and_return_conditional_losses, WeightSharedConvolutionalClassHead_layer_call_fn while saving (showing 5 of 173). These functions will not be directly callable after loading.\n",
      "INFO:tensorflow:Assets written to: Tensorflow/workspace/models/my_ssd_mobnet/export/saved_model/assets\n",
      "I0107 23:50:11.924292 140443736708928 builder_impl.py:804] Assets written to: Tensorflow/workspace/models/my_ssd_mobnet/export/saved_model/assets\n",
      "I0107 23:50:12.122622 140443736708928 fingerprinting_utils.py:48] Writing fingerprint to Tensorflow/workspace/models/my_ssd_mobnet/export/saved_model/fingerprint.pb\n",
      "INFO:tensorflow:Writing pipeline config file to Tensorflow/workspace/models/my_ssd_mobnet/export/pipeline.config\n",
      "I0107 23:50:12.464688 140443736708928 config_util.py:253] Writing pipeline config file to Tensorflow/workspace/models/my_ssd_mobnet/export/pipeline.config\n"
     ]
    }
   ],
   "source": [
    "!{command}"
   ]
  },
  {
   "cell_type": "markdown",
   "metadata": {
    "id": "VtUw73FHpfDK"
   },
   "source": [
    "# 12. Conversion to TFLite"
   ]
  },
  {
   "cell_type": "code",
   "execution_count": 22,
   "metadata": {
    "id": "XviMtewLpfDK"
   },
   "outputs": [],
   "source": [
    "TFLITE_SCRIPT = os.path.join(paths['APIMODEL_PATH'], 'research', 'object_detection', 'export_tflite_graph_tf2.py ')"
   ]
  },
  {
   "cell_type": "code",
   "execution_count": 23,
   "metadata": {
    "id": "us86cjC4pfDL"
   },
   "outputs": [],
   "source": [
    "command = \"python {} --pipeline_config_path={} --trained_checkpoint_dir={} --output_directory={}\".format(TFLITE_SCRIPT ,files['PIPELINE_CONFIG'], paths['CHECKPOINT_PATH'], paths['TFLITE_PATH'])"
   ]
  },
  {
   "cell_type": "code",
   "execution_count": 24,
   "metadata": {
    "colab": {
     "base_uri": "https://localhost:8080/"
    },
    "id": "n1r5YO3rpfDL",
    "outputId": "5fcdf7a4-eee2-4365-f1ca-1751968379ea"
   },
   "outputs": [
    {
     "name": "stdout",
     "output_type": "stream",
     "text": [
      "python Tensorflow/models/research/object_detection/export_tflite_graph_tf2.py  --pipeline_config_path=Tensorflow/workspace/models/my_ssd_mobnet/pipeline.config --trained_checkpoint_dir=Tensorflow/workspace/models/my_ssd_mobnet --output_directory=Tensorflow/workspace/models/my_ssd_mobnet/tfliteexport\n"
     ]
    }
   ],
   "source": [
    "print(command)"
   ]
  },
  {
   "cell_type": "code",
   "execution_count": 25,
   "metadata": {
    "colab": {
     "base_uri": "https://localhost:8080/"
    },
    "id": "I-xWpHN8pfDL",
    "outputId": "7f6bacd8-d077-43b5-c131-5b081fba24a4"
   },
   "outputs": [
    {
     "name": "stdout",
     "output_type": "stream",
     "text": [
      "2024-01-07 23:50:27.392271: I tensorflow/core/util/port.cc:110] oneDNN custom operations are on. You may see slightly different numerical results due to floating-point round-off errors from different computation orders. To turn them off, set the environment variable `TF_ENABLE_ONEDNN_OPTS=0`.\n",
      "2024-01-07 23:50:27.393724: I tensorflow/tsl/cuda/cudart_stub.cc:28] Could not find cuda drivers on your machine, GPU will not be used.\n",
      "2024-01-07 23:50:27.420719: I tensorflow/tsl/cuda/cudart_stub.cc:28] Could not find cuda drivers on your machine, GPU will not be used.\n",
      "2024-01-07 23:50:27.421054: I tensorflow/core/platform/cpu_feature_guard.cc:182] This TensorFlow binary is optimized to use available CPU instructions in performance-critical operations.\n",
      "To enable the following instructions: AVX2 AVX512F AVX512_VNNI FMA, in other operations, rebuild TensorFlow with the appropriate compiler flags.\n",
      "2024-01-07 23:50:28.009709: W tensorflow/compiler/tf2tensorrt/utils/py_utils.cc:38] TF-TRT Warning: Could not find TensorRT\n",
      "I0107 23:50:31.081684 140071655352128 api.py:460] feature_map_spatial_dims: [(40, 40), (20, 20), (10, 10), (5, 5), (3, 3)]\n",
      "2024-01-07 23:50:32.996456: I tensorflow/compiler/mlir/mlir_graph_optimization_pass.cc:375] MLIR V1 optimization pass is not enabled\n",
      "I0107 23:50:33.466148 140071655352128 api.py:460] feature_map_spatial_dims: [(40, 40), (20, 20), (10, 10), (5, 5), (3, 3)]\n",
      "I0107 23:50:34.255361 140071655352128 signature_serialization.py:148] Function `inference_fn` contains input name(s) resource with unsupported characters which will be renamed to weightsharedconvolutionalboxpredictor_predictiontower_conv2d_3_batchnorm_feature_4_fusedbatchnormv3_readvariableop_1_resource in the SavedModel.\n",
      "I0107 23:50:34.897968 140071655352128 api.py:460] feature_map_spatial_dims: [(40, 40), (20, 20), (10, 10), (5, 5), (3, 3)]\n",
      "WARNING:tensorflow:Skipping full serialization of Keras layer <object_detection.meta_architectures.ssd_meta_arch.SSDMetaArch object at 0x7f648467c1c0>, because it is not built.\n",
      "W0107 23:50:35.639391 140071655352128 save_impl.py:66] Skipping full serialization of Keras layer <object_detection.meta_architectures.ssd_meta_arch.SSDMetaArch object at 0x7f648467c1c0>, because it is not built.\n",
      "WARNING:tensorflow:Skipping full serialization of Keras layer <keras.src.layers.convolutional.separable_conv2d.SeparableConv2D object at 0x7f64841aa310>, because it is not built.\n",
      "W0107 23:50:35.824078 140071655352128 save_impl.py:66] Skipping full serialization of Keras layer <keras.src.layers.convolutional.separable_conv2d.SeparableConv2D object at 0x7f64841aa310>, because it is not built.\n",
      "WARNING:tensorflow:Skipping full serialization of Keras layer <object_detection.core.freezable_batch_norm.FreezableBatchNorm object at 0x7f648418ba00>, because it is not built.\n",
      "W0107 23:50:35.824207 140071655352128 save_impl.py:66] Skipping full serialization of Keras layer <object_detection.core.freezable_batch_norm.FreezableBatchNorm object at 0x7f648418ba00>, because it is not built.\n",
      "WARNING:tensorflow:Skipping full serialization of Keras layer <keras.src.layers.core.lambda_layer.Lambda object at 0x7f64844b5130>, because it is not built.\n",
      "W0107 23:50:35.824288 140071655352128 save_impl.py:66] Skipping full serialization of Keras layer <keras.src.layers.core.lambda_layer.Lambda object at 0x7f64844b5130>, because it is not built.\n",
      "WARNING:tensorflow:Skipping full serialization of Keras layer <keras.src.layers.convolutional.separable_conv2d.SeparableConv2D object at 0x7f64844b5a60>, because it is not built.\n",
      "W0107 23:50:35.824346 140071655352128 save_impl.py:66] Skipping full serialization of Keras layer <keras.src.layers.convolutional.separable_conv2d.SeparableConv2D object at 0x7f64844b5a60>, because it is not built.\n",
      "WARNING:tensorflow:Skipping full serialization of Keras layer <object_detection.core.freezable_batch_norm.FreezableBatchNorm object at 0x7f648443f760>, because it is not built.\n",
      "W0107 23:50:35.824387 140071655352128 save_impl.py:66] Skipping full serialization of Keras layer <object_detection.core.freezable_batch_norm.FreezableBatchNorm object at 0x7f648443f760>, because it is not built.\n",
      "WARNING:tensorflow:Skipping full serialization of Keras layer <keras.src.layers.core.lambda_layer.Lambda object at 0x7f648413c1c0>, because it is not built.\n",
      "W0107 23:50:35.824423 140071655352128 save_impl.py:66] Skipping full serialization of Keras layer <keras.src.layers.core.lambda_layer.Lambda object at 0x7f648413c1c0>, because it is not built.\n",
      "WARNING:tensorflow:Skipping full serialization of Keras layer <keras.src.layers.convolutional.separable_conv2d.SeparableConv2D object at 0x7f647c1addf0>, because it is not built.\n",
      "W0107 23:50:35.824501 140071655352128 save_impl.py:66] Skipping full serialization of Keras layer <keras.src.layers.convolutional.separable_conv2d.SeparableConv2D object at 0x7f647c1addf0>, because it is not built.\n",
      "WARNING:tensorflow:Skipping full serialization of Keras layer <object_detection.core.freezable_batch_norm.FreezableBatchNorm object at 0x7f647c1ad580>, because it is not built.\n",
      "W0107 23:50:35.824536 140071655352128 save_impl.py:66] Skipping full serialization of Keras layer <object_detection.core.freezable_batch_norm.FreezableBatchNorm object at 0x7f647c1ad580>, because it is not built.\n",
      "WARNING:tensorflow:Skipping full serialization of Keras layer <keras.src.layers.core.lambda_layer.Lambda object at 0x7f647c1adee0>, because it is not built.\n",
      "W0107 23:50:35.824571 140071655352128 save_impl.py:66] Skipping full serialization of Keras layer <keras.src.layers.core.lambda_layer.Lambda object at 0x7f647c1adee0>, because it is not built.\n",
      "WARNING:tensorflow:Skipping full serialization of Keras layer <keras.src.layers.convolutional.separable_conv2d.SeparableConv2D object at 0x7f647c3bb5b0>, because it is not built.\n",
      "W0107 23:50:35.824601 140071655352128 save_impl.py:66] Skipping full serialization of Keras layer <keras.src.layers.convolutional.separable_conv2d.SeparableConv2D object at 0x7f647c3bb5b0>, because it is not built.\n",
      "WARNING:tensorflow:Skipping full serialization of Keras layer <object_detection.core.freezable_batch_norm.FreezableBatchNorm object at 0x7f647c3bbb80>, because it is not built.\n",
      "W0107 23:50:35.824634 140071655352128 save_impl.py:66] Skipping full serialization of Keras layer <object_detection.core.freezable_batch_norm.FreezableBatchNorm object at 0x7f647c3bbb80>, because it is not built.\n",
      "WARNING:tensorflow:Skipping full serialization of Keras layer <keras.src.layers.core.lambda_layer.Lambda object at 0x7f647c3bbf70>, because it is not built.\n",
      "W0107 23:50:35.824665 140071655352128 save_impl.py:66] Skipping full serialization of Keras layer <keras.src.layers.core.lambda_layer.Lambda object at 0x7f647c3bbf70>, because it is not built.\n",
      "WARNING:tensorflow:Skipping full serialization of Keras layer <object_detection.core.freezable_batch_norm.FreezableBatchNorm object at 0x7f648782ce20>, because it is not built.\n",
      "W0107 23:50:35.824700 140071655352128 save_impl.py:66] Skipping full serialization of Keras layer <object_detection.core.freezable_batch_norm.FreezableBatchNorm object at 0x7f648782ce20>, because it is not built.\n",
      "WARNING:tensorflow:Skipping full serialization of Keras layer <keras.src.layers.core.lambda_layer.Lambda object at 0x7f64844e9820>, because it is not built.\n",
      "W0107 23:50:35.824732 140071655352128 save_impl.py:66] Skipping full serialization of Keras layer <keras.src.layers.core.lambda_layer.Lambda object at 0x7f64844e9820>, because it is not built.\n",
      "WARNING:tensorflow:Skipping full serialization of Keras layer <object_detection.core.freezable_batch_norm.FreezableBatchNorm object at 0x7f648403b100>, because it is not built.\n",
      "W0107 23:50:35.824763 140071655352128 save_impl.py:66] Skipping full serialization of Keras layer <object_detection.core.freezable_batch_norm.FreezableBatchNorm object at 0x7f648403b100>, because it is not built.\n",
      "WARNING:tensorflow:Skipping full serialization of Keras layer <keras.src.layers.core.lambda_layer.Lambda object at 0x7f648403b7f0>, because it is not built.\n",
      "W0107 23:50:35.824797 140071655352128 save_impl.py:66] Skipping full serialization of Keras layer <keras.src.layers.core.lambda_layer.Lambda object at 0x7f648403b7f0>, because it is not built.\n",
      "WARNING:tensorflow:Skipping full serialization of Keras layer <object_detection.core.freezable_batch_norm.FreezableBatchNorm object at 0x7f648403b820>, because it is not built.\n",
      "W0107 23:50:35.824827 140071655352128 save_impl.py:66] Skipping full serialization of Keras layer <object_detection.core.freezable_batch_norm.FreezableBatchNorm object at 0x7f648403b820>, because it is not built.\n",
      "WARNING:tensorflow:Skipping full serialization of Keras layer <keras.src.layers.core.lambda_layer.Lambda object at 0x7f648403b910>, because it is not built.\n",
      "W0107 23:50:35.824861 140071655352128 save_impl.py:66] Skipping full serialization of Keras layer <keras.src.layers.core.lambda_layer.Lambda object at 0x7f648403b910>, because it is not built.\n",
      "WARNING:tensorflow:Skipping full serialization of Keras layer <object_detection.core.freezable_batch_norm.FreezableBatchNorm object at 0x7f6484424be0>, because it is not built.\n",
      "W0107 23:50:35.824890 140071655352128 save_impl.py:66] Skipping full serialization of Keras layer <object_detection.core.freezable_batch_norm.FreezableBatchNorm object at 0x7f6484424be0>, because it is not built.\n",
      "WARNING:tensorflow:Skipping full serialization of Keras layer <keras.src.layers.core.lambda_layer.Lambda object at 0x7f6484424130>, because it is not built.\n",
      "W0107 23:50:35.824924 140071655352128 save_impl.py:66] Skipping full serialization of Keras layer <keras.src.layers.core.lambda_layer.Lambda object at 0x7f6484424130>, because it is not built.\n",
      "WARNING:tensorflow:Skipping full serialization of Keras layer <object_detection.core.freezable_batch_norm.FreezableBatchNorm object at 0x7f64842e66d0>, because it is not built.\n",
      "W0107 23:50:35.824953 140071655352128 save_impl.py:66] Skipping full serialization of Keras layer <object_detection.core.freezable_batch_norm.FreezableBatchNorm object at 0x7f64842e66d0>, because it is not built.\n",
      "WARNING:tensorflow:Skipping full serialization of Keras layer <keras.src.layers.core.lambda_layer.Lambda object at 0x7f647c11a1f0>, because it is not built.\n",
      "W0107 23:50:35.824988 140071655352128 save_impl.py:66] Skipping full serialization of Keras layer <keras.src.layers.core.lambda_layer.Lambda object at 0x7f647c11a1f0>, because it is not built.\n",
      "WARNING:tensorflow:Skipping full serialization of Keras layer <object_detection.core.freezable_batch_norm.FreezableBatchNorm object at 0x7f648414d100>, because it is not built.\n",
      "W0107 23:50:35.825023 140071655352128 save_impl.py:66] Skipping full serialization of Keras layer <object_detection.core.freezable_batch_norm.FreezableBatchNorm object at 0x7f648414d100>, because it is not built.\n",
      "WARNING:tensorflow:Skipping full serialization of Keras layer <keras.src.layers.core.lambda_layer.Lambda object at 0x7f648414d910>, because it is not built.\n",
      "W0107 23:50:35.825056 140071655352128 save_impl.py:66] Skipping full serialization of Keras layer <keras.src.layers.core.lambda_layer.Lambda object at 0x7f648414d910>, because it is not built.\n",
      "WARNING:tensorflow:Skipping full serialization of Keras layer <object_detection.core.freezable_batch_norm.FreezableBatchNorm object at 0x7f648414d340>, because it is not built.\n",
      "W0107 23:50:35.825092 140071655352128 save_impl.py:66] Skipping full serialization of Keras layer <object_detection.core.freezable_batch_norm.FreezableBatchNorm object at 0x7f648414d340>, because it is not built.\n",
      "WARNING:tensorflow:Skipping full serialization of Keras layer <keras.src.layers.core.lambda_layer.Lambda object at 0x7f648414ddf0>, because it is not built.\n",
      "W0107 23:50:35.825123 140071655352128 save_impl.py:66] Skipping full serialization of Keras layer <keras.src.layers.core.lambda_layer.Lambda object at 0x7f648414ddf0>, because it is not built.\n",
      "WARNING:tensorflow:Skipping full serialization of Keras layer <object_detection.core.freezable_batch_norm.FreezableBatchNorm object at 0x7f6484172160>, because it is not built.\n",
      "W0107 23:50:35.825158 140071655352128 save_impl.py:66] Skipping full serialization of Keras layer <object_detection.core.freezable_batch_norm.FreezableBatchNorm object at 0x7f6484172160>, because it is not built.\n",
      "WARNING:tensorflow:Skipping full serialization of Keras layer <keras.src.layers.core.lambda_layer.Lambda object at 0x7f64841728e0>, because it is not built.\n",
      "W0107 23:50:35.825192 140071655352128 save_impl.py:66] Skipping full serialization of Keras layer <keras.src.layers.core.lambda_layer.Lambda object at 0x7f64841728e0>, because it is not built.\n",
      "WARNING:tensorflow:Skipping full serialization of Keras layer <object_detection.core.freezable_batch_norm.FreezableBatchNorm object at 0x7f64841a8a90>, because it is not built.\n",
      "W0107 23:50:35.825223 140071655352128 save_impl.py:66] Skipping full serialization of Keras layer <object_detection.core.freezable_batch_norm.FreezableBatchNorm object at 0x7f64841a8a90>, because it is not built.\n",
      "WARNING:tensorflow:Skipping full serialization of Keras layer <keras.src.layers.core.lambda_layer.Lambda object at 0x7f647c3c2e20>, because it is not built.\n",
      "W0107 23:50:35.825257 140071655352128 save_impl.py:66] Skipping full serialization of Keras layer <keras.src.layers.core.lambda_layer.Lambda object at 0x7f647c3c2e20>, because it is not built.\n",
      "WARNING:tensorflow:Skipping full serialization of Keras layer <object_detection.core.freezable_batch_norm.FreezableBatchNorm object at 0x7f647c3c2520>, because it is not built.\n",
      "W0107 23:50:35.825286 140071655352128 save_impl.py:66] Skipping full serialization of Keras layer <object_detection.core.freezable_batch_norm.FreezableBatchNorm object at 0x7f647c3c2520>, because it is not built.\n",
      "WARNING:tensorflow:Skipping full serialization of Keras layer <keras.src.layers.core.lambda_layer.Lambda object at 0x7f647c3c2af0>, because it is not built.\n",
      "W0107 23:50:35.825321 140071655352128 save_impl.py:66] Skipping full serialization of Keras layer <keras.src.layers.core.lambda_layer.Lambda object at 0x7f647c3c2af0>, because it is not built.\n",
      "WARNING:tensorflow:Skipping full serialization of Keras layer <object_detection.core.freezable_batch_norm.FreezableBatchNorm object at 0x7f647c3c2b20>, because it is not built.\n",
      "W0107 23:50:35.825350 140071655352128 save_impl.py:66] Skipping full serialization of Keras layer <object_detection.core.freezable_batch_norm.FreezableBatchNorm object at 0x7f647c3c2b20>, because it is not built.\n",
      "WARNING:tensorflow:Skipping full serialization of Keras layer <keras.src.layers.core.lambda_layer.Lambda object at 0x7f647c3c24f0>, because it is not built.\n",
      "W0107 23:50:35.825385 140071655352128 save_impl.py:66] Skipping full serialization of Keras layer <keras.src.layers.core.lambda_layer.Lambda object at 0x7f647c3c24f0>, because it is not built.\n",
      "WARNING:tensorflow:Skipping full serialization of Keras layer <object_detection.core.freezable_batch_norm.FreezableBatchNorm object at 0x7f64843fb610>, because it is not built.\n",
      "W0107 23:50:35.825417 140071655352128 save_impl.py:66] Skipping full serialization of Keras layer <object_detection.core.freezable_batch_norm.FreezableBatchNorm object at 0x7f64843fb610>, because it is not built.\n",
      "WARNING:tensorflow:Skipping full serialization of Keras layer <keras.src.layers.core.lambda_layer.Lambda object at 0x7f647c0faa30>, because it is not built.\n",
      "W0107 23:50:35.825450 140071655352128 save_impl.py:66] Skipping full serialization of Keras layer <keras.src.layers.core.lambda_layer.Lambda object at 0x7f647c0faa30>, because it is not built.\n",
      "WARNING:tensorflow:Skipping full serialization of Keras layer <object_detection.core.freezable_batch_norm.FreezableBatchNorm object at 0x7f64844762b0>, because it is not built.\n",
      "W0107 23:50:35.825483 140071655352128 save_impl.py:66] Skipping full serialization of Keras layer <object_detection.core.freezable_batch_norm.FreezableBatchNorm object at 0x7f64844762b0>, because it is not built.\n",
      "WARNING:tensorflow:Skipping full serialization of Keras layer <keras.src.layers.core.lambda_layer.Lambda object at 0x7f64844c6310>, because it is not built.\n",
      "W0107 23:50:35.825514 140071655352128 save_impl.py:66] Skipping full serialization of Keras layer <keras.src.layers.core.lambda_layer.Lambda object at 0x7f64844c6310>, because it is not built.\n",
      "WARNING:tensorflow:Skipping full serialization of Keras layer <object_detection.core.freezable_batch_norm.FreezableBatchNorm object at 0x7f64844c6c10>, because it is not built.\n",
      "W0107 23:50:35.825550 140071655352128 save_impl.py:66] Skipping full serialization of Keras layer <object_detection.core.freezable_batch_norm.FreezableBatchNorm object at 0x7f64844c6c10>, because it is not built.\n",
      "WARNING:tensorflow:Skipping full serialization of Keras layer <keras.src.layers.core.lambda_layer.Lambda object at 0x7f6484401d30>, because it is not built.\n",
      "W0107 23:50:35.825580 140071655352128 save_impl.py:66] Skipping full serialization of Keras layer <keras.src.layers.core.lambda_layer.Lambda object at 0x7f6484401d30>, because it is not built.\n",
      "WARNING:tensorflow:Skipping full serialization of Keras layer <object_detection.core.freezable_batch_norm.FreezableBatchNorm object at 0x7f64841609a0>, because it is not built.\n",
      "W0107 23:50:35.825614 140071655352128 save_impl.py:66] Skipping full serialization of Keras layer <object_detection.core.freezable_batch_norm.FreezableBatchNorm object at 0x7f64841609a0>, because it is not built.\n",
      "WARNING:tensorflow:Skipping full serialization of Keras layer <keras.src.layers.core.lambda_layer.Lambda object at 0x7f64841600a0>, because it is not built.\n",
      "W0107 23:50:35.825648 140071655352128 save_impl.py:66] Skipping full serialization of Keras layer <keras.src.layers.core.lambda_layer.Lambda object at 0x7f64841600a0>, because it is not built.\n",
      "WARNING:tensorflow:Skipping full serialization of Keras layer <object_detection.core.freezable_batch_norm.FreezableBatchNorm object at 0x7f64841600d0>, because it is not built.\n",
      "W0107 23:50:35.825678 140071655352128 save_impl.py:66] Skipping full serialization of Keras layer <object_detection.core.freezable_batch_norm.FreezableBatchNorm object at 0x7f64841600d0>, because it is not built.\n",
      "WARNING:tensorflow:Skipping full serialization of Keras layer <keras.src.layers.core.lambda_layer.Lambda object at 0x7f6484184160>, because it is not built.\n",
      "W0107 23:50:35.825713 140071655352128 save_impl.py:66] Skipping full serialization of Keras layer <keras.src.layers.core.lambda_layer.Lambda object at 0x7f6484184160>, because it is not built.\n",
      "I0107 23:50:42.506842 140071655352128 save.py:274] Found untraced functions such as WeightSharedConvolutionalBoxPredictor_layer_call_fn, WeightSharedConvolutionalBoxPredictor_layer_call_and_return_conditional_losses, WeightSharedConvolutionalBoxHead_layer_call_fn, WeightSharedConvolutionalBoxHead_layer_call_and_return_conditional_losses, WeightSharedConvolutionalClassHead_layer_call_fn while saving (showing 5 of 173). These functions will not be directly callable after loading.\n",
      "INFO:tensorflow:Assets written to: Tensorflow/workspace/models/my_ssd_mobnet/tfliteexport/saved_model/assets\n",
      "I0107 23:50:45.326477 140071655352128 builder_impl.py:804] Assets written to: Tensorflow/workspace/models/my_ssd_mobnet/tfliteexport/saved_model/assets\n",
      "I0107 23:50:45.516123 140071655352128 fingerprinting_utils.py:48] Writing fingerprint to Tensorflow/workspace/models/my_ssd_mobnet/tfliteexport/saved_model/fingerprint.pb\n"
     ]
    }
   ],
   "source": [
    "!{command}"
   ]
  },
  {
   "cell_type": "code",
   "execution_count": 26,
   "metadata": {
    "id": "iJfYMbN6pfDL"
   },
   "outputs": [],
   "source": [
    "FROZEN_TFLITE_PATH = os.path.join(paths['TFLITE_PATH'], 'saved_model')\n",
    "TFLITE_MODEL = os.path.join(paths['TFLITE_PATH'], 'saved_model', 'detect.tflite')"
   ]
  },
  {
   "cell_type": "code",
   "execution_count": 27,
   "metadata": {},
   "outputs": [],
   "source": [
    "command = \"tflite_convert \\\n",
    "--saved_model_dir={} \\\n",
    "--output_file={} \\\n",
    "--input_shapes=1,300,300,3 \\\n",
    "--input_arrays=normalized_input_image_tensor \\\n",
    "--output_arrays='TFLite_Detection_PostProcess','TFLite_Detection_PostProcess:1','TFLite_Detection_PostProcess:2','TFLite_Detection_PostProcess:3' \\\n",
    "--inference_type=FLOAT \\\n",
    "--allow_custom_ops\".format(FROZEN_TFLITE_PATH, TFLITE_MODEL, )"
   ]
  },
  {
   "cell_type": "code",
   "execution_count": 28,
   "metadata": {
    "colab": {
     "base_uri": "https://localhost:8080/"
    },
    "id": "E8GwUeoFpfDL",
    "outputId": "fac43ea4-cc85-471b-a362-e994b06fd583"
   },
   "outputs": [
    {
     "name": "stdout",
     "output_type": "stream",
     "text": [
      "tflite_convert --saved_model_dir=Tensorflow/workspace/models/my_ssd_mobnet/tfliteexport/saved_model --output_file=Tensorflow/workspace/models/my_ssd_mobnet/tfliteexport/saved_model/detect.tflite --input_shapes=1,300,300,3 --input_arrays=normalized_input_image_tensor --output_arrays='TFLite_Detection_PostProcess','TFLite_Detection_PostProcess:1','TFLite_Detection_PostProcess:2','TFLite_Detection_PostProcess:3' --inference_type=FLOAT --allow_custom_ops\n"
     ]
    }
   ],
   "source": [
    "print(command)"
   ]
  },
  {
   "cell_type": "code",
   "execution_count": 29,
   "metadata": {
    "colab": {
     "base_uri": "https://localhost:8080/"
    },
    "id": "Nbd7gqHMpfDL",
    "outputId": "7c8fe6d5-2415-4641-8548-39d425c202f7"
   },
   "outputs": [
    {
     "name": "stdout",
     "output_type": "stream",
     "text": [
      "2024-01-07 23:50:54.791645: I tensorflow/core/util/port.cc:110] oneDNN custom operations are on. You may see slightly different numerical results due to floating-point round-off errors from different computation orders. To turn them off, set the environment variable `TF_ENABLE_ONEDNN_OPTS=0`.\n",
      "2024-01-07 23:50:54.793092: I tensorflow/tsl/cuda/cudart_stub.cc:28] Could not find cuda drivers on your machine, GPU will not be used.\n",
      "2024-01-07 23:50:54.821043: I tensorflow/tsl/cuda/cudart_stub.cc:28] Could not find cuda drivers on your machine, GPU will not be used.\n",
      "2024-01-07 23:50:54.821349: I tensorflow/core/platform/cpu_feature_guard.cc:182] This TensorFlow binary is optimized to use available CPU instructions in performance-critical operations.\n",
      "To enable the following instructions: AVX2 AVX512F AVX512_VNNI FMA, in other operations, rebuild TensorFlow with the appropriate compiler flags.\n",
      "2024-01-07 23:50:55.425336: W tensorflow/compiler/tf2tensorrt/utils/py_utils.cc:38] TF-TRT Warning: Could not find TensorRT\n",
      "2024-01-07 23:51:00.673120: W tensorflow/compiler/mlir/lite/python/tf_tfl_flatbuffer_helpers.cc:364] Ignored output_format.\n",
      "2024-01-07 23:51:00.673165: W tensorflow/compiler/mlir/lite/python/tf_tfl_flatbuffer_helpers.cc:367] Ignored drop_control_dependency.\n",
      "2024-01-07 23:51:00.673696: I tensorflow/cc/saved_model/reader.cc:45] Reading SavedModel from: Tensorflow/workspace/models/my_ssd_mobnet/tfliteexport/saved_model\n",
      "2024-01-07 23:51:00.702479: I tensorflow/cc/saved_model/reader.cc:91] Reading meta graph with tags { serve }\n",
      "2024-01-07 23:51:00.702520: I tensorflow/cc/saved_model/reader.cc:132] Reading SavedModel debug info (if present) from: Tensorflow/workspace/models/my_ssd_mobnet/tfliteexport/saved_model\n",
      "2024-01-07 23:51:00.752684: I tensorflow/compiler/mlir/mlir_graph_optimization_pass.cc:375] MLIR V1 optimization pass is not enabled\n",
      "2024-01-07 23:51:00.775698: I tensorflow/cc/saved_model/loader.cc:231] Restoring SavedModel bundle.\n",
      "2024-01-07 23:51:01.227239: I tensorflow/cc/saved_model/loader.cc:215] Running initialization op on SavedModel bundle at path: Tensorflow/workspace/models/my_ssd_mobnet/tfliteexport/saved_model\n",
      "2024-01-07 23:51:01.397627: I tensorflow/cc/saved_model/loader.cc:314] SavedModel load for tags { serve }; Status: success: OK. Took 723932 microseconds.\n",
      "2024-01-07 23:51:01.590355: I tensorflow/compiler/mlir/tensorflow/utils/dump_mlir_util.cc:255] disabling MLIR crash reproducer, set env var `MLIR_CRASH_REPRODUCER_DIRECTORY` to enable.\n",
      "2024-01-07 23:51:02.056070: I tensorflow/compiler/mlir/lite/flatbuffer_export.cc:2138] Estimated count of arithmetic ops: 1.718 G  ops, equivalently 0.859 G  MACs\n"
     ]
    }
   ],
   "source": [
    "!{command}"
   ]
  },
  {
   "cell_type": "markdown",
   "metadata": {
    "id": "5NQqZRdA21Uc"
   },
   "source": [
    "# 13. Zip and Export Models "
   ]
  },
  {
   "cell_type": "code",
   "execution_count": 30,
   "metadata": {
    "id": "tTVTGCQp2ZJJ"
   },
   "outputs": [],
   "source": [
    "!tar -czf models.tar.gz {paths['CHECKPOINT_PATH']}"
   ]
  }
 ],
 "metadata": {
  "accelerator": "GPU",
  "colab": {
   "name": "3. Training and Detection.ipynb",
   "provenance": []
  },
  "kernelspec": {
   "display_name": "tfod",
   "language": "python",
   "name": "tfod"
  },
  "language_info": {
   "codemirror_mode": {
    "name": "ipython",
    "version": 3
   },
   "file_extension": ".py",
   "mimetype": "text/x-python",
   "name": "python",
   "nbconvert_exporter": "python",
   "pygments_lexer": "ipython3",
   "version": "3.8.10"
  }
 },
 "nbformat": 4,
 "nbformat_minor": 4
}
